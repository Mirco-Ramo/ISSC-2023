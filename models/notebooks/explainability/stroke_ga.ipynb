{
 "cells": [
  {
   "cell_type": "markdown",
   "source": [
    "# Stroke GA Algorithm"
   ],
   "metadata": {
    "collapsed": false
   }
  },
  {
   "cell_type": "markdown",
   "source": [
    "Given a desired label, we search for the combination of touches that maximises the probability assigned to that label.\n",
    "Such combination is the \"ideal\" input stroke that the network is looking for in order to predict that label"
   ],
   "metadata": {
    "collapsed": false
   }
  },
  {
   "cell_type": "code",
   "execution_count": 1,
   "outputs": [],
   "source": [
    "import os\n",
    "import sys\n",
    "import random\n",
    "import warnings\n",
    "import numpy as np\n",
    "\n",
    "\n",
    "from tokenizers import Tokenizer\n",
    "\n",
    "from deap import base\n",
    "from deap import creator\n",
    "from deap import tools\n",
    "from deap import algorithms\n",
    "\n",
    "from pathlib import Path\n",
    "from IPython.display import SVG, display\n",
    "\n",
    "import matplotlib.pyplot as plt\n",
    "import seaborn as sns\n",
    "from torch.utils.data import DataLoader"
   ],
   "metadata": {
    "collapsed": false
   }
  },
  {
   "cell_type": "markdown",
   "source": [
    "### Enable Hot Reload"
   ],
   "metadata": {
    "collapsed": false
   }
  },
  {
   "cell_type": "code",
   "execution_count": 2,
   "outputs": [],
   "source": [
    "%load_ext autoreload\n",
    "%autoreload 2"
   ],
   "metadata": {
    "collapsed": false
   }
  },
  {
   "cell_type": "markdown",
   "source": [
    "### Edit Python path\n",
    "Add the `models` directory to Python's `path`."
   ],
   "metadata": {
    "collapsed": false
   }
  },
  {
   "cell_type": "code",
   "execution_count": 3,
   "outputs": [
    {
     "name": "stdout",
     "output_type": "stream",
     "text": [
      "I:\\My Drive\\master_thesis_experiments\\glyph-recognition-experiments\n"
     ]
    }
   ],
   "source": [
    "b_paths = [os.path.abspath(os.path.join('..', '..', '..')), os.path.abspath(os.path.join('..', '..')), os.path.abspath(os.path.join('..', '..', 'scripts'))]\n",
    "for b_path in b_paths:\n",
    "    if b_path not in sys.path:\n",
    "        sys.path.append(b_path)\n",
    "\n",
    "BASE_DIR = Path(os.getcwd()).parent.parent.parent.resolve()\n",
    "%cd $BASE_DIR"
   ],
   "metadata": {
    "collapsed": false
   }
  },
  {
   "cell_type": "markdown",
   "source": [
    "### Ignore Warnings"
   ],
   "metadata": {
    "collapsed": false
   }
  },
  {
   "cell_type": "code",
   "execution_count": 4,
   "outputs": [],
   "source": [
    "warnings.filterwarnings('ignore')"
   ],
   "metadata": {
    "collapsed": false
   }
  },
  {
   "cell_type": "markdown",
   "source": [
    "### Import Helpers"
   ],
   "metadata": {
    "collapsed": false
   }
  },
  {
   "cell_type": "code",
   "execution_count": 5,
   "outputs": [],
   "source": [
    "from models.scripts.transformer.PreEncoders import Conv1DTransformer\n",
    "from models.scripts.transformer.Transformer import Transformer\n",
    "from models.scripts.transformer.utils import strokes_to_svg, seed_all, load_json_hypeparameters, pad_collate_fn\n",
    "from models.scripts.defaults import *"
   ],
   "metadata": {
    "collapsed": false
   }
  },
  {
   "cell_type": "code",
   "execution_count": 6,
   "outputs": [],
   "source": [
    "N_STROKES_TO_OPTIMIZE = 1 # for now, working only with 1\n",
    "VERSION = 'en-en11'\n",
    "SEED = 2021\n",
    "LABEL = \"C\"\n",
    "seed_all(SEED)"
   ],
   "metadata": {
    "collapsed": false
   }
  },
  {
   "cell_type": "markdown",
   "source": [
    "### Load vocab"
   ],
   "metadata": {
    "collapsed": false
   }
  },
  {
   "cell_type": "code",
   "execution_count": 7,
   "outputs": [
    {
     "name": "stdout",
     "output_type": "stream",
     "text": [
      "Number of Tokens: 2000\n",
      "\n",
      "['!', '!!', '!!!', '\"', '#', '$', '%', '&', \"'\", \"'d\", \"'ll\", \"'m\", \"'re\", \"'s\", \"'t\", \"'ve\", '(', ')', '),', ').', '*', '+', ',', ',\"', '-', '.', '.\"', '..', '...', '....', '.....', '........', '/', '0', '1', '2', '3', '4', '5', '6', '7', '8', '9', ':', ';', '<', '<bos>', '<eos>', '<pad>', '<unk>', '=', '>', '?', '??', '@', 'A', 'B', 'BC', 'C', 'D', 'E', 'ER', 'F', 'G', 'H', 'I', 'IN', 'It', 'J', 'K', 'L', 'M', 'N', 'O', 'OT', 'P', 'Q', 'R', 'S', 'T', 'The', 'U', 'V', 'W', 'We', 'X', 'Y', 'Z', '[', '\\\\', ']', '^', '_', '`', 'a', 'ab', 'able', 'ably', 'abour', 'ac', 'acc', 'ace', 'ach', 'ack', 'act', 'acy', 'ad', 'ade', 'ady', 'af', 'aff', 'ag', 'age', 'ages', 'ague', 'ah', 'ai', 'aid', 'aign', 'ail', 'aim', 'ain', 'ained', 'aining', 'ains', 'air', 'ait', 'aj', 'ajor', 'ak', 'ake', 'aken', 'akes', 'aking', 'al', 'ald', 'ale', 'ales', 'alf', 'alif', 'ality', 'all', 'ally', 'als', 'alth', 'am', 'ama', 'ame', 'ament', 'amer', 'ames', 'amp', 'an', 'anc', 'ance', 'ances', 'and', 'ands', 'ane', 'ang', 'ange', 'anies', 'ank', 'ann', 'ans', 'ant', 'ants', 'any', 'ap', 'aper', 'app', 'aps', 'ar', 'arch', 'ard', 'ards', 'are', 'ared', 'arent', 'aring', 'ark', 'arly', 'arm', 'arr', 'ars', 'art', 'ary', 'as', 'ase', 'ased', 'ases', 'ash', 'ason', 'ass', 'ast', 'at', 'ata', 'atch', 'ate', 'ated', 'ately', 'ater', 'ates', 'ath', 'ather', 'ating', 'ation', 'ational', 'ations', 'ative', 'ator', 'ats', 'att', 'atur', 'ature', 'au', 'aug', 'augh', 'ault', 'ause', 'aut', 'av', 'ave', 'aving', 'aw', 'ax', 'ay', 'ays', 'az', 'b', 'bably', 'ball', 'be', 'ber', 'bers', 'ble', 'body', 'br', 'bs', 'by', 'c', 'cc', 'ce', 'ced', 'cent', 'cept', 'ces', 'cess', 'ch', 'ched', 'chn', 'chool', 'ck', 'cl', 'co', 'com', 'con', 'conom', 'ct', 'ction', 'd', 'day', 'der', 'du', 'duc', 'e', 'ead', 'eal', 'ear', 'ec', 'ect', 'ed', 'ee', 'ef', 'eg', 'el', 'ele', 'ell', 'els', 'em', 'ember', 'ement', 'empt', 'en', 'enc', 'ence', 'ency', 'end', 'ended', 'ending', 'ens', 'ense', 'ent', 'ention', 'ents', 'ep', 'er', 'eral', 'ere', 'ered', 'erest', 'ering', 'ern', 'ers', 'erson', 'ert', 'ertain', 'erv', 'ery', 'es', 'ess', 'est', 'et', 'ets', 'ever', 'ew', 'ex', 'f', 'ff', 'for', 'fore', 'form', 'ft', 'fter', 'ful', 'g', 'gan', 'ge', 'ged', 'ger', 'ges', 'gest', 'get', 'gg', 'ggest', 'gin', 'ging', 'gr', 'gram', 'gress', 'gy', 'h', 'ham', 'han', 'he', 'head', 'hed', 'hen', 'her', 'here', 'hes', 'hing', 'hip', 'ht', 'i', 'ia', 'ial', 'ially', 'ian', 'ians', 'ib', 'ible', 'ic', 'ical', 'ically', 'ice', 'ices', 'ich', 'ick', 'ics', 'ict', 'id', 'iday', 'idd', 'ide', 'ided', 'idence', 'ident', 'ider', 'ides', 'ie', 'ied', 'ief', 'ield', 'ience', 'ient', 'ier', 'ies', 'iet', 'iety', 'iew', 'if', 'ife', 'iff', 'ific', 'ified', 'ig', 'igh', 'ight', 'ign', 'ik', 'il', 'ild', 'ile', 'ility', 'ill', 'illion', 'ily', 'im', 'imate', 'ime', 'imes', 'imin', 'in', 'ina', 'inc', 'ince', 'ind', 'ine', 'ined', 'ines', 'iness', 'ing', 'ings', 'ink', 'ins', 'int', 'io', 'iol', 'ion', 'ional', 'ions', 'ior', 'ious', 'ip', 'ir', 'ird', 'ire', 'irect', 'ired', 'irl', 'is', 'ise', 'ised', 'ish', 'ished', 'ising', 'ision', 'ism', 'ison', 'iss', 'ission', 'ist', 'ister', 'ists', 'it', 'ital', 'ite', 'ited', 'ith', 'ither', 'ities', 'ition', 'itions', 'itive', 'its', 'itt', 'ittle', 'ity', 'iv', 'ive', 'ivers', 'iversity', 'ives', 'ix', 'iz', 'ize', 'ized', 'j', 'ject', 'k', 'ke', 'ked', 'king', 'ks', 'l', 'land', 'ld', 'le', 'lease', 'lect', 'led', 'ler', 'les', 'less', 'ley', 'lf', 'li', 'line', 'ling', 'lish', 'll', 'lling', 'lud', 'ly', 'm', 'man', 'mber', 'me', 'med', 'ment', 'ments', 'mer', 'meric', 'min', 'minist', 'most', 'ms', 'my', 'n', 'nce', 'nd', 'nder', 'ne', 'ned', 'ner', 'nes', 'ness', 'ney', 'ng', 'ning', 'not', 'nt', 'ny', 'o', 'ob', 'oc', 'ock', 'ocr', 'ocrat', 'od', 'ody', 'oe', 'of', 'og', 'oh', 'ohn', 'oice', 'oint', 'ok', 'ol', 'old', 'oll', 'olog', 'ology', 'om', 'ome', 'omet', 'omm', 'omp', 'on', 'ond', 'ondon', 'one', 'ones', 'oney', 'ong', 'ons', 'ont', 'ony', 'oo', 'ood', 'ook', 'ool', 'oot', 'op', 'ope', 'ople', 'or', 'ord', 'ording', 'ore', 'ored', 'ories', 'ork', 'orm', 'orn', 'ors', 'ort', 'orth', 'orts', 'ortun', 'ory', 'os', 'ose', 'osed', 'osp', 'oss', 'ost', 'ot', 'ote', 'oth', 'other', 'ots', 'ott', 'ou', 'oug', 'ough', 'ought', 'ould', 'oun', 'ounc', 'ound', 'ounds', 'ount', 'oup', 'our', 'ourn', 'ours', 'ous', 'ouse', 'out', 'outh', 'ov', 'ove', 'ow', 'ower', 'owing', 'own', 'ox', 'oy', 'p', 'pe', 'pec', 'pect', 'per', 'ph', 'pl', 'ploy', 'port', 'pp', 'pped', 'pr', 'pt', 'q', 'qu', 'r', 'ra', 'ract', 'ral', 'rap', 'rat', 'ration', 'raw', 're', 'ready', 'ream', 'reat', 'red', 'ree', 'reed', 'reen', 'ren', 'rent', 'res', 'resent', 'resident', 'ress', 'rest', 'ret', 'rew', 'ri', 'rib', 'ric', 'ried', 'riend', 'ries', 'rit', 'ro', 'rop', 'ror', 'ross', 'ru', 'ruct', 'rug', 'rupt', 'ry', 's', 'se', 'sec', 'sel', 'self', 'selves', 'sh', 'side', 'so', 'son', 'ss', 'st', 'stand', 'stem', 'ster', 'sw', 't', 'te', 'ted', 'ten', 'ter', 'tern', 'ters', 'th', 'the', 'ther', 'thing', 'tic', 'ting', 'to', 'ton', 'ts', 'ty', 'u', 'ual', 'ually', 'ub', 'ubl', 'ublic', 'uc', 'uch', 'uck', 'ud', 'ue', 'ued', 'ues', 'uff', 'ug', 'uge', 'ul', 'ular', 'ulation', 'ull', 'ully', 'ult', 'uly', 'um', 'ump', 'un', 'unch', 'und', 'une', 'unt', 'up', 'ur', 'ure', 'ured', 'ures', 'uring', 'urity', 'urn', 'uro', 'urs', 'ury', 'us', 'use', 'used', 'ush', 'uss', 'ust', 'ut', 'ute', 'utes', 'uth', 'uthor', 'ution', 'v', 've', 'ved', 'vel', 'velop', 'ven', 'vent', 'ver', 'vern', 'vernment', 'vers', 'very', 'ves', 'view', 'ving', 'vious', 'viously', 'w', 'ward', 'wards', 'way', 'ways', 'we', 'ween', 'wh', 'where', 'wn', 'ww', 'x', 'xit', 'xt', 'y', 'year', 'ying', 'yp', 'ys', 'z', '{', '|', '}', '~', '¡', '¢', '£', '¤', '¥', '¦', '§', '¨', '©', 'ª', '«', '¬', '®', '¯', '°', '±', '²', '³', '´', 'µ', '¶', '·', '¸', '¹', 'º', '»', '¼', '½', '¾', '¿', 'Â', 'Â¿', 'Ã', 'Ä', 'Å', 'Æ', 'Ç', 'È', 'É', 'Ê', 'Ë', 'Î', 'Ï', 'Ð', 'Ñ', 'Ò', 'Ó', 'Ô', 'Õ', 'Ö', '×', 'Ø', 'Ù', 'Ú', 'Û', 'Ü', 'Ý', 'Þ', 'à', 'á', 'â', 'âĢ', 'âĢĻ', 'ã', 'ä', 'å', 'æ', 'ç', 'è', 'é', 'ê', 'î', 'ï', 'ð', 'ó', 'ô', 'Ā', 'ā', 'ă', 'ć', 'Ĉ', 'Ċ', 'Ď', 'Đ', 'ē', 'Ĕ', 'Ě', 'ě', 'Ġ', 'Ġ\"', 'Ġ$', 'Ġ%', 'Ġ&', \"Ġ'\", 'Ġ(', 'Ġ)', 'Ġ,', 'Ġ-', 'Ġ--', 'Ġ.', 'Ġ...', 'Ġ/', 'Ġ0', 'Ġ1', 'Ġ2', 'Ġ3', 'Ġ4', 'Ġ5', 'Ġ6', 'Ġ7', 'Ġ8', 'Ġ9', 'Ġ:', 'Ġ?', 'Ġ@', 'ĠA', 'ĠAb', 'ĠAd', 'ĠAf', 'ĠAl', 'ĠAll', 'ĠAm', 'ĠAmeric', 'ĠAmerica', 'ĠAmerican', 'ĠAn', 'ĠAnd', 'ĠAr', 'ĠAs', 'ĠAt', 'ĠAust', 'ĠAustral', 'ĠB', 'ĠBe', 'ĠBl', 'ĠBr', 'ĠBre', 'ĠBrexit', 'ĠBrit', 'ĠBritain', 'ĠBritish', 'ĠBut', 'ĠC', 'ĠCan', 'ĠCar', 'ĠCh', 'ĠChina', 'ĠChr', 'ĠChrist', 'ĠCl', 'ĠCo', 'ĠComm', 'ĠCon', 'ĠCor', 'ĠD', 'ĠDav', 'ĠDe', 'ĠDem', 'ĠDemocrat', 'ĠDo', 'ĠDon', 'ĠE', 'ĠEU', 'ĠEng', 'ĠEngland', 'ĠEuro', 'ĠEurope', 'ĠEuropean', 'ĠEx', 'ĠF', 'ĠFor', 'ĠFr', 'ĠG', 'ĠGer', 'ĠGerman', 'ĠGo', 'ĠGr', 'ĠGu', 'ĠH', 'ĠHar', 'ĠHe', 'ĠHis', 'ĠHouse', 'ĠHow', 'ĠI', 'ĠIf', 'ĠIm', 'ĠIn', 'ĠInd', 'ĠIr', 'ĠIs', 'ĠIt', 'ĠJ', 'ĠJohn', 'ĠJust', 'ĠK', 'ĠL', 'ĠLabour', 'ĠLe', 'ĠLi', 'ĠLondon', 'ĠM', 'ĠMan', 'ĠMar', 'ĠMay', 'ĠMc', 'ĠMin', 'ĠMr', 'ĠMy', 'ĠN', 'ĠNew', 'ĠNo', 'ĠNot', 'ĠNow', 'ĠO', 'ĠOb', 'ĠObama', 'ĠOh', 'ĠOn', 'ĠOne', 'ĠOr', 'ĠP', 'ĠPar', 'ĠPe', 'ĠPh', 'ĠPol', 'ĠPr', 'ĠPresident', 'ĠPro', 'ĠQ', 'ĠR', 'ĠRe', 'ĠRep', 'ĠRepublic', 'ĠRuss', 'ĠRussia', 'ĠS', 'ĠSc', 'ĠScot', 'ĠScotland', 'ĠSe', 'ĠSen', 'ĠSh', 'ĠShe', 'ĠSo', 'ĠSome', 'ĠSouth', 'ĠSp', 'ĠSt', 'ĠStates', 'ĠSy', 'ĠT', 'ĠTh', 'ĠThat', 'ĠThe', 'ĠThere', 'ĠThey', 'ĠThis', 'ĠTo', 'ĠTr', 'ĠTrump', 'ĠTw', 'ĠU', 'ĠUK', 'ĠUS', 'ĠUn', 'ĠUnited', 'ĠV', 'ĠW', 'ĠWe', 'ĠWell', 'ĠWest', 'ĠWh', 'ĠWhat', 'ĠWhen', 'ĠWhy', 'ĠWill', 'ĠWith', 'ĠWor', 'ĠY', 'ĠYes', 'ĠYork', 'ĠYou', 'ĠZ', 'Ġa', 'Ġab', 'Ġable', 'Ġabout', 'Ġabs', 'Ġac', 'Ġacc', 'Ġaccording', 'Ġaccount', 'Ġacross', 'Ġact', 'Ġactually', 'Ġad', 'Ġadd', 'Ġadded', 'Ġadv', 'Ġaff', 'Ġafter', 'Ġag', 'Ġagain', 'Ġagainst', 'Ġago', 'Ġagree', 'Ġair', 'Ġal', 'Ġall', 'Ġallow', 'Ġalmost', 'Ġalong', 'Ġalready', 'Ġalso', 'Ġalways', 'Ġam', 'Ġamong', 'Ġan', 'Ġand', 'Ġann', 'Ġannoun', 'Ġanother', 'Ġant', 'Ġany', 'Ġanyone', 'Ġanything', 'Ġap', 'Ġapp', 'Ġappear', 'Ġappro', 'Ġar', 'Ġare', 'Ġarg', 'Ġaround', 'Ġartic', 'Ġarticle', 'Ġas', 'Ġasked', 'Ġass', 'Ġat', 'Ġatt', 'Ġattack', 'Ġauthor', 'Ġav', 'Ġaw', 'Ġaway', 'Ġb', 'Ġback', 'Ġbad', 'Ġball', 'Ġban', 'Ġbas', 'Ġbe', 'Ġbec', 'Ġbecause', 'Ġbecome', 'Ġbeen', 'Ġbefore', 'Ġbeh', 'Ġbehind', 'Ġbeing', 'Ġbel', 'Ġbelie', 'Ġbelieve', 'Ġben', 'Ġbenef', 'Ġbest', 'Ġbet', 'Ġbetter', 'Ġbetween', 'Ġbig', 'Ġbill', 'Ġbillion', 'Ġbit', 'Ġbl', 'Ġblack', 'Ġbo', 'Ġboth', 'Ġboy', 'Ġbr', 'Ġbre', 'Ġbreak', 'Ġbring', 'Ġbro', 'Ġbu', 'Ġbuild', 'Ġbus', 'Ġbusiness', 'Ġbut', 'Ġbuy', 'Ġby', 'Ġc', 'Ġca', 'Ġcall', 'Ġcalled', 'Ġcame', 'Ġcamp', 'Ġcampaign', 'Ġcan', 'Ġcannot', 'Ġcap', 'Ġcar', 'Ġcare', 'Ġcase', 'Ġcent', 'Ġcertain', 'Ġch', 'Ġchang', 'Ġchange', 'Ġchar', 'Ġche', 'Ġchild', 'Ġchildren', 'Ġcit', 'Ġcity', 'Ġcl', 'Ġclaim', 'Ġclass', 'Ġcle', 'Ġclear', 'Ġclose', 'Ġclub', 'Ġco', 'Ġcoll', 'Ġcom', 'Ġcome', 'Ġcomes', 'Ġcoming', 'Ġcomm', 'Ġcomment', 'Ġcommun', 'Ġcomp', 'Ġcompany', 'Ġcompl', 'Ġcomple', 'Ġcomplete', 'Ġcon', 'Ġconc', 'Ġcond', 'Ġconf', 'Ġcons', 'Ġconst', 'Ġcont', 'Ġcontin', 'Ġcontro', 'Ġcontrol', 'Ġcor', 'Ġcost', 'Ġcould', 'Ġcount', 'Ġcountries', 'Ġcountry', 'Ġcoup', 'Ġcour', 'Ġcourse', 'Ġcourt', 'Ġcr', 'Ġcre', 'Ġcrit', 'Ġcur', 'Ġcurrent', 'Ġcut', 'Ġd', 'Ġday', 'Ġdays', 'Ġde', 'Ġdeal', 'Ġdeath', 'Ġdeb', 'Ġdec', 'Ġdecision', 'Ġdef', 'Ġdel', 'Ġdem', 'Ġdep', 'Ġdes', 'Ġdest', 'Ġdet', 'Ġdevelop', 'Ġdi', 'Ġdid', 'Ġdidn', 'Ġdiff', 'Ġdiffere', 'Ġdifferent', 'Ġdirect', 'Ġdis', 'Ġdisc', 'Ġdist', 'Ġdo', 'Ġdoes', 'Ġdoesn', 'Ġdoing', 'Ġdon', 'Ġdone', 'Ġdou', 'Ġdown', 'Ġdr', 'Ġdri', 'Ġdue', 'Ġduring', 'Ġe', 'Ġeach', 'Ġear', 'Ġearly', 'Ġeas', 'Ġeconom', 'Ġed', 'Ġeff', 'Ġeffect', 'Ġeither', 'Ġel', 'Ġelect', 'Ġelection', 'Ġelse', 'Ġem', 'Ġemploy', 'Ġen', 'Ġend', 'Ġenough', 'Ġent', 'Ġequ', 'Ġes', 'Ġest', 'Ġet', 'Ġev', 'Ġeven', 'Ġevent', 'Ġever', 'Ġevery', 'Ġeveryone', 'Ġeverything', 'Ġevidence', 'Ġex', 'Ġexp', 'Ġexpect', 'Ġexper', 'Ġexpl', 'Ġext', 'Ġf', 'Ġfac', 'Ġface', 'Ġfact', 'Ġfail', 'Ġfall', 'Ġfam', 'Ġfamily', 'Ġfar', 'Ġfe', 'Ġfeel', 'Ġfew', 'Ġfight', 'Ġfil', 'Ġfin', 'Ġfind', 'Ġfir', 'Ġfire', 'Ġfirst', 'Ġfive', 'Ġfl', 'Ġfo', 'Ġfoll', 'Ġfollow', 'Ġfood', 'Ġfoot', 'Ġfor', 'Ġfore', 'Ġform', 'Ġformer', 'Ġfound', 'Ġfour', 'Ġfr', 'Ġfree', 'Ġfriend', 'Ġfrom', 'Ġfull', 'Ġfun', 'Ġfund', 'Ġfur', 'Ġfut', 'Ġfuture', 'Ġg', 'Ġgame', 'Ġgen', 'Ġgener', 'Ġget', 'Ġgetting', 'Ġgirl', 'Ġgiv', 'Ġgive', 'Ġgiven', 'Ġgl', 'Ġgo', 'Ġgoing', 'Ġgood', 'Ġgot', 'Ġgovernment', 'Ġgr', 'Ġgreat', 'Ġgroup', 'Ġgrow', 'Ġgu', 'Ġgun', 'Ġh', 'Ġha', 'Ġhad', 'Ġhalf', 'Ġhand', 'Ġhapp', 'Ġhappen', 'Ġhard', 'Ġhas', 'Ġhave', 'Ġhaving', 'Ġhe', 'Ġhead', 'Ġhealth', 'Ġhel', 'Ġhelp', 'Ġher', 'Ġhere', 'Ġhig', 'Ġhigh', 'Ġhim', 'Ġhis', 'Ġhist', 'Ġhistory', 'Ġhit', 'Ġhold', 'Ġhome', 'Ġhope', 'Ġhouse', 'Ġhow', 'Ġhum', 'Ġhuman', 'Ġi', 'Ġide', 'Ġidea', 'Ġif', 'Ġill', 'Ġim', 'Ġimm', 'Ġimp', 'Ġimport', 'Ġimportant', 'Ġin', 'Ġinc', 'Ġinclud', 'Ġincluding', 'Ġincre', 'Ġind', 'Ġindust', 'Ġinf', 'Ġinform', 'Ġins', 'Ġinst', 'Ġint', 'Ġinter', 'Ġinterest', 'Ġintern', 'Ġinto', 'Ġinv', 'Ġinvest', 'Ġinvestig', 'Ġinvol', 'Ġis', 'Ġisn', 'Ġiss', 'Ġissue', 'Ġit', 'Ġits', 'Ġj', 'Ġjo', 'Ġjob', 'Ġjud', 'Ġjust', 'Ġk', 'Ġke', 'Ġkeep', 'Ġkid', 'Ġkids', 'Ġkill', 'Ġkind', 'Ġkn', 'Ġknow', 'Ġl', 'Ġla', 'Ġland', 'Ġlar', 'Ġlarge', 'Ġlast', 'Ġlater', 'Ġlaw', 'Ġle', 'Ġlead', 'Ġleaders', 'Ġlear', 'Ġleast', 'Ġleave', 'Ġleft', 'Ġleg', 'Ġless', 'Ġlet', 'Ġlevel', 'Ġli', 'Ġliber', 'Ġlife', 'Ġlike', 'Ġlikely', 'Ġline', 'Ġlist', 'Ġlittle', 'Ġlive', 'Ġliving', 'Ġlo', 'Ġloc', 'Ġlocal', 'Ġlong', 'Ġloo', 'Ġlook', 'Ġlooking', 'Ġlooks', 'Ġlost', 'Ġlot', 'Ġlove', 'Ġlow', 'Ġm', 'Ġmade', 'Ġmain', 'Ġmajor', 'Ġmake', 'Ġmakes', 'Ġmaking', 'Ġman', 'Ġmanag', 'Ġmany', 'Ġmar', 'Ġmark', 'Ġmarket', 'Ġmass', 'Ġmat', 'Ġmatter', 'Ġmay', 'Ġme', 'Ġmean', 'Ġmeans', 'Ġmed', 'Ġmedia', 'Ġmeet', 'Ġmem', 'Ġmembers', 'Ġmen', 'Ġmess', 'Ġmet', 'Ġmight', 'Ġmil', 'Ġmilit', 'Ġmillion', 'Ġmin', 'Ġmind', 'Ġmis', 'Ġmiss', 'Ġmod', 'Ġmom', 'Ġmon', 'Ġmoney', 'Ġmonth', 'Ġmonths', 'Ġmor', 'Ġmore', 'Ġmost', 'Ġmother', 'Ġmov', 'Ġmove', 'Ġmuch', 'Ġmust', 'Ġmy', 'Ġn', 'Ġname', 'Ġnational', 'Ġne', 'Ġneed', 'Ġneeds', 'Ġneg', 'Ġnever', 'Ġnew', 'Ġnews', 'Ġnext', 'Ġnight', 'Ġno', 'Ġnon', 'Ġnot', 'Ġnothing', 'Ġnow', 'Ġnum', 'Ġnumber', 'Ġo', 'Ġob', 'Ġof', 'Ġoff', 'Ġoffic', 'Ġoffice', 'Ġofficial', 'Ġoften', 'Ġold', 'Ġon', 'Ġonce', 'Ġone', 'Ġonly', 'Ġop', 'Ġopen', 'Ġoper', 'Ġopp', 'Ġor', 'Ġorder', 'Ġorgan', 'Ġother', 'Ġothers', 'Ġour', 'Ġout', 'Ġover', 'Ġown', 'Ġp', 'Ġpaid', 'Ġpar', 'Ġparent', 'Ġparents', 'Ġpart', 'Ġpartic', 'Ġparty', 'Ġpass', 'Ġpast', 'Ġpat', 'Ġpay', 'Ġpe', 'Ġpeople', 'Ġper', 'Ġpercent', 'Ġperform', 'Ġperson', 'Ġph', 'Ġphot', 'Ġpl', 'Ġplace', 'Ġplan', 'Ġplay', 'Ġplayers', 'Ġpo', 'Ġpoint', 'Ġpol', 'Ġpolic', 'Ġpolice', 'Ġpolicy', 'Ġpolit', 'Ġpolitical', 'Ġpoor', 'Ġpop', 'Ġpos', 'Ġposs', 'Ġpossible', 'Ġpost', 'Ġpot', 'Ġpower', 'Ġpr', 'Ġpre', 'Ġpresident', 'Ġpress', 'Ġpret', 'Ġpri', 'Ġpriv', 'Ġpro', 'Ġprobably', 'Ġproble', 'Ġproblem', 'Ġprocess', 'Ġprodu', 'Ġprof', 'Ġprogram', 'Ġprom', 'Ġprop', 'Ġproper', 'Ġprot', 'Ġprotect', 'Ġprov', 'Ġpublic', 'Ġput', 'Ġqu', 'Ġquest', 'Ġquestion', 'Ġquite', 'Ġr', 'Ġra', 'Ġrac', 'Ġrather', 'Ġre', 'Ġread', 'Ġreal', 'Ġreally', 'Ġreason', 'Ġrec', 'Ġrece', 'Ġrecent', 'Ġrecord', 'Ġref', 'Ġreg', 'Ġrel', 'Ġrele', 'Ġrem', 'Ġremain', 'Ġrep', 'Ġreport', 'Ġreported', 'Ġrequ', 'Ġres', 'Ġrese', 'Ġresp', 'Ġrest', 'Ġresult', 'Ġret', 'Ġreturn', 'Ġright', 'Ġris', 'Ġro', 'Ġrul', 'Ġrun', 'Ġs', 'Ġsa', 'Ġsaf', 'Ġsaid', 'Ġsame', 'Ġsay', 'Ġsaying', 'Ġsays', 'Ġsc', 'Ġschool', 'Ġse', 'Ġseason', 'Ġsec', 'Ġsecond', 'Ġsee', 'Ġseem', 'Ġseems', 'Ġseen', 'Ġself', 'Ġsent', 'Ġser', 'Ġserious', 'Ġserv', 'Ġset', 'Ġsex', 'Ġsh', 'Ġshe', 'Ġshort', 'Ġshould', 'Ġshow', 'Ġside', 'Ġsign', 'Ġsim', 'Ġsimp', 'Ġsince', 'Ġsing', 'Ġsit', 'Ġsix', 'Ġsk', 'Ġsl', 'Ġsm', 'Ġsmall', 'Ġsn', 'Ġso', 'Ġsoc', 'Ġsocial', 'Ġsol', 'Ġsome', 'Ġsomeone', 'Ġsomet', 'Ġsomething', 'Ġsoon', 'Ġsp', 'Ġspe', 'Ġspec', 'Ġst', 'Ġstand', 'Ġstart', 'Ġstarted', 'Ġstate', 'Ġstatement', 'Ġstay', 'Ġstill', 'Ġstop', 'Ġstory', 'Ġstr', 'Ġstre', 'Ġstrong', 'Ġstud', 'Ġsu', 'Ġsub', 'Ġsuc', 'Ġsuccess', 'Ġsuch', 'Ġsuff', 'Ġsuggest', 'Ġsum', 'Ġsupp', 'Ġsupport', 'Ġsur', 'Ġsure', 'Ġsus', 'Ġsw', 'Ġsy', 'Ġsystem', 'Ġt', 'Ġtake', 'Ġtaken', 'Ġtaking', 'Ġtal', 'Ġtar', 'Ġtax', 'Ġte', 'Ġteam', 'Ġtell', 'Ġter', 'Ġtest', 'Ġth', 'Ġthan', 'Ġthat', 'Ġthe', 'Ġtheir', 'Ġthem', 'Ġthemselves', 'Ġthen', 'Ġthere', 'Ġthese', 'Ġthey', 'Ġthin', 'Ġthing', 'Ġthings', 'Ġthink', 'Ġthis', 'Ġthose', 'Ġthough', 'Ġthought', 'Ġthr', 'Ġthreat', 'Ġthree', 'Ġthrough', 'Ġtime', 'Ġtimes', 'Ġto', 'Ġtoday', 'Ġtoget', 'Ġtogether', 'Ġtold', 'Ġtoo', 'Ġtook', 'Ġtop', 'Ġtot', 'Ġtr', 'Ġtrans', 'Ġtre', 'Ġtreat', 'Ġtri', 'Ġtrue', 'Ġtry', 'Ġtrying', 'Ġturn', 'Ġtw', 'Ġtwo', 'Ġu', 'Ġun', 'Ġunder', 'Ġunderstand', 'Ġunt', 'Ġuntil', 'Ġup', 'Ġus', 'Ġuse', 'Ġused', 'Ġusing', 'Ġv', 'Ġvacc', 'Ġval', 'Ġve', 'Ġvery', 'Ġvict', 'Ġview', 'Ġviol', 'Ġvis', 'Ġvot', 'Ġvote', 'Ġw', 'Ġwait', 'Ġwal', 'Ġwant', 'Ġwanted', 'Ġwants', 'Ġwar', 'Ġwas', 'Ġwasn', 'Ġwatch', 'Ġwater', 'Ġway', 'Ġwe', 'Ġwee', 'Ġweek', 'Ġwell', 'Ġwent', 'Ġwere', 'Ġwh', 'Ġwhat', 'Ġwhe', 'Ġwhen', 'Ġwhere', 'Ġwhether', 'Ġwhich', 'Ġwhile', 'Ġwhite', 'Ġwho', 'Ġwhole', 'Ġwhy', 'Ġwill', 'Ġwin', 'Ġwith', 'Ġwithout', 'Ġwom', 'Ġwoman', 'Ġwomen', 'Ġwon', 'Ġwond', 'Ġwonder', 'Ġwor', 'Ġword', 'Ġwork', 'Ġworking', 'Ġworld', 'Ġwould', 'Ġwr', 'Ġwrit', 'Ġwrong', 'Ġy', 'Ġyear', 'Ġyears', 'Ġyes', 'Ġyet', 'Ġyou', 'Ġyoung', 'Ġyour', 'ĠÂ', 'ĠÂ£', 'ĠâĢ', 'ĠĊ', 'ġ', 'Ģ', 'ģ', 'Ĥ', 'ĥ', 'Ħ', 'ħ', 'Ĩ', 'ĩ', 'Ī', 'ī', 'Ĭ', 'ĭ', 'Į', 'į', 'İ', 'ı', 'Ĳ', 'ĳ', 'Ĵ', 'ĵ', 'Ķ', 'ķ', 'ĸ', 'Ĺ', 'ĺ', 'Ļ', 'ļ', 'Ľ', 'ľ', 'Ŀ', 'ŀ', 'Ł', 'ł', 'Ń']\n"
     ]
    }
   ],
   "source": [
    "TOKENIZER_FILE = os.path.join(\"word_sources\",\"tokenizer-big_en-normalized.json\")\n",
    "VOCAB = Tokenizer.from_file(TOKENIZER_FILE)\n",
    "\n",
    "BOS_IDX = VOCAB.token_to_id('<bos>')\n",
    "EOS_IDX = VOCAB.token_to_id('<eos>')\n",
    "PAD_IDX = VOCAB.token_to_id('<pad>')\n",
    "\n",
    "N_TOKENS = VOCAB.get_vocab_size() # len(VOCAB)\n",
    "print(f\"Number of Tokens: {N_TOKENS}\\n\")\n",
    "print(sorted(VOCAB.get_vocab()))"
   ],
   "metadata": {
    "collapsed": false
   }
  },
  {
   "cell_type": "markdown",
   "source": [
    "### Generate label for the model"
   ],
   "metadata": {
    "collapsed": false
   }
  },
  {
   "cell_type": "code",
   "execution_count": 8,
   "outputs": [
    {
     "name": "stdout",
     "output_type": "stream",
     "text": [
      "tensor([304])\n",
      "key by value: {'ĠC'}\n"
     ]
    }
   ],
   "source": [
    "tensor_lab = torch.tensor(VOCAB.encode(LABEL).ids)\n",
    "print(tensor_lab)\n",
    "value = {i for i in VOCAB.get_vocab() if VOCAB.get_vocab()[i]==tensor_lab.item()}\n",
    "print(\"key by value:\",value)"
   ],
   "metadata": {
    "collapsed": false
   }
  },
  {
   "cell_type": "markdown",
   "source": [
    "### Load model"
   ],
   "metadata": {
    "collapsed": false
   }
  },
  {
   "cell_type": "code",
   "execution_count": 9,
   "outputs": [
    {
     "data": {
      "text/plain": "Conv1DTransformer(\n  (alpha_scaling): AlphaScaling(\n    (dropout): Dropout(p=0.1, inplace=False)\n  )\n  (encoder): Encoder(\n    (layers): ModuleList(\n      (0): EncoderLayer(\n        (self_attn_layer_norm): LayerNorm((128,), eps=1e-05, elementwise_affine=True)\n        (ff_layer_norm): LayerNorm((128,), eps=1e-05, elementwise_affine=True)\n        (self_attention): MultiHeadAttentionLayer(\n          (fc_q): Linear(in_features=128, out_features=128, bias=True)\n          (fc_k): Linear(in_features=128, out_features=128, bias=True)\n          (fc_v): Linear(in_features=128, out_features=128, bias=True)\n          (fc_o): Linear(in_features=128, out_features=128, bias=True)\n          (dropout): Dropout(p=0.1, inplace=False)\n        )\n        (positionwise_feedforward): PositionwiseFeedforwardLayer(\n          (fc_1): Linear(in_features=128, out_features=128, bias=True)\n          (fc_2): Linear(in_features=128, out_features=128, bias=True)\n          (dropout): Dropout(p=0.1, inplace=False)\n        )\n        (dropout): Dropout(p=0.1, inplace=False)\n      )\n      (1): EncoderLayer(\n        (self_attn_layer_norm): LayerNorm((128,), eps=1e-05, elementwise_affine=True)\n        (ff_layer_norm): LayerNorm((128,), eps=1e-05, elementwise_affine=True)\n        (self_attention): MultiHeadAttentionLayer(\n          (fc_q): Linear(in_features=128, out_features=128, bias=True)\n          (fc_k): Linear(in_features=128, out_features=128, bias=True)\n          (fc_v): Linear(in_features=128, out_features=128, bias=True)\n          (fc_o): Linear(in_features=128, out_features=128, bias=True)\n          (dropout): Dropout(p=0.1, inplace=False)\n        )\n        (positionwise_feedforward): PositionwiseFeedforwardLayer(\n          (fc_1): Linear(in_features=128, out_features=128, bias=True)\n          (fc_2): Linear(in_features=128, out_features=128, bias=True)\n          (dropout): Dropout(p=0.1, inplace=False)\n        )\n        (dropout): Dropout(p=0.1, inplace=False)\n      )\n      (2): EncoderLayer(\n        (self_attn_layer_norm): LayerNorm((128,), eps=1e-05, elementwise_affine=True)\n        (ff_layer_norm): LayerNorm((128,), eps=1e-05, elementwise_affine=True)\n        (self_attention): MultiHeadAttentionLayer(\n          (fc_q): Linear(in_features=128, out_features=128, bias=True)\n          (fc_k): Linear(in_features=128, out_features=128, bias=True)\n          (fc_v): Linear(in_features=128, out_features=128, bias=True)\n          (fc_o): Linear(in_features=128, out_features=128, bias=True)\n          (dropout): Dropout(p=0.1, inplace=False)\n        )\n        (positionwise_feedforward): PositionwiseFeedforwardLayer(\n          (fc_1): Linear(in_features=128, out_features=128, bias=True)\n          (fc_2): Linear(in_features=128, out_features=128, bias=True)\n          (dropout): Dropout(p=0.1, inplace=False)\n        )\n        (dropout): Dropout(p=0.1, inplace=False)\n      )\n      (3): EncoderLayer(\n        (self_attn_layer_norm): LayerNorm((128,), eps=1e-05, elementwise_affine=True)\n        (ff_layer_norm): LayerNorm((128,), eps=1e-05, elementwise_affine=True)\n        (self_attention): MultiHeadAttentionLayer(\n          (fc_q): Linear(in_features=128, out_features=128, bias=True)\n          (fc_k): Linear(in_features=128, out_features=128, bias=True)\n          (fc_v): Linear(in_features=128, out_features=128, bias=True)\n          (fc_o): Linear(in_features=128, out_features=128, bias=True)\n          (dropout): Dropout(p=0.1, inplace=False)\n        )\n        (positionwise_feedforward): PositionwiseFeedforwardLayer(\n          (fc_1): Linear(in_features=128, out_features=128, bias=True)\n          (fc_2): Linear(in_features=128, out_features=128, bias=True)\n          (dropout): Dropout(p=0.1, inplace=False)\n        )\n        (dropout): Dropout(p=0.1, inplace=False)\n      )\n      (4): EncoderLayer(\n        (self_attn_layer_norm): LayerNorm((128,), eps=1e-05, elementwise_affine=True)\n        (ff_layer_norm): LayerNorm((128,), eps=1e-05, elementwise_affine=True)\n        (self_attention): MultiHeadAttentionLayer(\n          (fc_q): Linear(in_features=128, out_features=128, bias=True)\n          (fc_k): Linear(in_features=128, out_features=128, bias=True)\n          (fc_v): Linear(in_features=128, out_features=128, bias=True)\n          (fc_o): Linear(in_features=128, out_features=128, bias=True)\n          (dropout): Dropout(p=0.1, inplace=False)\n        )\n        (positionwise_feedforward): PositionwiseFeedforwardLayer(\n          (fc_1): Linear(in_features=128, out_features=128, bias=True)\n          (fc_2): Linear(in_features=128, out_features=128, bias=True)\n          (dropout): Dropout(p=0.1, inplace=False)\n        )\n        (dropout): Dropout(p=0.1, inplace=False)\n      )\n    )\n  )\n  (pos_encoding): PositionalEncoding(\n    (pos_embedding): Embedding(200, 128)\n  )\n  (decoder): Decoder(\n    (tok_embedding): Embedding(2000, 128)\n    (pos_embedding): PositionalEncoding(\n      (pos_embedding): Embedding(100, 128)\n    )\n    (layers): ModuleList(\n      (0): DecoderLayer(\n        (self_attn_layer_norm): LayerNorm((128,), eps=1e-05, elementwise_affine=True)\n        (enc_attn_layer_norm): LayerNorm((128,), eps=1e-05, elementwise_affine=True)\n        (ff_layer_norm): LayerNorm((128,), eps=1e-05, elementwise_affine=True)\n        (self_attention): MultiHeadAttentionLayer(\n          (fc_q): Linear(in_features=128, out_features=128, bias=True)\n          (fc_k): Linear(in_features=128, out_features=128, bias=True)\n          (fc_v): Linear(in_features=128, out_features=128, bias=True)\n          (fc_o): Linear(in_features=128, out_features=128, bias=True)\n          (dropout): Dropout(p=0.1, inplace=False)\n        )\n        (encoder_attention): MultiHeadAttentionLayer(\n          (fc_q): Linear(in_features=128, out_features=128, bias=True)\n          (fc_k): Linear(in_features=128, out_features=128, bias=True)\n          (fc_v): Linear(in_features=128, out_features=128, bias=True)\n          (fc_o): Linear(in_features=128, out_features=128, bias=True)\n          (dropout): Dropout(p=0.1, inplace=False)\n        )\n        (positionwise_feedforward): PositionwiseFeedforwardLayer(\n          (fc_1): Linear(in_features=128, out_features=384, bias=True)\n          (fc_2): Linear(in_features=384, out_features=128, bias=True)\n          (dropout): Dropout(p=0.1, inplace=False)\n        )\n        (dropout): Dropout(p=0.1, inplace=False)\n      )\n      (1): DecoderLayer(\n        (self_attn_layer_norm): LayerNorm((128,), eps=1e-05, elementwise_affine=True)\n        (enc_attn_layer_norm): LayerNorm((128,), eps=1e-05, elementwise_affine=True)\n        (ff_layer_norm): LayerNorm((128,), eps=1e-05, elementwise_affine=True)\n        (self_attention): MultiHeadAttentionLayer(\n          (fc_q): Linear(in_features=128, out_features=128, bias=True)\n          (fc_k): Linear(in_features=128, out_features=128, bias=True)\n          (fc_v): Linear(in_features=128, out_features=128, bias=True)\n          (fc_o): Linear(in_features=128, out_features=128, bias=True)\n          (dropout): Dropout(p=0.1, inplace=False)\n        )\n        (encoder_attention): MultiHeadAttentionLayer(\n          (fc_q): Linear(in_features=128, out_features=128, bias=True)\n          (fc_k): Linear(in_features=128, out_features=128, bias=True)\n          (fc_v): Linear(in_features=128, out_features=128, bias=True)\n          (fc_o): Linear(in_features=128, out_features=128, bias=True)\n          (dropout): Dropout(p=0.1, inplace=False)\n        )\n        (positionwise_feedforward): PositionwiseFeedforwardLayer(\n          (fc_1): Linear(in_features=128, out_features=384, bias=True)\n          (fc_2): Linear(in_features=384, out_features=128, bias=True)\n          (dropout): Dropout(p=0.1, inplace=False)\n        )\n        (dropout): Dropout(p=0.1, inplace=False)\n      )\n      (2): DecoderLayer(\n        (self_attn_layer_norm): LayerNorm((128,), eps=1e-05, elementwise_affine=True)\n        (enc_attn_layer_norm): LayerNorm((128,), eps=1e-05, elementwise_affine=True)\n        (ff_layer_norm): LayerNorm((128,), eps=1e-05, elementwise_affine=True)\n        (self_attention): MultiHeadAttentionLayer(\n          (fc_q): Linear(in_features=128, out_features=128, bias=True)\n          (fc_k): Linear(in_features=128, out_features=128, bias=True)\n          (fc_v): Linear(in_features=128, out_features=128, bias=True)\n          (fc_o): Linear(in_features=128, out_features=128, bias=True)\n          (dropout): Dropout(p=0.1, inplace=False)\n        )\n        (encoder_attention): MultiHeadAttentionLayer(\n          (fc_q): Linear(in_features=128, out_features=128, bias=True)\n          (fc_k): Linear(in_features=128, out_features=128, bias=True)\n          (fc_v): Linear(in_features=128, out_features=128, bias=True)\n          (fc_o): Linear(in_features=128, out_features=128, bias=True)\n          (dropout): Dropout(p=0.1, inplace=False)\n        )\n        (positionwise_feedforward): PositionwiseFeedforwardLayer(\n          (fc_1): Linear(in_features=128, out_features=384, bias=True)\n          (fc_2): Linear(in_features=384, out_features=128, bias=True)\n          (dropout): Dropout(p=0.1, inplace=False)\n        )\n        (dropout): Dropout(p=0.1, inplace=False)\n      )\n      (3): DecoderLayer(\n        (self_attn_layer_norm): LayerNorm((128,), eps=1e-05, elementwise_affine=True)\n        (enc_attn_layer_norm): LayerNorm((128,), eps=1e-05, elementwise_affine=True)\n        (ff_layer_norm): LayerNorm((128,), eps=1e-05, elementwise_affine=True)\n        (self_attention): MultiHeadAttentionLayer(\n          (fc_q): Linear(in_features=128, out_features=128, bias=True)\n          (fc_k): Linear(in_features=128, out_features=128, bias=True)\n          (fc_v): Linear(in_features=128, out_features=128, bias=True)\n          (fc_o): Linear(in_features=128, out_features=128, bias=True)\n          (dropout): Dropout(p=0.1, inplace=False)\n        )\n        (encoder_attention): MultiHeadAttentionLayer(\n          (fc_q): Linear(in_features=128, out_features=128, bias=True)\n          (fc_k): Linear(in_features=128, out_features=128, bias=True)\n          (fc_v): Linear(in_features=128, out_features=128, bias=True)\n          (fc_o): Linear(in_features=128, out_features=128, bias=True)\n          (dropout): Dropout(p=0.1, inplace=False)\n        )\n        (positionwise_feedforward): PositionwiseFeedforwardLayer(\n          (fc_1): Linear(in_features=128, out_features=384, bias=True)\n          (fc_2): Linear(in_features=384, out_features=128, bias=True)\n          (dropout): Dropout(p=0.1, inplace=False)\n        )\n        (dropout): Dropout(p=0.1, inplace=False)\n      )\n    )\n    (fc_out): Linear(in_features=128, out_features=2000, bias=True)\n    (dropout): Dropout(p=0.1, inplace=False)\n    (scale): AlphaScaling(\n      (dropout): Dropout(p=0.1, inplace=False)\n    )\n  )\n  (preencoder): Conv1DPreencoder(\n    (layers): Sequential(\n      (0): Conv1d(2, 4, kernel_size=(3,), stride=(1,), padding=same, bias=False)\n      (1): MaxPool1d(kernel_size=2, stride=2, padding=0, dilation=1, ceil_mode=False)\n      (2): Conv1d(4, 8, kernel_size=(3,), stride=(1,), padding=same, bias=False)\n      (3): MaxPool1d(kernel_size=2, stride=2, padding=0, dilation=1, ceil_mode=False)\n      (4): Conv1d(8, 16, kernel_size=(3,), stride=(1,), padding=same, bias=False)\n      (5): MaxPool1d(kernel_size=2, stride=2, padding=0, dilation=1, ceil_mode=False)\n    )\n  )\n)"
     },
     "execution_count": 9,
     "metadata": {},
     "output_type": "execute_result"
    }
   ],
   "source": [
    "hp = load_json_hypeparameters(VERSION)\n",
    "if \"vocab\" in hp:\n",
    "    hp.pop(\"vocab\")\n",
    "model = Conv1DTransformer(name=VERSION, vocab=VOCAB, **hp)\n",
    "model.load_best_version()\n",
    "model.to(model.device)"
   ],
   "metadata": {
    "collapsed": false
   }
  },
  {
   "cell_type": "markdown",
   "source": [
    "## Define the GA"
   ],
   "metadata": {
    "collapsed": false
   }
  },
  {
   "cell_type": "markdown",
   "source": [
    "### Define constants"
   ],
   "metadata": {
    "collapsed": false
   }
  },
  {
   "cell_type": "code",
   "execution_count": 10,
   "outputs": [],
   "source": [
    "POPULATION_SIZE = 500\n",
    "P_CROSSOVER = 0.9  # probability for crossover\n",
    "P_MUTATION = 0.15   # probability for mutating an individual\n",
    "MAX_GENERATIONS = 450\n",
    "HALL_OF_FAME = 15\n",
    "CROWDING_FACTOR_CROSS = 22.0\n",
    "CROWDING_FACTOR_MUT = 5.0"
   ],
   "metadata": {
    "collapsed": false
   }
  },
  {
   "cell_type": "markdown",
   "source": [
    "# Alternative way"
   ],
   "metadata": {
    "collapsed": false
   }
  },
  {
   "cell_type": "code",
   "execution_count": 11,
   "outputs": [
    {
     "name": "stdout",
     "output_type": "stream",
     "text": [
      "129 129\n"
     ]
    }
   ],
   "source": [
    "BOUNDS_LOW =[0]*VECTOR_SIZE + [0]\n",
    "BOUNDS_HIGH = [1]*VECTOR_SIZE + [VECTOR_SIZE//N_FEATURES]\n",
    "print(len(BOUNDS_LOW), len(BOUNDS_HIGH))\n",
    "toolbox = base.Toolbox()\n",
    "\n",
    "# define a single objective, minimizing fitness strategy:\n",
    "creator.create('FitnessMin', base.Fitness, weights=(-1,))\n",
    "\n",
    "# create the Individual class based on list:\n",
    "creator.create('Individual', list, fitness=creator.FitnessMin)\n",
    "\n",
    "# define the attributes individually:\n",
    "for i in range(VECTOR_SIZE+1):\n",
    "    toolbox.register(\"touch_\" + str(i),\n",
    "                     random.uniform,\n",
    "                     BOUNDS_LOW[i],\n",
    "                     BOUNDS_HIGH[i])\n",
    "\n",
    "# create a tuple containing an attribute generator for each param searched:\n",
    "touches = ()\n",
    "for i in range(VECTOR_SIZE+1):\n",
    "    touches = touches + \\\n",
    "                      (toolbox.__getattribute__(\"touch_\" + str(i)),)\n",
    "\n",
    "# create the individual operator to fill up an Individual instance:\n",
    "toolbox.register(\"individualCreator\",\n",
    "                 tools.initCycle,\n",
    "                 creator.Individual,\n",
    "                 touches,\n",
    "                 n=1)\n",
    "\n",
    "# create the population operator to generate a list of individuals:\n",
    "toolbox.register('populationCreator', tools.initRepeat, list, toolbox.individualCreator)\n",
    "\n",
    "# fitness calculation\n",
    "def compute_fitness(individual):\n",
    "\n",
    "    strokes = individual.copy()[:VECTOR_SIZE]\n",
    "    pads = int(individual.copy()[-1])*N_FEATURES\n",
    "    for v in range(VECTOR_SIZE-pads, VECTOR_SIZE):\n",
    "        strokes[v] = SRC_PAD_IDX\n",
    "    src = torch.tensor(strokes).reshape(N_STROKES_TO_OPTIMIZE, VECTOR_SIZE)\n",
    "    bos_vector = torch.zeros([1, VECTOR_SIZE]) + BOS_IDX\n",
    "    eos_vector = torch.zeros([1, VECTOR_SIZE]) + EOS_IDX\n",
    "    pad_vector = torch.zeros([ENCODER_INPUT_LENGTH-2-src.shape[0], VECTOR_SIZE]) + SRC_PAD_IDX\n",
    "\n",
    "    src = torch.cat([bos_vector, src, eos_vector, pad_vector], dim=0).to(model.device)\n",
    "\n",
    "    #assert src.shape == (200,128)\n",
    "    iterator = [(src, tensor_lab)]\n",
    "    evaluator = DataLoader(iterator, collate_fn=pad_collate_fn, batch_size=1)\n",
    "    out = model.evaluate_f(evaluator)\n",
    "    return out,\n",
    "\n",
    "toolbox.register('evaluate', compute_fitness)\n",
    "\n",
    "# genetic operators:\n",
    "toolbox.register('select', tools.selTournament, tournsize=2)\n",
    "toolbox.register('mate',\n",
    "                 tools.cxSimulatedBinaryBounded,\n",
    "                 low=BOUNDS_LOW,\n",
    "                 up=BOUNDS_HIGH,\n",
    "                 eta=CROWDING_FACTOR_CROSS)\n",
    "\n",
    "toolbox.register('mutate',\n",
    "                 tools.mutPolynomialBounded,\n",
    "                 low=BOUNDS_LOW,\n",
    "                 up=BOUNDS_HIGH,\n",
    "                 eta=CROWDING_FACTOR_MUT,\n",
    "                 indpb=1.0 / (VECTOR_SIZE+1))"
   ],
   "metadata": {
    "collapsed": false
   }
  },
  {
   "cell_type": "code",
   "execution_count": 12,
   "outputs": [],
   "source": [
    "def eaSimpleWithElitism(population, toolbox, cxpb, mutpb, ngen, stats=None,\n",
    "             halloffame=None, verbose=__debug__):\n",
    "    \"\"\"This algorithm is similar to DEAP eaSimple() algorithm, with the modification that\n",
    "    halloffame is used to implement an elitism mechanism. The individuals contained in the\n",
    "    halloffame are directly injected into the next generation and are not subject to the\n",
    "    genetic operators of selection, crossover and mutation.\n",
    "    \"\"\"\n",
    "    logbook = tools.Logbook()\n",
    "    logbook.header = ['gen', 'nevals'] + (stats.fields if stats else [])\n",
    "\n",
    "    # Evaluate the individuals with an invalid fitness\n",
    "    invalid_ind = [ind for ind in population if not ind.fitness.valid]\n",
    "    fitnesses = toolbox.map(toolbox.evaluate, invalid_ind)\n",
    "    for ind, fit in zip(invalid_ind, fitnesses):\n",
    "        ind.fitness.values = fit\n",
    "\n",
    "    if halloffame is None:\n",
    "        raise ValueError(\"halloffame parameter must not be empty!\")\n",
    "\n",
    "    halloffame.update(population)\n",
    "    hof_size = len(halloffame.items) if halloffame.items else 0\n",
    "\n",
    "    record = stats.compile(population) if stats else {}\n",
    "    logbook.record(gen=0, nevals=len(invalid_ind), **record)\n",
    "    if verbose:\n",
    "        print(logbook.stream)\n",
    "\n",
    "    # Begin the generational process\n",
    "    for gen in range(1, ngen + 1):\n",
    "\n",
    "        # Select the next generation individuals\n",
    "        offspring = toolbox.select(population, len(population) - hof_size)\n",
    "\n",
    "        # Vary the pool of individuals\n",
    "        offspring = algorithms.varAnd(offspring, toolbox, cxpb, mutpb)\n",
    "\n",
    "        # Evaluate the individuals with an invalid fitness\n",
    "        invalid_ind = [ind for ind in offspring if not ind.fitness.valid]\n",
    "        fitnesses = toolbox.map(toolbox.evaluate, invalid_ind)\n",
    "        for ind, fit in zip(invalid_ind, fitnesses):\n",
    "            ind.fitness.values = fit\n",
    "\n",
    "        # add the best back to population:\n",
    "        offspring.extend(halloffame.items)\n",
    "\n",
    "        # Update the hall of fame with the generated individuals\n",
    "        halloffame.update(offspring)\n",
    "\n",
    "        # Replace the current population by the offspring\n",
    "        population[:] = offspring\n",
    "\n",
    "        # Append the current generation statistics to the logbook\n",
    "        record = stats.compile(population) if stats else {}\n",
    "        logbook.record(gen=gen, nevals=len(invalid_ind), **record)\n",
    "        if verbose:\n",
    "            print(logbook.stream)\n",
    "\n",
    "    return population, logbook"
   ],
   "metadata": {
    "collapsed": false
   }
  },
  {
   "cell_type": "code",
   "execution_count": 13,
   "outputs": [
    {
     "name": "stdout",
     "output_type": "stream",
     "text": [
      "gen\tnevals\tmin    \tavg    \n",
      "0  \t500   \t3.69687\t5.87919\n",
      "1  \t440   \t2.58756\t5.70769\n",
      "2  \t452   \t1.64902\t5.54669\n",
      "3  \t450   \t1.64902\t5.32152\n",
      "4  \t423   \t1.64902\t5.10722\n",
      "5  \t441   \t1.49727\t4.85675\n",
      "6  \t441   \t1.49727\t4.64927\n",
      "7  \t441   \t1.28035\t4.46771\n",
      "8  \t455   \t1.28035\t4.23933\n",
      "9  \t438   \t1.28035\t4.11086\n",
      "10 \t439   \t1.20531\t3.98284\n",
      "11 \t438   \t1.20531\t3.9203 \n",
      "12 \t444   \t1.19303\t3.72315\n",
      "13 \t438   \t0.741  \t3.58441\n",
      "14 \t436   \t0.741  \t3.50328\n",
      "15 \t444   \t0.741  \t3.33497\n",
      "16 \t453   \t0.674855\t3.08202\n",
      "17 \t445   \t0.522852\t2.97263\n",
      "18 \t455   \t0.522852\t2.77934\n",
      "19 \t454   \t0.479062\t2.51794\n",
      "20 \t447   \t0.479062\t2.3545 \n",
      "21 \t452   \t0.479062\t2.23814\n",
      "22 \t433   \t0.479062\t2.09337\n",
      "23 \t440   \t0.472105\t1.9564 \n",
      "24 \t432   \t0.472105\t1.89559\n",
      "25 \t438   \t0.472105\t1.69294\n",
      "26 \t441   \t0.472105\t1.63886\n",
      "27 \t448   \t0.461255\t1.54818\n",
      "28 \t441   \t0.461255\t1.31139\n",
      "29 \t426   \t0.461255\t1.21478\n",
      "30 \t434   \t0.391257\t1.06698\n",
      "31 \t454   \t0.391257\t0.947071\n",
      "32 \t444   \t0.391257\t0.871206\n",
      "33 \t452   \t0.372819\t0.833061\n",
      "34 \t430   \t0.357392\t0.725838\n",
      "35 \t446   \t0.344474\t0.72134 \n",
      "36 \t456   \t0.34447 \t0.692001\n",
      "37 \t447   \t0.324149\t0.691911\n",
      "38 \t442   \t0.324149\t0.667257\n",
      "39 \t436   \t0.294563\t0.624857\n",
      "40 \t426   \t0.294563\t0.57575 \n",
      "41 \t446   \t0.294563\t0.543713\n",
      "42 \t430   \t0.289246\t0.510102\n",
      "43 \t433   \t0.262283\t0.503829\n",
      "44 \t435   \t0.258593\t0.470795\n",
      "45 \t432   \t0.258593\t0.438767\n",
      "46 \t455   \t0.258593\t0.432692\n",
      "47 \t428   \t0.255151\t0.412406\n",
      "48 \t447   \t0.255151\t0.390704\n",
      "49 \t447   \t0.245859\t0.37082 \n",
      "50 \t438   \t0.245859\t0.363812\n",
      "51 \t450   \t0.242777\t0.361793\n",
      "52 \t452   \t0.233496\t0.341784\n",
      "53 \t439   \t0.230279\t0.323961\n",
      "54 \t447   \t0.230279\t0.31703 \n",
      "55 \t438   \t0.230279\t0.31442 \n",
      "56 \t448   \t0.220944\t0.304216\n",
      "57 \t438   \t0.210114\t0.285673\n",
      "58 \t438   \t0.210114\t0.280953\n",
      "59 \t446   \t0.204431\t0.282434\n",
      "60 \t434   \t0.204431\t0.274115\n",
      "61 \t438   \t0.204431\t0.274245\n",
      "62 \t446   \t0.204431\t0.261795\n",
      "63 \t443   \t0.204431\t0.254116\n",
      "64 \t445   \t0.19836 \t0.2525  \n",
      "65 \t444   \t0.197184\t0.244487\n",
      "66 \t439   \t0.193448\t0.233425\n",
      "67 \t451   \t0.190716\t0.234831\n",
      "68 \t445   \t0.188926\t0.219835\n",
      "69 \t443   \t0.18602 \t0.222464\n",
      "70 \t442   \t0.183439\t0.207556\n",
      "71 \t452   \t0.180897\t0.206394\n",
      "72 \t449   \t0.180897\t0.198931\n",
      "73 \t438   \t0.18073 \t0.200349\n",
      "74 \t442   \t0.178757\t0.208355\n",
      "75 \t453   \t0.178757\t0.190642\n",
      "76 \t451   \t0.177447\t0.196251\n",
      "77 \t450   \t0.175976\t0.18845 \n",
      "78 \t445   \t0.174201\t0.186523\n",
      "79 \t445   \t0.166334\t0.183408\n",
      "80 \t453   \t0.166334\t0.184682\n",
      "81 \t436   \t0.163298\t0.183612\n",
      "82 \t441   \t0.163298\t0.18223 \n",
      "83 \t433   \t0.162839\t0.18899 \n",
      "84 \t444   \t0.162839\t0.189597\n",
      "85 \t443   \t0.154811\t0.188185\n",
      "86 \t448   \t0.154811\t0.174438\n",
      "87 \t441   \t0.154811\t0.179835\n",
      "88 \t447   \t0.154433\t0.181745\n",
      "89 \t435   \t0.153301\t0.16666 \n",
      "90 \t442   \t0.152927\t0.166031\n",
      "91 \t442   \t0.152035\t0.161611\n",
      "92 \t447   \t0.151052\t0.158908\n",
      "93 \t450   \t0.15101 \t0.15797 \n",
      "94 \t448   \t0.15101 \t0.155532\n",
      "95 \t453   \t0.144659\t0.165626\n",
      "96 \t452   \t0.144659\t0.158727\n",
      "97 \t437   \t0.144091\t0.162544\n",
      "98 \t442   \t0.140596\t0.152809\n",
      "99 \t450   \t0.14014 \t0.152611\n",
      "100\t438   \t0.14014 \t0.15398 \n",
      "101\t447   \t0.139872\t0.149963\n",
      "102\t447   \t0.138191\t0.152401\n",
      "103\t449   \t0.138191\t0.144602\n",
      "104\t448   \t0.138045\t0.158312\n",
      "105\t449   \t0.138027\t0.154505\n",
      "106\t449   \t0.137913\t0.141832\n",
      "107\t443   \t0.137766\t0.14334 \n",
      "108\t462   \t0.135994\t0.139877\n",
      "109\t446   \t0.135994\t0.150658\n",
      "110\t444   \t0.135458\t0.150383\n",
      "111\t446   \t0.134782\t0.140614\n",
      "112\t450   \t0.134673\t0.138567\n",
      "113\t450   \t0.132588\t0.139725\n",
      "114\t427   \t0.132588\t0.151517\n",
      "115\t452   \t0.13184 \t0.13695 \n",
      "116\t447   \t0.13184 \t0.148229\n",
      "117\t449   \t0.131218\t0.146552\n",
      "118\t435   \t0.130051\t0.134857\n",
      "119\t451   \t0.128912\t0.139231\n",
      "120\t457   \t0.126973\t0.133844\n",
      "121\t443   \t0.126886\t0.138028\n",
      "122\t436   \t0.126487\t0.133522\n",
      "123\t436   \t0.12617 \t0.134233\n",
      "124\t449   \t0.125906\t0.136832\n",
      "125\t447   \t0.125417\t0.137577\n",
      "126\t439   \t0.125082\t0.135199\n",
      "127\t446   \t0.125023\t0.136231\n",
      "128\t446   \t0.124606\t0.146019\n",
      "129\t442   \t0.124566\t0.130549\n",
      "130\t443   \t0.124108\t0.129941\n",
      "131\t455   \t0.123421\t0.145379\n",
      "132\t447   \t0.123421\t0.134483\n",
      "133\t450   \t0.123421\t0.127625\n",
      "134\t439   \t0.122886\t0.138948\n",
      "135\t427   \t0.122868\t0.125479\n",
      "136\t447   \t0.122625\t0.127468\n",
      "137\t444   \t0.122332\t0.142612\n",
      "138\t448   \t0.122332\t0.131685\n",
      "139\t451   \t0.122332\t0.132631\n",
      "140\t459   \t0.122159\t0.123782\n",
      "141\t437   \t0.122159\t0.127074\n",
      "142\t437   \t0.121914\t0.125499\n",
      "143\t449   \t0.121899\t0.125845\n",
      "144\t441   \t0.121857\t0.143915\n",
      "145\t450   \t0.121809\t0.12439 \n",
      "146\t456   \t0.121718\t0.126971\n",
      "147\t447   \t0.121684\t0.128763\n",
      "148\t449   \t0.121671\t0.124327\n",
      "149\t431   \t0.121527\t0.123587\n",
      "150\t443   \t0.121527\t0.129449\n",
      "151\t447   \t0.121527\t0.138361\n",
      "152\t443   \t0.121527\t0.122101\n",
      "153\t453   \t0.1215  \t0.124392\n",
      "154\t446   \t0.121407\t0.139947\n",
      "155\t441   \t0.121324\t0.122279\n",
      "156\t452   \t0.121288\t0.137826\n",
      "157\t438   \t0.121268\t0.12375 \n",
      "158\t450   \t0.121226\t0.12389 \n",
      "159\t443   \t0.121209\t0.139068\n",
      "160\t436   \t0.121147\t0.122591\n",
      "161\t437   \t0.121107\t0.134081\n",
      "162\t439   \t0.121035\t0.131787\n",
      "163\t446   \t0.121035\t0.130405\n",
      "164\t440   \t0.120984\t0.135101\n",
      "165\t441   \t0.12093 \t0.122535\n",
      "166\t429   \t0.12093 \t0.128696\n",
      "167\t449   \t0.12093 \t0.13663 \n",
      "168\t453   \t0.120915\t0.1216  \n",
      "169\t443   \t0.120915\t0.134777\n",
      "170\t435   \t0.120855\t0.133824\n",
      "171\t437   \t0.120855\t0.127807\n",
      "172\t440   \t0.120823\t0.126614\n",
      "173\t441   \t0.120819\t0.13511 \n",
      "174\t441   \t0.120819\t0.122578\n",
      "175\t449   \t0.120819\t0.130673\n",
      "176\t448   \t0.12034 \t0.128759\n",
      "177\t453   \t0.12025 \t0.12736 \n",
      "178\t450   \t0.120248\t0.125499\n",
      "179\t461   \t0.120198\t0.121738\n",
      "180\t447   \t0.120183\t0.1212  \n",
      "181\t445   \t0.120148\t0.138972\n",
      "182\t425   \t0.120143\t0.121659\n",
      "183\t457   \t0.12014 \t0.12515 \n",
      "184\t444   \t0.120129\t0.126379\n",
      "185\t452   \t0.11995 \t0.132905\n",
      "186\t442   \t0.11995 \t0.135682\n",
      "187\t448   \t0.11995 \t0.137396\n",
      "188\t449   \t0.119926\t0.12829 \n",
      "189\t448   \t0.119926\t0.134803\n",
      "190\t435   \t0.119846\t0.126176\n",
      "191\t441   \t0.119793\t0.132097\n",
      "192\t448   \t0.11977 \t0.132507\n",
      "193\t441   \t0.11977 \t0.121103\n",
      "194\t444   \t0.119742\t0.136851\n",
      "195\t445   \t0.119724\t0.140526\n",
      "196\t427   \t0.119645\t0.129054\n",
      "197\t450   \t0.119612\t0.12212 \n",
      "198\t441   \t0.119583\t0.124067\n",
      "199\t434   \t0.119351\t0.120029\n",
      "200\t442   \t0.119351\t0.120493\n",
      "201\t439   \t0.119205\t0.131087\n",
      "202\t448   \t0.119204\t0.128775\n",
      "203\t439   \t0.119128\t0.127481\n",
      "204\t447   \t0.119076\t0.123556\n",
      "205\t450   \t0.119076\t0.129334\n",
      "206\t439   \t0.119026\t0.122421\n",
      "207\t443   \t0.119025\t0.129995\n",
      "208\t439   \t0.118246\t0.12862 \n",
      "209\t450   \t0.118228\t0.124015\n",
      "210\t443   \t0.118228\t0.120577\n",
      "211\t439   \t0.118207\t0.127718\n",
      "212\t442   \t0.118173\t0.125334\n",
      "213\t440   \t0.118173\t0.129679\n",
      "214\t454   \t0.118147\t0.119632\n",
      "215\t435   \t0.118138\t0.138369\n",
      "216\t439   \t0.118068\t0.123808\n",
      "217\t449   \t0.118019\t0.138538\n",
      "218\t445   \t0.117894\t0.123015\n",
      "219\t439   \t0.117894\t0.13143 \n",
      "220\t446   \t0.117791\t0.123125\n",
      "221\t429   \t0.117791\t0.118697\n",
      "222\t440   \t0.117726\t0.131246\n",
      "223\t440   \t0.117726\t0.123326\n",
      "224\t447   \t0.117602\t0.130111\n",
      "225\t458   \t0.117602\t0.127393\n",
      "226\t430   \t0.117602\t0.122313\n",
      "227\t454   \t0.117565\t0.120392\n",
      "228\t436   \t0.117523\t0.121686\n",
      "229\t443   \t0.117478\t0.126029\n",
      "230\t446   \t0.117478\t0.135988\n",
      "231\t449   \t0.117349\t0.127426\n",
      "232\t438   \t0.117349\t0.120223\n",
      "233\t441   \t0.117349\t0.135599\n",
      "234\t436   \t0.117039\t0.122131\n",
      "235\t439   \t0.117001\t0.117613\n",
      "236\t429   \t0.116992\t0.124718\n",
      "237\t439   \t0.116972\t0.129083\n",
      "238\t445   \t0.116869\t0.125192\n",
      "239\t446   \t0.116869\t0.129921\n",
      "240\t439   \t0.116805\t0.12816 \n",
      "241\t435   \t0.116805\t0.125689\n",
      "242\t444   \t0.116738\t0.124492\n",
      "243\t448   \t0.116732\t0.127046\n",
      "244\t446   \t0.116682\t0.121405\n",
      "245\t443   \t0.116682\t0.122137\n",
      "246\t431   \t0.11666 \t0.117126\n",
      "247\t446   \t0.11666 \t0.132023\n",
      "248\t444   \t0.116631\t0.124714\n",
      "249\t444   \t0.116627\t0.11893 \n",
      "250\t432   \t0.116621\t0.121512\n",
      "251\t437   \t0.11662 \t0.117352\n",
      "252\t439   \t0.1166  \t0.121659\n",
      "253\t443   \t0.116598\t0.118129\n",
      "254\t454   \t0.116588\t0.120905\n",
      "255\t447   \t0.116579\t0.122243\n",
      "256\t436   \t0.116579\t0.129946\n",
      "257\t446   \t0.116576\t0.117576\n",
      "258\t441   \t0.116571\t0.124262\n",
      "259\t441   \t0.116563\t0.123494\n",
      "260\t443   \t0.116468\t0.120824\n",
      "261\t449   \t0.116422\t0.122437\n",
      "262\t433   \t0.116419\t0.148652\n",
      "263\t451   \t0.116419\t0.11919 \n",
      "264\t445   \t0.11638 \t0.116702\n",
      "265\t428   \t0.116376\t0.135252\n",
      "266\t444   \t0.116373\t0.129751\n",
      "267\t433   \t0.116359\t0.124482\n",
      "268\t453   \t0.116348\t0.125087\n",
      "269\t450   \t0.116338\t0.119171\n",
      "270\t436   \t0.11632 \t0.134726\n",
      "271\t451   \t0.116315\t0.12575 \n",
      "272\t435   \t0.116305\t0.116647\n",
      "273\t451   \t0.116296\t0.135099\n",
      "274\t443   \t0.116296\t0.138965\n",
      "275\t448   \t0.11629 \t0.116695\n",
      "276\t450   \t0.11629 \t0.142347\n",
      "277\t444   \t0.116288\t0.121943\n",
      "278\t444   \t0.116286\t0.117193\n",
      "279\t445   \t0.116286\t0.124629\n",
      "280\t448   \t0.116284\t0.11804 \n",
      "281\t443   \t0.11628 \t0.116634\n",
      "282\t408   \t0.11628 \t0.119969\n",
      "283\t457   \t0.116279\t0.135871\n",
      "284\t460   \t0.116278\t0.131283\n",
      "285\t441   \t0.116275\t0.116375\n",
      "286\t432   \t0.116275\t0.116956\n",
      "287\t436   \t0.116275\t0.124562\n",
      "288\t438   \t0.116274\t0.11722 \n",
      "289\t444   \t0.116274\t0.116979\n",
      "290\t443   \t0.116273\t0.126101\n",
      "291\t443   \t0.11627 \t0.140784\n",
      "292\t429   \t0.11627 \t0.131766\n",
      "293\t444   \t0.11627 \t0.116505\n",
      "294\t431   \t0.11627 \t0.124678\n",
      "295\t446   \t0.116269\t0.11707 \n",
      "296\t433   \t0.116269\t0.117738\n",
      "297\t440   \t0.116269\t0.126825\n",
      "298\t441   \t0.116268\t0.118546\n",
      "299\t434   \t0.116268\t0.133206\n",
      "300\t439   \t0.116267\t0.136778\n",
      "301\t412   \t0.116267\t0.13703 \n",
      "302\t451   \t0.116267\t0.132572\n",
      "303\t423   \t0.116267\t0.118837\n",
      "304\t424   \t0.116266\t0.12809 \n",
      "305\t450   \t0.116266\t0.117194\n",
      "306\t437   \t0.116266\t0.119848\n",
      "307\t434   \t0.116266\t0.121062\n",
      "308\t439   \t0.116266\t0.125288\n",
      "309\t452   \t0.116265\t0.116607\n",
      "310\t447   \t0.116264\t0.120374\n",
      "311\t442   \t0.116264\t0.124681\n",
      "312\t441   \t0.116264\t0.117342\n",
      "313\t441   \t0.116264\t0.116629\n",
      "314\t444   \t0.116264\t0.121892\n",
      "315\t453   \t0.116264\t0.117932\n",
      "316\t441   \t0.116264\t0.117086\n",
      "317\t438   \t0.116263\t0.120633\n",
      "318\t447   \t0.116263\t0.117165\n",
      "319\t447   \t0.116263\t0.123822\n",
      "320\t451   \t0.116263\t0.120177\n",
      "321\t437   \t0.116263\t0.123429\n",
      "322\t451   \t0.116262\t0.118702\n",
      "323\t436   \t0.116262\t0.125352\n",
      "324\t454   \t0.116262\t0.138487\n",
      "325\t436   \t0.116262\t0.117852\n",
      "326\t457   \t0.116262\t0.116652\n",
      "327\t444   \t0.116262\t0.116509\n",
      "328\t456   \t0.116262\t0.128478\n",
      "329\t444   \t0.116262\t0.125715\n",
      "330\t431   \t0.116261\t0.118921\n",
      "331\t452   \t0.116261\t0.12728 \n",
      "332\t446   \t0.116261\t0.130013\n",
      "333\t447   \t0.116261\t0.121174\n",
      "334\t447   \t0.116261\t0.122063\n",
      "335\t444   \t0.116261\t0.118675\n",
      "336\t435   \t0.116261\t0.119744\n",
      "337\t446   \t0.116261\t0.116675\n",
      "338\t446   \t0.116261\t0.119719\n",
      "339\t456   \t0.116261\t0.116726\n",
      "340\t430   \t0.116261\t0.117042\n",
      "341\t453   \t0.116261\t0.119833\n",
      "342\t433   \t0.116261\t0.121702\n",
      "343\t446   \t0.116261\t0.130246\n",
      "344\t434   \t0.116261\t0.129255\n",
      "345\t440   \t0.11626 \t0.121115\n",
      "346\t444   \t0.116259\t0.118928\n",
      "347\t438   \t0.116256\t0.119776\n",
      "348\t444   \t0.116256\t0.129155\n",
      "349\t455   \t0.116255\t0.116723\n",
      "350\t448   \t0.116255\t0.117007\n",
      "351\t439   \t0.116255\t0.140358\n",
      "352\t438   \t0.116254\t0.117003\n",
      "353\t436   \t0.116254\t0.116632\n",
      "354\t449   \t0.116253\t0.127012\n",
      "355\t450   \t0.116252\t0.116842\n",
      "356\t443   \t0.116252\t0.118791\n",
      "357\t439   \t0.116248\t0.118061\n",
      "358\t447   \t0.116247\t0.132533\n",
      "359\t442   \t0.116247\t0.119204\n",
      "360\t438   \t0.116246\t0.124382\n",
      "361\t441   \t0.116246\t0.120775\n",
      "362\t428   \t0.116246\t0.121426\n",
      "363\t451   \t0.116245\t0.132391\n",
      "364\t453   \t0.116245\t0.116528\n",
      "365\t443   \t0.116245\t0.13356 \n",
      "366\t441   \t0.116245\t0.117158\n",
      "367\t450   \t0.116245\t0.116904\n",
      "368\t447   \t0.116245\t0.133221\n",
      "369\t456   \t0.116245\t0.134263\n",
      "370\t433   \t0.115976\t0.125723\n",
      "371\t453   \t0.115976\t0.135346\n",
      "372\t437   \t0.115976\t0.116557\n",
      "373\t442   \t0.115965\t0.116988\n",
      "374\t434   \t0.115964\t0.127104\n",
      "375\t446   \t0.115952\t0.120021\n",
      "376\t440   \t0.115784\t0.118449\n",
      "377\t433   \t0.115783\t0.116416\n",
      "378\t435   \t0.115771\t0.133402\n",
      "379\t452   \t0.115751\t0.136901\n",
      "380\t455   \t0.115735\t0.129933\n",
      "381\t425   \t0.115735\t0.116426\n",
      "382\t438   \t0.115735\t0.126155\n",
      "383\t444   \t0.115689\t0.119223\n",
      "384\t445   \t0.115689\t0.145717\n",
      "385\t441   \t0.115677\t0.133921\n",
      "386\t441   \t0.115677\t0.141628\n",
      "387\t446   \t0.115677\t0.121481\n",
      "388\t440   \t0.115672\t0.119504\n",
      "389\t449   \t0.11567 \t0.128673\n",
      "390\t439   \t0.115668\t0.116486\n",
      "391\t440   \t0.115665\t0.147419\n",
      "392\t448   \t0.115659\t0.134964\n",
      "393\t441   \t0.115659\t0.122716\n",
      "394\t456   \t0.115656\t0.115971\n",
      "395\t448   \t0.115656\t0.120478\n",
      "396\t457   \t0.115649\t0.135923\n",
      "397\t442   \t0.115645\t0.117357\n",
      "398\t446   \t0.115577\t0.120691\n",
      "399\t451   \t0.115567\t0.116344\n",
      "400\t438   \t0.115529\t0.119654\n",
      "401\t456   \t0.115529\t0.123918\n",
      "402\t443   \t0.115524\t0.118903\n",
      "403\t429   \t0.115508\t0.127426\n",
      "404\t437   \t0.115498\t0.127951\n",
      "405\t454   \t0.115498\t0.130224\n",
      "406\t441   \t0.115498\t0.121106\n",
      "407\t443   \t0.115445\t0.125045\n",
      "408\t437   \t0.115428\t0.11593 \n",
      "409\t440   \t0.115428\t0.129575\n",
      "410\t443   \t0.115428\t0.1197  \n",
      "411\t439   \t0.115423\t0.118034\n",
      "412\t443   \t0.11541 \t0.117571\n",
      "413\t443   \t0.115394\t0.124342\n",
      "414\t434   \t0.115391\t0.117379\n",
      "415\t461   \t0.115391\t0.119851\n",
      "416\t455   \t0.115391\t0.129265\n",
      "417\t439   \t0.115387\t0.133411\n",
      "418\t449   \t0.11538 \t0.11571 \n",
      "419\t442   \t0.115373\t0.11745 \n",
      "420\t450   \t0.115339\t0.122529\n",
      "421\t443   \t0.115339\t0.131501\n",
      "422\t448   \t0.115316\t0.122401\n",
      "423\t457   \t0.115311\t0.121454\n",
      "424\t429   \t0.115305\t0.120382\n",
      "425\t436   \t0.115305\t0.124874\n",
      "426\t449   \t0.115305\t0.139566\n",
      "427\t437   \t0.115296\t0.121986\n",
      "428\t452   \t0.115235\t0.119498\n",
      "429\t437   \t0.115235\t0.117024\n",
      "430\t427   \t0.115144\t0.115484\n",
      "431\t433   \t0.115144\t0.119622\n",
      "432\t452   \t0.115133\t0.115445\n",
      "433\t446   \t0.115128\t0.116846\n",
      "434\t451   \t0.115124\t0.118867\n",
      "435\t437   \t0.115093\t0.123685\n",
      "436\t445   \t0.115093\t0.124342\n",
      "437\t444   \t0.115086\t0.120881\n",
      "438\t447   \t0.115086\t0.127098\n",
      "439\t456   \t0.115082\t0.119684\n",
      "440\t456   \t0.11508 \t0.126027\n",
      "441\t438   \t0.115068\t0.12209 \n",
      "442\t454   \t0.115068\t0.118364\n",
      "443\t435   \t0.115068\t0.143138\n",
      "444\t444   \t0.115066\t0.119918\n",
      "445\t434   \t0.115064\t0.117944\n",
      "446\t437   \t0.115057\t0.127146\n",
      "447\t439   \t0.115057\t0.121525\n",
      "448\t439   \t0.11498 \t0.116864\n",
      "449\t446   \t0.114967\t0.121606\n",
      "450\t444   \t0.114965\t0.124152\n"
     ]
    },
    {
     "data": {
      "text/plain": "<Figure size 900x700 with 1 Axes>",
      "image/png": "[encoded data removed]"
     },
     "metadata": {},
     "output_type": "display_data"
    }
   ],
   "source": [
    "# create initial population (generation 0):\n",
    "population  = toolbox.populationCreator(n=POPULATION_SIZE)\n",
    "\n",
    "# prepare the statistics object:\n",
    "stats = tools.Statistics(lambda ind: ind.fitness.values)\n",
    "stats.register(\"min\", np.min)\n",
    "stats.register(\"avg\", np.mean)\n",
    "\n",
    "# define the hall-of-fame object:\n",
    "hof = tools.HallOfFame(HALL_OF_FAME)\n",
    "\n",
    "# perform the Genetic Algorithm flow with hof feature added:\n",
    "population, logbook = eaSimpleWithElitism(population, toolbox, cxpb=P_CROSSOVER, mutpb=P_MUTATION,\n",
    "                                          ngen=MAX_GENERATIONS, stats=stats, halloffame=hof, verbose=True)\n",
    "\n",
    "# extract statistics:\n",
    "minFitnessValues, meanFitnessValues = logbook.select(\"min\", \"avg\")\n",
    "\n",
    "# plot statistics:\n",
    "sns.set_style(\"whitegrid\")\n",
    "plt.plot(minFitnessValues, color='red')\n",
    "plt.plot(meanFitnessValues, color='green')\n",
    "plt.xlabel('Generation')\n",
    "plt.ylabel('Max / Average Fitness')\n",
    "plt.title('Max and Average fitness over Generations')\n",
    "plt.show()"
   ],
   "metadata": {
    "collapsed": false
   }
  },
  {
   "cell_type": "code",
   "execution_count": 14,
   "outputs": [
    {
     "name": "stdout",
     "output_type": "stream",
     "text": [
      "-- Best Ever Individual =  [0.7308217880783335, 0.30007935635076444, 0.4972050851184249, 0.08691315571011188, 0.3576937592866472, 0.6050122399846011, 0.44452418473489025, 0.27147852843204734, 0.13765354841267036, 0.18012789036261365, 0.6841536050221158, 0.9849830675624939, 0.3727875043379761, 0.5070504299898485, 0.19295920293548938, 0.28083297208039093, 1.9428210872876246e-05, 0.013557486293306593, 0.709491800464979, 0.6561964400811948, 0.14350581347671612, 0.9999991281030615, 0.01923551637290028, 0.09054176301762937, 0.8935990504059245, 0.4190899074536342, 0.495278000674059, 0.9920506822375151, 0.48787364561829955, 0.8829043393792931, 0.9999951967384417, 0.47493812012104, 0.989139913732321, 0.23967799807604562, 0.09929347420543501, 0.3559729770767189, 0.4907005162402374, 0.6314450223905258, 0.9878394515759511, 0.060604669523525875, 0.7634962102640632, 0.3916094026180305, 0.40947387258483525, 0.1669865773171007, 0.09586038391271615, 0.12484587556861171, 0.7461133798719042, 0.4690538435255178, 0.932265985767583, 0.7119669537039192, 0.32754365410092795, 0.9813310313129805, 0.7222772925492866, 0.5702619033216828, 0.03510962998390057, 0.7234228007650144, 0.8783428356205742, 0.2764682411249695, 0.7815627419957779, 0.32255117320486976, 0.7922723576919626, 0.4418714914759042, 0.5235252721271075, 0.6695524814696285, 0.21044340151260765, 0.31739791059393146, 0.3114473966323385, 0.13700375256789893, 0.5994370622389218, 0.06450301282159132, 0.9580261132369692, 0.034477156690938725, 0.2081960137261652, 0.1985405868913204, 0.8827674857685951, 0.49386058744505057, 0.4680002457558684, 0.331862453396469, 0.47212181257343266, 0.36841488904407793, 0.5735704547479941, 0.2687107757496732, 0.24048539883973435, 0.012843800803059465, 0.48422492306397313, 0.10236742173040962, 0.7970963497042374, 0.9357494255943811, 0.980041567356572, 0.2373167768731242, 0.6576038748915982, 0.32271613359521695, 0.9023592612972119, 0.298053092323789, 0.024055027992430544, 0.5457968724458486, 0.8723857507794087, 0.9189215961076033, 0.915121283467768, 0.6073150978316915, 0.3985175734726613, 0.08160920309803828, 0.41329512446855454, 0.705600523084201, 0.7312916676637431, 0.3527499141639703, 0.7400727748136373, 0.9553397905550517, 0.490568267675682, 0.5323354707111163, 0.2231651868595615, 0.9258687340558361, 0.3120870660850533, 0.8943279078967947, 0.15298435646032355, 0.019588514965276603, 0.4191701732700428, 0.774014486070012, 0.06572379415581961, 0.12010958399931264, 0.5914222150385033, 0.42120905436432254, 0.6613974632760807, 0.8441006287961356, 0.06842490348367926, 0.43537332057397676, 0.7665894523458965, 0.12999753619760449, 47.66433330406181]\n",
      "-- Best Ever Fitness =  0.11496514081954956\n"
     ]
    }
   ],
   "source": [
    "# print best solution found:\n",
    "best = hof.items[0]\n",
    "print(\"-- Best Ever Individual = \", best)\n",
    "print(\"-- Best Ever Fitness = \", best.fitness.values[0])"
   ],
   "metadata": {
    "collapsed": false
   }
  },
  {
   "cell_type": "code",
   "execution_count": null,
   "outputs": [],
   "source": [
    "strokes = best.copy()[:VECTOR_SIZE]\n",
    "pads = int(best.copy()[-1])*N_FEATURES\n",
    "for v in range(VECTOR_SIZE-pads, VECTOR_SIZE):\n",
    "    strokes[v] = SRC_PAD_IDX\n",
    "src = torch.tensor(strokes).reshape(N_STROKES_TO_OPTIMIZE, VECTOR_SIZE)\n",
    "bos_vector = torch.zeros([1, VECTOR_SIZE]) + BOS_IDX\n",
    "eos_vector = torch.zeros([1, VECTOR_SIZE]) + EOS_IDX\n",
    "pad_vector = torch.zeros([ENCODER_INPUT_LENGTH-2-src.shape[0], VECTOR_SIZE]) + SRC_PAD_IDX\n",
    "\n",
    "src = torch.cat([bos_vector, src, eos_vector, pad_vector], dim=0)\n",
    "\n",
    "svg_str = strokes_to_svg(src, {'height':100, 'width':100}, SRC_PAD_IDX, BOS_IDX, EOS_IDX)\n",
    "display(SVG(data = svg_str))\n",
    "\n",
    "print(src.shape)\n",
    "print(src)\n",
    "print(src[1]) # generated stroke"
   ],
   "metadata": {
    "collapsed": false,
    "pycharm": {
     "is_executing": true
    }
   }
  },
  {
   "cell_type": "markdown",
   "source": [],
   "metadata": {
    "collapsed": false
   }
  }
 ],
 "metadata": {
  "kernelspec": {
   "display_name": "Python 3",
   "language": "python",
   "name": "python3"
  },
  "language_info": {
   "codemirror_mode": {
    "name": "ipython",
    "version": 2
   },
   "file_extension": ".py",
   "mimetype": "text/x-python",
   "name": "python",
   "nbconvert_exporter": "python",
   "pygments_lexer": "ipython2",
   "version": "2.7.6"
  }
 },
 "nbformat": 4,
 "nbformat_minor": 0
}
