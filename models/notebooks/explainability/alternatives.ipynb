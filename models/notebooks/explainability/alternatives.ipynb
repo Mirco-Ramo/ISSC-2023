{
 "cells": [
  {
   "cell_type": "markdown",
   "source": [],
   "metadata": {
    "collapsed": false
   }
  },
  {
   "cell_type": "markdown",
   "source": [
    "# Prediction test\n",
    "Feed the model with incomplete sentences adn print the most likely tokens at the end of the sentence.\n",
    "Evaluate if the model is predicting tokens that fit the language modelling"
   ],
   "metadata": {
    "collapsed": false
   }
  },
  {
   "cell_type": "code",
   "execution_count": 1,
   "outputs": [],
   "source": [
    "import os\n",
    "import sys\n",
    "import random\n",
    "import torch\n",
    "import warnings\n",
    "from tokenizers import Tokenizer\n",
    "\n",
    "from pathlib import Path\n",
    "from torch.utils.data import DataLoader\n",
    "from IPython.display import SVG, display"
   ],
   "metadata": {
    "collapsed": false
   }
  },
  {
   "cell_type": "markdown",
   "source": [
    "### 0. Add packages to python path"
   ],
   "metadata": {
    "collapsed": false
   }
  },
  {
   "cell_type": "code",
   "execution_count": 2,
   "outputs": [],
   "source": [
    "%load_ext autoreload\n",
    "%autoreload 2\n",
    "warnings.filterwarnings('ignore')"
   ],
   "metadata": {
    "collapsed": false
   }
  },
  {
   "cell_type": "code",
   "execution_count": 3,
   "outputs": [
    {
     "name": "stdout",
     "output_type": "stream",
     "text": [
      "I:\\My Drive\\master_thesis_experiments\\glyph-recognition-experiments\n"
     ]
    }
   ],
   "source": [
    "b_paths = [os.path.abspath(os.path.join('..', '..', '..')), os.path.abspath(os.path.join('..', '..')), os.path.abspath(os.path.join('..', '..', 'scripts'))]\n",
    "for b_path in b_paths:\n",
    "    if b_path not in sys.path:\n",
    "        sys.path.append(b_path)\n",
    "\n",
    "BASE_DIR = Path(os.getcwd()).parent.parent.parent.resolve()\n",
    "%cd $BASE_DIR"
   ],
   "metadata": {
    "collapsed": false
   }
  },
  {
   "cell_type": "markdown",
   "source": [
    "## 1. Load model and test set"
   ],
   "metadata": {
    "collapsed": false
   }
  },
  {
   "cell_type": "code",
   "execution_count": 4,
   "outputs": [],
   "source": [
    "from models.scripts.generate_dataset import WordDatasetGenerator\n",
    "from models.scripts.transformer.printable_models import ExplainableTransformer\n",
    "from models.scripts.transformer.PreEncoders import Conv1DTransformer\n",
    "from models.scripts.transformer.utils import preprocess_dataset, seed_all, strokes_to_svg, load_json_hypeparameters, pad_collate_fn\n",
    "from models.scripts.utils import Levenshtein_Normalized_distance"
   ],
   "metadata": {
    "collapsed": false
   }
  },
  {
   "cell_type": "code",
   "execution_count": 5,
   "outputs": [],
   "source": [
    "VERSION = \"en-en11\"\n",
    "SEED = 2021\n",
    "BATCH_SIZE = 256\n",
    "EXPR_MODE=\"all\"\n",
    "seed_all(SEED)"
   ],
   "metadata": {
    "collapsed": false
   }
  },
  {
   "cell_type": "code",
   "execution_count": 6,
   "outputs": [
    {
     "name": "stdout",
     "output_type": "stream",
     "text": [
      "Number of Tokens: 2000\n",
      "\n",
      "['!', '!!', '!!!', '\"', '#', '$', '%', '&', \"'\", \"'d\", \"'ll\", \"'m\", \"'re\", \"'s\", \"'t\", \"'ve\", '(', ')', '),', ').', '*', '+', ',', ',\"', '-', '.', '.\"', '..', '...', '....', '.....', '........', '/', '0', '1', '2', '3', '4', '5', '6', '7', '8', '9', ':', ';', '<', '<bos>', '<eos>', '<pad>', '<unk>', '=', '>', '?', '??', '@', 'A', 'B', 'BC', 'C', 'D', 'E', 'ER', 'F', 'G', 'H', 'I', 'IN', 'It', 'J', 'K', 'L', 'M', 'N', 'O', 'OT', 'P', 'Q', 'R', 'S', 'T', 'The', 'U', 'V', 'W', 'We', 'X', 'Y', 'Z', '[', '\\\\', ']', '^', '_', '`', 'a', 'ab', 'able', 'ably', 'abour', 'ac', 'acc', 'ace', 'ach', 'ack', 'act', 'acy', 'ad', 'ade', 'ady', 'af', 'aff', 'ag', 'age', 'ages', 'ague', 'ah', 'ai', 'aid', 'aign', 'ail', 'aim', 'ain', 'ained', 'aining', 'ains', 'air', 'ait', 'aj', 'ajor', 'ak', 'ake', 'aken', 'akes', 'aking', 'al', 'ald', 'ale', 'ales', 'alf', 'alif', 'ality', 'all', 'ally', 'als', 'alth', 'am', 'ama', 'ame', 'ament', 'amer', 'ames', 'amp', 'an', 'anc', 'ance', 'ances', 'and', 'ands', 'ane', 'ang', 'ange', 'anies', 'ank', 'ann', 'ans', 'ant', 'ants', 'any', 'ap', 'aper', 'app', 'aps', 'ar', 'arch', 'ard', 'ards', 'are', 'ared', 'arent', 'aring', 'ark', 'arly', 'arm', 'arr', 'ars', 'art', 'ary', 'as', 'ase', 'ased', 'ases', 'ash', 'ason', 'ass', 'ast', 'at', 'ata', 'atch', 'ate', 'ated', 'ately', 'ater', 'ates', 'ath', 'ather', 'ating', 'ation', 'ational', 'ations', 'ative', 'ator', 'ats', 'att', 'atur', 'ature', 'au', 'aug', 'augh', 'ault', 'ause', 'aut', 'av', 'ave', 'aving', 'aw', 'ax', 'ay', 'ays', 'az', 'b', 'bably', 'ball', 'be', 'ber', 'bers', 'ble', 'body', 'br', 'bs', 'by', 'c', 'cc', 'ce', 'ced', 'cent', 'cept', 'ces', 'cess', 'ch', 'ched', 'chn', 'chool', 'ck', 'cl', 'co', 'com', 'con', 'conom', 'ct', 'ction', 'd', 'day', 'der', 'du', 'duc', 'e', 'ead', 'eal', 'ear', 'ec', 'ect', 'ed', 'ee', 'ef', 'eg', 'el', 'ele', 'ell', 'els', 'em', 'ember', 'ement', 'empt', 'en', 'enc', 'ence', 'ency', 'end', 'ended', 'ending', 'ens', 'ense', 'ent', 'ention', 'ents', 'ep', 'er', 'eral', 'ere', 'ered', 'erest', 'ering', 'ern', 'ers', 'erson', 'ert', 'ertain', 'erv', 'ery', 'es', 'ess', 'est', 'et', 'ets', 'ever', 'ew', 'ex', 'f', 'ff', 'for', 'fore', 'form', 'ft', 'fter', 'ful', 'g', 'gan', 'ge', 'ged', 'ger', 'ges', 'gest', 'get', 'gg', 'ggest', 'gin', 'ging', 'gr', 'gram', 'gress', 'gy', 'h', 'ham', 'han', 'he', 'head', 'hed', 'hen', 'her', 'here', 'hes', 'hing', 'hip', 'ht', 'i', 'ia', 'ial', 'ially', 'ian', 'ians', 'ib', 'ible', 'ic', 'ical', 'ically', 'ice', 'ices', 'ich', 'ick', 'ics', 'ict', 'id', 'iday', 'idd', 'ide', 'ided', 'idence', 'ident', 'ider', 'ides', 'ie', 'ied', 'ief', 'ield', 'ience', 'ient', 'ier', 'ies', 'iet', 'iety', 'iew', 'if', 'ife', 'iff', 'ific', 'ified', 'ig', 'igh', 'ight', 'ign', 'ik', 'il', 'ild', 'ile', 'ility', 'ill', 'illion', 'ily', 'im', 'imate', 'ime', 'imes', 'imin', 'in', 'ina', 'inc', 'ince', 'ind', 'ine', 'ined', 'ines', 'iness', 'ing', 'ings', 'ink', 'ins', 'int', 'io', 'iol', 'ion', 'ional', 'ions', 'ior', 'ious', 'ip', 'ir', 'ird', 'ire', 'irect', 'ired', 'irl', 'is', 'ise', 'ised', 'ish', 'ished', 'ising', 'ision', 'ism', 'ison', 'iss', 'ission', 'ist', 'ister', 'ists', 'it', 'ital', 'ite', 'ited', 'ith', 'ither', 'ities', 'ition', 'itions', 'itive', 'its', 'itt', 'ittle', 'ity', 'iv', 'ive', 'ivers', 'iversity', 'ives', 'ix', 'iz', 'ize', 'ized', 'j', 'ject', 'k', 'ke', 'ked', 'king', 'ks', 'l', 'land', 'ld', 'le', 'lease', 'lect', 'led', 'ler', 'les', 'less', 'ley', 'lf', 'li', 'line', 'ling', 'lish', 'll', 'lling', 'lud', 'ly', 'm', 'man', 'mber', 'me', 'med', 'ment', 'ments', 'mer', 'meric', 'min', 'minist', 'most', 'ms', 'my', 'n', 'nce', 'nd', 'nder', 'ne', 'ned', 'ner', 'nes', 'ness', 'ney', 'ng', 'ning', 'not', 'nt', 'ny', 'o', 'ob', 'oc', 'ock', 'ocr', 'ocrat', 'od', 'ody', 'oe', 'of', 'og', 'oh', 'ohn', 'oice', 'oint', 'ok', 'ol', 'old', 'oll', 'olog', 'ology', 'om', 'ome', 'omet', 'omm', 'omp', 'on', 'ond', 'ondon', 'one', 'ones', 'oney', 'ong', 'ons', 'ont', 'ony', 'oo', 'ood', 'ook', 'ool', 'oot', 'op', 'ope', 'ople', 'or', 'ord', 'ording', 'ore', 'ored', 'ories', 'ork', 'orm', 'orn', 'ors', 'ort', 'orth', 'orts', 'ortun', 'ory', 'os', 'ose', 'osed', 'osp', 'oss', 'ost', 'ot', 'ote', 'oth', 'other', 'ots', 'ott', 'ou', 'oug', 'ough', 'ought', 'ould', 'oun', 'ounc', 'ound', 'ounds', 'ount', 'oup', 'our', 'ourn', 'ours', 'ous', 'ouse', 'out', 'outh', 'ov', 'ove', 'ow', 'ower', 'owing', 'own', 'ox', 'oy', 'p', 'pe', 'pec', 'pect', 'per', 'ph', 'pl', 'ploy', 'port', 'pp', 'pped', 'pr', 'pt', 'q', 'qu', 'r', 'ra', 'ract', 'ral', 'rap', 'rat', 'ration', 'raw', 're', 'ready', 'ream', 'reat', 'red', 'ree', 'reed', 'reen', 'ren', 'rent', 'res', 'resent', 'resident', 'ress', 'rest', 'ret', 'rew', 'ri', 'rib', 'ric', 'ried', 'riend', 'ries', 'rit', 'ro', 'rop', 'ror', 'ross', 'ru', 'ruct', 'rug', 'rupt', 'ry', 's', 'se', 'sec', 'sel', 'self', 'selves', 'sh', 'side', 'so', 'son', 'ss', 'st', 'stand', 'stem', 'ster', 'sw', 't', 'te', 'ted', 'ten', 'ter', 'tern', 'ters', 'th', 'the', 'ther', 'thing', 'tic', 'ting', 'to', 'ton', 'ts', 'ty', 'u', 'ual', 'ually', 'ub', 'ubl', 'ublic', 'uc', 'uch', 'uck', 'ud', 'ue', 'ued', 'ues', 'uff', 'ug', 'uge', 'ul', 'ular', 'ulation', 'ull', 'ully', 'ult', 'uly', 'um', 'ump', 'un', 'unch', 'und', 'une', 'unt', 'up', 'ur', 'ure', 'ured', 'ures', 'uring', 'urity', 'urn', 'uro', 'urs', 'ury', 'us', 'use', 'used', 'ush', 'uss', 'ust', 'ut', 'ute', 'utes', 'uth', 'uthor', 'ution', 'v', 've', 'ved', 'vel', 'velop', 'ven', 'vent', 'ver', 'vern', 'vernment', 'vers', 'very', 'ves', 'view', 'ving', 'vious', 'viously', 'w', 'ward', 'wards', 'way', 'ways', 'we', 'ween', 'wh', 'where', 'wn', 'ww', 'x', 'xit', 'xt', 'y', 'year', 'ying', 'yp', 'ys', 'z', '{', '|', '}', '~', '¡', '¢', '£', '¤', '¥', '¦', '§', '¨', '©', 'ª', '«', '¬', '®', '¯', '°', '±', '²', '³', '´', 'µ', '¶', '·', '¸', '¹', 'º', '»', '¼', '½', '¾', '¿', 'Â', 'Â¿', 'Ã', 'Ä', 'Å', 'Æ', 'Ç', 'È', 'É', 'Ê', 'Ë', 'Î', 'Ï', 'Ð', 'Ñ', 'Ò', 'Ó', 'Ô', 'Õ', 'Ö', '×', 'Ø', 'Ù', 'Ú', 'Û', 'Ü', 'Ý', 'Þ', 'à', 'á', 'â', 'âĢ', 'âĢĻ', 'ã', 'ä', 'å', 'æ', 'ç', 'è', 'é', 'ê', 'î', 'ï', 'ð', 'ó', 'ô', 'Ā', 'ā', 'ă', 'ć', 'Ĉ', 'Ċ', 'Ď', 'Đ', 'ē', 'Ĕ', 'Ě', 'ě', 'Ġ', 'Ġ\"', 'Ġ$', 'Ġ%', 'Ġ&', \"Ġ'\", 'Ġ(', 'Ġ)', 'Ġ,', 'Ġ-', 'Ġ--', 'Ġ.', 'Ġ...', 'Ġ/', 'Ġ0', 'Ġ1', 'Ġ2', 'Ġ3', 'Ġ4', 'Ġ5', 'Ġ6', 'Ġ7', 'Ġ8', 'Ġ9', 'Ġ:', 'Ġ?', 'Ġ@', 'ĠA', 'ĠAb', 'ĠAd', 'ĠAf', 'ĠAl', 'ĠAll', 'ĠAm', 'ĠAmeric', 'ĠAmerica', 'ĠAmerican', 'ĠAn', 'ĠAnd', 'ĠAr', 'ĠAs', 'ĠAt', 'ĠAust', 'ĠAustral', 'ĠB', 'ĠBe', 'ĠBl', 'ĠBr', 'ĠBre', 'ĠBrexit', 'ĠBrit', 'ĠBritain', 'ĠBritish', 'ĠBut', 'ĠC', 'ĠCan', 'ĠCar', 'ĠCh', 'ĠChina', 'ĠChr', 'ĠChrist', 'ĠCl', 'ĠCo', 'ĠComm', 'ĠCon', 'ĠCor', 'ĠD', 'ĠDav', 'ĠDe', 'ĠDem', 'ĠDemocrat', 'ĠDo', 'ĠDon', 'ĠE', 'ĠEU', 'ĠEng', 'ĠEngland', 'ĠEuro', 'ĠEurope', 'ĠEuropean', 'ĠEx', 'ĠF', 'ĠFor', 'ĠFr', 'ĠG', 'ĠGer', 'ĠGerman', 'ĠGo', 'ĠGr', 'ĠGu', 'ĠH', 'ĠHar', 'ĠHe', 'ĠHis', 'ĠHouse', 'ĠHow', 'ĠI', 'ĠIf', 'ĠIm', 'ĠIn', 'ĠInd', 'ĠIr', 'ĠIs', 'ĠIt', 'ĠJ', 'ĠJohn', 'ĠJust', 'ĠK', 'ĠL', 'ĠLabour', 'ĠLe', 'ĠLi', 'ĠLondon', 'ĠM', 'ĠMan', 'ĠMar', 'ĠMay', 'ĠMc', 'ĠMin', 'ĠMr', 'ĠMy', 'ĠN', 'ĠNew', 'ĠNo', 'ĠNot', 'ĠNow', 'ĠO', 'ĠOb', 'ĠObama', 'ĠOh', 'ĠOn', 'ĠOne', 'ĠOr', 'ĠP', 'ĠPar', 'ĠPe', 'ĠPh', 'ĠPol', 'ĠPr', 'ĠPresident', 'ĠPro', 'ĠQ', 'ĠR', 'ĠRe', 'ĠRep', 'ĠRepublic', 'ĠRuss', 'ĠRussia', 'ĠS', 'ĠSc', 'ĠScot', 'ĠScotland', 'ĠSe', 'ĠSen', 'ĠSh', 'ĠShe', 'ĠSo', 'ĠSome', 'ĠSouth', 'ĠSp', 'ĠSt', 'ĠStates', 'ĠSy', 'ĠT', 'ĠTh', 'ĠThat', 'ĠThe', 'ĠThere', 'ĠThey', 'ĠThis', 'ĠTo', 'ĠTr', 'ĠTrump', 'ĠTw', 'ĠU', 'ĠUK', 'ĠUS', 'ĠUn', 'ĠUnited', 'ĠV', 'ĠW', 'ĠWe', 'ĠWell', 'ĠWest', 'ĠWh', 'ĠWhat', 'ĠWhen', 'ĠWhy', 'ĠWill', 'ĠWith', 'ĠWor', 'ĠY', 'ĠYes', 'ĠYork', 'ĠYou', 'ĠZ', 'Ġa', 'Ġab', 'Ġable', 'Ġabout', 'Ġabs', 'Ġac', 'Ġacc', 'Ġaccording', 'Ġaccount', 'Ġacross', 'Ġact', 'Ġactually', 'Ġad', 'Ġadd', 'Ġadded', 'Ġadv', 'Ġaff', 'Ġafter', 'Ġag', 'Ġagain', 'Ġagainst', 'Ġago', 'Ġagree', 'Ġair', 'Ġal', 'Ġall', 'Ġallow', 'Ġalmost', 'Ġalong', 'Ġalready', 'Ġalso', 'Ġalways', 'Ġam', 'Ġamong', 'Ġan', 'Ġand', 'Ġann', 'Ġannoun', 'Ġanother', 'Ġant', 'Ġany', 'Ġanyone', 'Ġanything', 'Ġap', 'Ġapp', 'Ġappear', 'Ġappro', 'Ġar', 'Ġare', 'Ġarg', 'Ġaround', 'Ġartic', 'Ġarticle', 'Ġas', 'Ġasked', 'Ġass', 'Ġat', 'Ġatt', 'Ġattack', 'Ġauthor', 'Ġav', 'Ġaw', 'Ġaway', 'Ġb', 'Ġback', 'Ġbad', 'Ġball', 'Ġban', 'Ġbas', 'Ġbe', 'Ġbec', 'Ġbecause', 'Ġbecome', 'Ġbeen', 'Ġbefore', 'Ġbeh', 'Ġbehind', 'Ġbeing', 'Ġbel', 'Ġbelie', 'Ġbelieve', 'Ġben', 'Ġbenef', 'Ġbest', 'Ġbet', 'Ġbetter', 'Ġbetween', 'Ġbig', 'Ġbill', 'Ġbillion', 'Ġbit', 'Ġbl', 'Ġblack', 'Ġbo', 'Ġboth', 'Ġboy', 'Ġbr', 'Ġbre', 'Ġbreak', 'Ġbring', 'Ġbro', 'Ġbu', 'Ġbuild', 'Ġbus', 'Ġbusiness', 'Ġbut', 'Ġbuy', 'Ġby', 'Ġc', 'Ġca', 'Ġcall', 'Ġcalled', 'Ġcame', 'Ġcamp', 'Ġcampaign', 'Ġcan', 'Ġcannot', 'Ġcap', 'Ġcar', 'Ġcare', 'Ġcase', 'Ġcent', 'Ġcertain', 'Ġch', 'Ġchang', 'Ġchange', 'Ġchar', 'Ġche', 'Ġchild', 'Ġchildren', 'Ġcit', 'Ġcity', 'Ġcl', 'Ġclaim', 'Ġclass', 'Ġcle', 'Ġclear', 'Ġclose', 'Ġclub', 'Ġco', 'Ġcoll', 'Ġcom', 'Ġcome', 'Ġcomes', 'Ġcoming', 'Ġcomm', 'Ġcomment', 'Ġcommun', 'Ġcomp', 'Ġcompany', 'Ġcompl', 'Ġcomple', 'Ġcomplete', 'Ġcon', 'Ġconc', 'Ġcond', 'Ġconf', 'Ġcons', 'Ġconst', 'Ġcont', 'Ġcontin', 'Ġcontro', 'Ġcontrol', 'Ġcor', 'Ġcost', 'Ġcould', 'Ġcount', 'Ġcountries', 'Ġcountry', 'Ġcoup', 'Ġcour', 'Ġcourse', 'Ġcourt', 'Ġcr', 'Ġcre', 'Ġcrit', 'Ġcur', 'Ġcurrent', 'Ġcut', 'Ġd', 'Ġday', 'Ġdays', 'Ġde', 'Ġdeal', 'Ġdeath', 'Ġdeb', 'Ġdec', 'Ġdecision', 'Ġdef', 'Ġdel', 'Ġdem', 'Ġdep', 'Ġdes', 'Ġdest', 'Ġdet', 'Ġdevelop', 'Ġdi', 'Ġdid', 'Ġdidn', 'Ġdiff', 'Ġdiffere', 'Ġdifferent', 'Ġdirect', 'Ġdis', 'Ġdisc', 'Ġdist', 'Ġdo', 'Ġdoes', 'Ġdoesn', 'Ġdoing', 'Ġdon', 'Ġdone', 'Ġdou', 'Ġdown', 'Ġdr', 'Ġdri', 'Ġdue', 'Ġduring', 'Ġe', 'Ġeach', 'Ġear', 'Ġearly', 'Ġeas', 'Ġeconom', 'Ġed', 'Ġeff', 'Ġeffect', 'Ġeither', 'Ġel', 'Ġelect', 'Ġelection', 'Ġelse', 'Ġem', 'Ġemploy', 'Ġen', 'Ġend', 'Ġenough', 'Ġent', 'Ġequ', 'Ġes', 'Ġest', 'Ġet', 'Ġev', 'Ġeven', 'Ġevent', 'Ġever', 'Ġevery', 'Ġeveryone', 'Ġeverything', 'Ġevidence', 'Ġex', 'Ġexp', 'Ġexpect', 'Ġexper', 'Ġexpl', 'Ġext', 'Ġf', 'Ġfac', 'Ġface', 'Ġfact', 'Ġfail', 'Ġfall', 'Ġfam', 'Ġfamily', 'Ġfar', 'Ġfe', 'Ġfeel', 'Ġfew', 'Ġfight', 'Ġfil', 'Ġfin', 'Ġfind', 'Ġfir', 'Ġfire', 'Ġfirst', 'Ġfive', 'Ġfl', 'Ġfo', 'Ġfoll', 'Ġfollow', 'Ġfood', 'Ġfoot', 'Ġfor', 'Ġfore', 'Ġform', 'Ġformer', 'Ġfound', 'Ġfour', 'Ġfr', 'Ġfree', 'Ġfriend', 'Ġfrom', 'Ġfull', 'Ġfun', 'Ġfund', 'Ġfur', 'Ġfut', 'Ġfuture', 'Ġg', 'Ġgame', 'Ġgen', 'Ġgener', 'Ġget', 'Ġgetting', 'Ġgirl', 'Ġgiv', 'Ġgive', 'Ġgiven', 'Ġgl', 'Ġgo', 'Ġgoing', 'Ġgood', 'Ġgot', 'Ġgovernment', 'Ġgr', 'Ġgreat', 'Ġgroup', 'Ġgrow', 'Ġgu', 'Ġgun', 'Ġh', 'Ġha', 'Ġhad', 'Ġhalf', 'Ġhand', 'Ġhapp', 'Ġhappen', 'Ġhard', 'Ġhas', 'Ġhave', 'Ġhaving', 'Ġhe', 'Ġhead', 'Ġhealth', 'Ġhel', 'Ġhelp', 'Ġher', 'Ġhere', 'Ġhig', 'Ġhigh', 'Ġhim', 'Ġhis', 'Ġhist', 'Ġhistory', 'Ġhit', 'Ġhold', 'Ġhome', 'Ġhope', 'Ġhouse', 'Ġhow', 'Ġhum', 'Ġhuman', 'Ġi', 'Ġide', 'Ġidea', 'Ġif', 'Ġill', 'Ġim', 'Ġimm', 'Ġimp', 'Ġimport', 'Ġimportant', 'Ġin', 'Ġinc', 'Ġinclud', 'Ġincluding', 'Ġincre', 'Ġind', 'Ġindust', 'Ġinf', 'Ġinform', 'Ġins', 'Ġinst', 'Ġint', 'Ġinter', 'Ġinterest', 'Ġintern', 'Ġinto', 'Ġinv', 'Ġinvest', 'Ġinvestig', 'Ġinvol', 'Ġis', 'Ġisn', 'Ġiss', 'Ġissue', 'Ġit', 'Ġits', 'Ġj', 'Ġjo', 'Ġjob', 'Ġjud', 'Ġjust', 'Ġk', 'Ġke', 'Ġkeep', 'Ġkid', 'Ġkids', 'Ġkill', 'Ġkind', 'Ġkn', 'Ġknow', 'Ġl', 'Ġla', 'Ġland', 'Ġlar', 'Ġlarge', 'Ġlast', 'Ġlater', 'Ġlaw', 'Ġle', 'Ġlead', 'Ġleaders', 'Ġlear', 'Ġleast', 'Ġleave', 'Ġleft', 'Ġleg', 'Ġless', 'Ġlet', 'Ġlevel', 'Ġli', 'Ġliber', 'Ġlife', 'Ġlike', 'Ġlikely', 'Ġline', 'Ġlist', 'Ġlittle', 'Ġlive', 'Ġliving', 'Ġlo', 'Ġloc', 'Ġlocal', 'Ġlong', 'Ġloo', 'Ġlook', 'Ġlooking', 'Ġlooks', 'Ġlost', 'Ġlot', 'Ġlove', 'Ġlow', 'Ġm', 'Ġmade', 'Ġmain', 'Ġmajor', 'Ġmake', 'Ġmakes', 'Ġmaking', 'Ġman', 'Ġmanag', 'Ġmany', 'Ġmar', 'Ġmark', 'Ġmarket', 'Ġmass', 'Ġmat', 'Ġmatter', 'Ġmay', 'Ġme', 'Ġmean', 'Ġmeans', 'Ġmed', 'Ġmedia', 'Ġmeet', 'Ġmem', 'Ġmembers', 'Ġmen', 'Ġmess', 'Ġmet', 'Ġmight', 'Ġmil', 'Ġmilit', 'Ġmillion', 'Ġmin', 'Ġmind', 'Ġmis', 'Ġmiss', 'Ġmod', 'Ġmom', 'Ġmon', 'Ġmoney', 'Ġmonth', 'Ġmonths', 'Ġmor', 'Ġmore', 'Ġmost', 'Ġmother', 'Ġmov', 'Ġmove', 'Ġmuch', 'Ġmust', 'Ġmy', 'Ġn', 'Ġname', 'Ġnational', 'Ġne', 'Ġneed', 'Ġneeds', 'Ġneg', 'Ġnever', 'Ġnew', 'Ġnews', 'Ġnext', 'Ġnight', 'Ġno', 'Ġnon', 'Ġnot', 'Ġnothing', 'Ġnow', 'Ġnum', 'Ġnumber', 'Ġo', 'Ġob', 'Ġof', 'Ġoff', 'Ġoffic', 'Ġoffice', 'Ġofficial', 'Ġoften', 'Ġold', 'Ġon', 'Ġonce', 'Ġone', 'Ġonly', 'Ġop', 'Ġopen', 'Ġoper', 'Ġopp', 'Ġor', 'Ġorder', 'Ġorgan', 'Ġother', 'Ġothers', 'Ġour', 'Ġout', 'Ġover', 'Ġown', 'Ġp', 'Ġpaid', 'Ġpar', 'Ġparent', 'Ġparents', 'Ġpart', 'Ġpartic', 'Ġparty', 'Ġpass', 'Ġpast', 'Ġpat', 'Ġpay', 'Ġpe', 'Ġpeople', 'Ġper', 'Ġpercent', 'Ġperform', 'Ġperson', 'Ġph', 'Ġphot', 'Ġpl', 'Ġplace', 'Ġplan', 'Ġplay', 'Ġplayers', 'Ġpo', 'Ġpoint', 'Ġpol', 'Ġpolic', 'Ġpolice', 'Ġpolicy', 'Ġpolit', 'Ġpolitical', 'Ġpoor', 'Ġpop', 'Ġpos', 'Ġposs', 'Ġpossible', 'Ġpost', 'Ġpot', 'Ġpower', 'Ġpr', 'Ġpre', 'Ġpresident', 'Ġpress', 'Ġpret', 'Ġpri', 'Ġpriv', 'Ġpro', 'Ġprobably', 'Ġproble', 'Ġproblem', 'Ġprocess', 'Ġprodu', 'Ġprof', 'Ġprogram', 'Ġprom', 'Ġprop', 'Ġproper', 'Ġprot', 'Ġprotect', 'Ġprov', 'Ġpublic', 'Ġput', 'Ġqu', 'Ġquest', 'Ġquestion', 'Ġquite', 'Ġr', 'Ġra', 'Ġrac', 'Ġrather', 'Ġre', 'Ġread', 'Ġreal', 'Ġreally', 'Ġreason', 'Ġrec', 'Ġrece', 'Ġrecent', 'Ġrecord', 'Ġref', 'Ġreg', 'Ġrel', 'Ġrele', 'Ġrem', 'Ġremain', 'Ġrep', 'Ġreport', 'Ġreported', 'Ġrequ', 'Ġres', 'Ġrese', 'Ġresp', 'Ġrest', 'Ġresult', 'Ġret', 'Ġreturn', 'Ġright', 'Ġris', 'Ġro', 'Ġrul', 'Ġrun', 'Ġs', 'Ġsa', 'Ġsaf', 'Ġsaid', 'Ġsame', 'Ġsay', 'Ġsaying', 'Ġsays', 'Ġsc', 'Ġschool', 'Ġse', 'Ġseason', 'Ġsec', 'Ġsecond', 'Ġsee', 'Ġseem', 'Ġseems', 'Ġseen', 'Ġself', 'Ġsent', 'Ġser', 'Ġserious', 'Ġserv', 'Ġset', 'Ġsex', 'Ġsh', 'Ġshe', 'Ġshort', 'Ġshould', 'Ġshow', 'Ġside', 'Ġsign', 'Ġsim', 'Ġsimp', 'Ġsince', 'Ġsing', 'Ġsit', 'Ġsix', 'Ġsk', 'Ġsl', 'Ġsm', 'Ġsmall', 'Ġsn', 'Ġso', 'Ġsoc', 'Ġsocial', 'Ġsol', 'Ġsome', 'Ġsomeone', 'Ġsomet', 'Ġsomething', 'Ġsoon', 'Ġsp', 'Ġspe', 'Ġspec', 'Ġst', 'Ġstand', 'Ġstart', 'Ġstarted', 'Ġstate', 'Ġstatement', 'Ġstay', 'Ġstill', 'Ġstop', 'Ġstory', 'Ġstr', 'Ġstre', 'Ġstrong', 'Ġstud', 'Ġsu', 'Ġsub', 'Ġsuc', 'Ġsuccess', 'Ġsuch', 'Ġsuff', 'Ġsuggest', 'Ġsum', 'Ġsupp', 'Ġsupport', 'Ġsur', 'Ġsure', 'Ġsus', 'Ġsw', 'Ġsy', 'Ġsystem', 'Ġt', 'Ġtake', 'Ġtaken', 'Ġtaking', 'Ġtal', 'Ġtar', 'Ġtax', 'Ġte', 'Ġteam', 'Ġtell', 'Ġter', 'Ġtest', 'Ġth', 'Ġthan', 'Ġthat', 'Ġthe', 'Ġtheir', 'Ġthem', 'Ġthemselves', 'Ġthen', 'Ġthere', 'Ġthese', 'Ġthey', 'Ġthin', 'Ġthing', 'Ġthings', 'Ġthink', 'Ġthis', 'Ġthose', 'Ġthough', 'Ġthought', 'Ġthr', 'Ġthreat', 'Ġthree', 'Ġthrough', 'Ġtime', 'Ġtimes', 'Ġto', 'Ġtoday', 'Ġtoget', 'Ġtogether', 'Ġtold', 'Ġtoo', 'Ġtook', 'Ġtop', 'Ġtot', 'Ġtr', 'Ġtrans', 'Ġtre', 'Ġtreat', 'Ġtri', 'Ġtrue', 'Ġtry', 'Ġtrying', 'Ġturn', 'Ġtw', 'Ġtwo', 'Ġu', 'Ġun', 'Ġunder', 'Ġunderstand', 'Ġunt', 'Ġuntil', 'Ġup', 'Ġus', 'Ġuse', 'Ġused', 'Ġusing', 'Ġv', 'Ġvacc', 'Ġval', 'Ġve', 'Ġvery', 'Ġvict', 'Ġview', 'Ġviol', 'Ġvis', 'Ġvot', 'Ġvote', 'Ġw', 'Ġwait', 'Ġwal', 'Ġwant', 'Ġwanted', 'Ġwants', 'Ġwar', 'Ġwas', 'Ġwasn', 'Ġwatch', 'Ġwater', 'Ġway', 'Ġwe', 'Ġwee', 'Ġweek', 'Ġwell', 'Ġwent', 'Ġwere', 'Ġwh', 'Ġwhat', 'Ġwhe', 'Ġwhen', 'Ġwhere', 'Ġwhether', 'Ġwhich', 'Ġwhile', 'Ġwhite', 'Ġwho', 'Ġwhole', 'Ġwhy', 'Ġwill', 'Ġwin', 'Ġwith', 'Ġwithout', 'Ġwom', 'Ġwoman', 'Ġwomen', 'Ġwon', 'Ġwond', 'Ġwonder', 'Ġwor', 'Ġword', 'Ġwork', 'Ġworking', 'Ġworld', 'Ġwould', 'Ġwr', 'Ġwrit', 'Ġwrong', 'Ġy', 'Ġyear', 'Ġyears', 'Ġyes', 'Ġyet', 'Ġyou', 'Ġyoung', 'Ġyour', 'ĠÂ', 'ĠÂ£', 'ĠâĢ', 'ĠĊ', 'ġ', 'Ģ', 'ģ', 'Ĥ', 'ĥ', 'Ħ', 'ħ', 'Ĩ', 'ĩ', 'Ī', 'ī', 'Ĭ', 'ĭ', 'Į', 'į', 'İ', 'ı', 'Ĳ', 'ĳ', 'Ĵ', 'ĵ', 'Ķ', 'ķ', 'ĸ', 'Ĺ', 'ĺ', 'Ļ', 'ļ', 'Ľ', 'ľ', 'Ŀ', 'ŀ', 'Ł', 'ł', 'Ń']\n"
     ]
    }
   ],
   "source": [
    "TOKENIZER_FILE = os.path.join(\"word_sources\",\"tokenizer-big_en-normalized.json\")\n",
    "VOCAB = Tokenizer.from_file(TOKENIZER_FILE)\n",
    "\n",
    "BOS_IDX = VOCAB.token_to_id('<bos>')\n",
    "EOS_IDX = VOCAB.token_to_id('<eos>')\n",
    "PAD_IDX = VOCAB.token_to_id('<pad>')\n",
    "\n",
    "N_TOKENS = VOCAB.get_vocab_size() # len(VOCAB)\n",
    "print(f\"Number of Tokens: {N_TOKENS}\\n\")\n",
    "print(sorted(VOCAB.get_vocab()))"
   ],
   "metadata": {
    "collapsed": false
   }
  },
  {
   "cell_type": "code",
   "execution_count": 7,
   "outputs": [
    {
     "name": "stdout",
     "output_type": "stream",
     "text": [
      "Generating datasets...\n",
      "\n",
      "\n",
      "Initializing cache...\n"
     ]
    },
    {
     "name": "stderr",
     "output_type": "stream",
     "text": [
      "Test set progress: 100%|██████████| 7/7 [00:02<00:00,  2.41it/s]\n"
     ]
    },
    {
     "name": "stdout",
     "output_type": "stream",
     "text": [
      "Processed test batch... (Total=7).\n"
     ]
    },
    {
     "name": "stderr",
     "output_type": "stream",
     "text": [
      "Train set progress: 0it [00:00, ?it/s]\n"
     ]
    },
    {
     "name": "stdout",
     "output_type": "stream",
     "text": [
      "Processed train batch... (Total=0).\n"
     ]
    },
    {
     "name": "stderr",
     "output_type": "stream",
     "text": [
      "Valid set progress: 0it [00:00, ?it/s]"
     ]
    },
    {
     "name": "stdout",
     "output_type": "stream",
     "text": [
      "Processed valid batch... (Total=0).\n",
      "Using cached dataset file in cache\\words_cache\\words_stroke_prediction_test.h5\n",
      "cache\\preprocessed_datasets\\words_stroke_prediction_test\\test.pt\n",
      "Using cached processed dataset\n"
     ]
    },
    {
     "name": "stderr",
     "output_type": "stream",
     "text": [
      "\n"
     ]
    }
   ],
   "source": [
    "words = ['Today the government expressed its ',\n",
    "         'The problem was solved by ',\n",
    "         'In this situation, nothing is better than ',\n",
    "         'It was sold to ',\n",
    "         'Underestimating the issue can be very ',\n",
    "         'But there is more ',\n",
    "         'The aim of this test is to ']\n",
    "\n",
    "BRUSH_SPLIT=0.15\n",
    "d_gen = WordDatasetGenerator(vocab = VOCAB,\n",
    "                             expr_mode=EXPR_MODE,\n",
    "                             words=words,\n",
    "                             extended_dataset=False,\n",
    "                             train_split=0.0,\n",
    "                             valid_split=0.0,\n",
    "                             fname=\"words_stroke_prediction_test\")\n",
    "d_gen.generate()\n",
    "_, _, test = d_gen.generate_from_cache()\n",
    "\n",
    "test_set = DataLoader(preprocess_dataset(test, VOCAB,  os.path.join(d_gen.fname, \"test.pt\"), total_len=d_gen.get_learning_set_length(\"test\")), batch_size=BATCH_SIZE, shuffle=False, collate_fn=pad_collate_fn)"
   ],
   "metadata": {
    "collapsed": false
   }
  },
  {
   "cell_type": "code",
   "execution_count": 7,
   "outputs": [
    {
     "name": "stdout",
     "output_type": "stream",
     "text": [
      "The model has 1,977,544 trainable parameters.\n",
      "Conv trainable parameters: 504.\n",
      "Encoder trainable parameters: 497,920.\n",
      "Decoder trainable parameters: 1,453,520.\n"
     ]
    },
    {
     "data": {
      "text/plain": "ExplainableTransformer(\n  (alpha_scaling): AlphaScaling(\n    (dropout): Dropout(p=0.1, inplace=False)\n  )\n  (encoder): Encoder(\n    (layers): ModuleList(\n      (0): EncoderLayer(\n        (self_attn_layer_norm): LayerNorm((128,), eps=1e-05, elementwise_affine=True)\n        (ff_layer_norm): LayerNorm((128,), eps=1e-05, elementwise_affine=True)\n        (self_attention): MultiHeadAttentionLayer(\n          (fc_q): Linear(in_features=128, out_features=128, bias=True)\n          (fc_k): Linear(in_features=128, out_features=128, bias=True)\n          (fc_v): Linear(in_features=128, out_features=128, bias=True)\n          (fc_o): Linear(in_features=128, out_features=128, bias=True)\n          (dropout): Dropout(p=0.1, inplace=False)\n        )\n        (positionwise_feedforward): PositionwiseFeedforwardLayer(\n          (fc_1): Linear(in_features=128, out_features=128, bias=True)\n          (fc_2): Linear(in_features=128, out_features=128, bias=True)\n          (dropout): Dropout(p=0.1, inplace=False)\n        )\n        (dropout): Dropout(p=0.1, inplace=False)\n      )\n      (1): EncoderLayer(\n        (self_attn_layer_norm): LayerNorm((128,), eps=1e-05, elementwise_affine=True)\n        (ff_layer_norm): LayerNorm((128,), eps=1e-05, elementwise_affine=True)\n        (self_attention): MultiHeadAttentionLayer(\n          (fc_q): Linear(in_features=128, out_features=128, bias=True)\n          (fc_k): Linear(in_features=128, out_features=128, bias=True)\n          (fc_v): Linear(in_features=128, out_features=128, bias=True)\n          (fc_o): Linear(in_features=128, out_features=128, bias=True)\n          (dropout): Dropout(p=0.1, inplace=False)\n        )\n        (positionwise_feedforward): PositionwiseFeedforwardLayer(\n          (fc_1): Linear(in_features=128, out_features=128, bias=True)\n          (fc_2): Linear(in_features=128, out_features=128, bias=True)\n          (dropout): Dropout(p=0.1, inplace=False)\n        )\n        (dropout): Dropout(p=0.1, inplace=False)\n      )\n      (2): EncoderLayer(\n        (self_attn_layer_norm): LayerNorm((128,), eps=1e-05, elementwise_affine=True)\n        (ff_layer_norm): LayerNorm((128,), eps=1e-05, elementwise_affine=True)\n        (self_attention): MultiHeadAttentionLayer(\n          (fc_q): Linear(in_features=128, out_features=128, bias=True)\n          (fc_k): Linear(in_features=128, out_features=128, bias=True)\n          (fc_v): Linear(in_features=128, out_features=128, bias=True)\n          (fc_o): Linear(in_features=128, out_features=128, bias=True)\n          (dropout): Dropout(p=0.1, inplace=False)\n        )\n        (positionwise_feedforward): PositionwiseFeedforwardLayer(\n          (fc_1): Linear(in_features=128, out_features=128, bias=True)\n          (fc_2): Linear(in_features=128, out_features=128, bias=True)\n          (dropout): Dropout(p=0.1, inplace=False)\n        )\n        (dropout): Dropout(p=0.1, inplace=False)\n      )\n      (3): EncoderLayer(\n        (self_attn_layer_norm): LayerNorm((128,), eps=1e-05, elementwise_affine=True)\n        (ff_layer_norm): LayerNorm((128,), eps=1e-05, elementwise_affine=True)\n        (self_attention): MultiHeadAttentionLayer(\n          (fc_q): Linear(in_features=128, out_features=128, bias=True)\n          (fc_k): Linear(in_features=128, out_features=128, bias=True)\n          (fc_v): Linear(in_features=128, out_features=128, bias=True)\n          (fc_o): Linear(in_features=128, out_features=128, bias=True)\n          (dropout): Dropout(p=0.1, inplace=False)\n        )\n        (positionwise_feedforward): PositionwiseFeedforwardLayer(\n          (fc_1): Linear(in_features=128, out_features=128, bias=True)\n          (fc_2): Linear(in_features=128, out_features=128, bias=True)\n          (dropout): Dropout(p=0.1, inplace=False)\n        )\n        (dropout): Dropout(p=0.1, inplace=False)\n      )\n      (4): EncoderLayer(\n        (self_attn_layer_norm): LayerNorm((128,), eps=1e-05, elementwise_affine=True)\n        (ff_layer_norm): LayerNorm((128,), eps=1e-05, elementwise_affine=True)\n        (self_attention): MultiHeadAttentionLayer(\n          (fc_q): Linear(in_features=128, out_features=128, bias=True)\n          (fc_k): Linear(in_features=128, out_features=128, bias=True)\n          (fc_v): Linear(in_features=128, out_features=128, bias=True)\n          (fc_o): Linear(in_features=128, out_features=128, bias=True)\n          (dropout): Dropout(p=0.1, inplace=False)\n        )\n        (positionwise_feedforward): PositionwiseFeedforwardLayer(\n          (fc_1): Linear(in_features=128, out_features=128, bias=True)\n          (fc_2): Linear(in_features=128, out_features=128, bias=True)\n          (dropout): Dropout(p=0.1, inplace=False)\n        )\n        (dropout): Dropout(p=0.1, inplace=False)\n      )\n    )\n  )\n  (pos_encoding): PositionalEncoding(\n    (pos_embedding): Embedding(200, 128)\n  )\n  (decoder): Decoder(\n    (tok_embedding): Embedding(2000, 128)\n    (pos_embedding): PositionalEncoding(\n      (pos_embedding): Embedding(100, 128)\n    )\n    (layers): ModuleList(\n      (0): DecoderLayer(\n        (self_attn_layer_norm): LayerNorm((128,), eps=1e-05, elementwise_affine=True)\n        (enc_attn_layer_norm): LayerNorm((128,), eps=1e-05, elementwise_affine=True)\n        (ff_layer_norm): LayerNorm((128,), eps=1e-05, elementwise_affine=True)\n        (self_attention): MultiHeadAttentionLayer(\n          (fc_q): Linear(in_features=128, out_features=128, bias=True)\n          (fc_k): Linear(in_features=128, out_features=128, bias=True)\n          (fc_v): Linear(in_features=128, out_features=128, bias=True)\n          (fc_o): Linear(in_features=128, out_features=128, bias=True)\n          (dropout): Dropout(p=0.1, inplace=False)\n        )\n        (encoder_attention): MultiHeadAttentionLayer(\n          (fc_q): Linear(in_features=128, out_features=128, bias=True)\n          (fc_k): Linear(in_features=128, out_features=128, bias=True)\n          (fc_v): Linear(in_features=128, out_features=128, bias=True)\n          (fc_o): Linear(in_features=128, out_features=128, bias=True)\n          (dropout): Dropout(p=0.1, inplace=False)\n        )\n        (positionwise_feedforward): PositionwiseFeedforwardLayer(\n          (fc_1): Linear(in_features=128, out_features=384, bias=True)\n          (fc_2): Linear(in_features=384, out_features=128, bias=True)\n          (dropout): Dropout(p=0.1, inplace=False)\n        )\n        (dropout): Dropout(p=0.1, inplace=False)\n      )\n      (1): DecoderLayer(\n        (self_attn_layer_norm): LayerNorm((128,), eps=1e-05, elementwise_affine=True)\n        (enc_attn_layer_norm): LayerNorm((128,), eps=1e-05, elementwise_affine=True)\n        (ff_layer_norm): LayerNorm((128,), eps=1e-05, elementwise_affine=True)\n        (self_attention): MultiHeadAttentionLayer(\n          (fc_q): Linear(in_features=128, out_features=128, bias=True)\n          (fc_k): Linear(in_features=128, out_features=128, bias=True)\n          (fc_v): Linear(in_features=128, out_features=128, bias=True)\n          (fc_o): Linear(in_features=128, out_features=128, bias=True)\n          (dropout): Dropout(p=0.1, inplace=False)\n        )\n        (encoder_attention): MultiHeadAttentionLayer(\n          (fc_q): Linear(in_features=128, out_features=128, bias=True)\n          (fc_k): Linear(in_features=128, out_features=128, bias=True)\n          (fc_v): Linear(in_features=128, out_features=128, bias=True)\n          (fc_o): Linear(in_features=128, out_features=128, bias=True)\n          (dropout): Dropout(p=0.1, inplace=False)\n        )\n        (positionwise_feedforward): PositionwiseFeedforwardLayer(\n          (fc_1): Linear(in_features=128, out_features=384, bias=True)\n          (fc_2): Linear(in_features=384, out_features=128, bias=True)\n          (dropout): Dropout(p=0.1, inplace=False)\n        )\n        (dropout): Dropout(p=0.1, inplace=False)\n      )\n      (2): DecoderLayer(\n        (self_attn_layer_norm): LayerNorm((128,), eps=1e-05, elementwise_affine=True)\n        (enc_attn_layer_norm): LayerNorm((128,), eps=1e-05, elementwise_affine=True)\n        (ff_layer_norm): LayerNorm((128,), eps=1e-05, elementwise_affine=True)\n        (self_attention): MultiHeadAttentionLayer(\n          (fc_q): Linear(in_features=128, out_features=128, bias=True)\n          (fc_k): Linear(in_features=128, out_features=128, bias=True)\n          (fc_v): Linear(in_features=128, out_features=128, bias=True)\n          (fc_o): Linear(in_features=128, out_features=128, bias=True)\n          (dropout): Dropout(p=0.1, inplace=False)\n        )\n        (encoder_attention): MultiHeadAttentionLayer(\n          (fc_q): Linear(in_features=128, out_features=128, bias=True)\n          (fc_k): Linear(in_features=128, out_features=128, bias=True)\n          (fc_v): Linear(in_features=128, out_features=128, bias=True)\n          (fc_o): Linear(in_features=128, out_features=128, bias=True)\n          (dropout): Dropout(p=0.1, inplace=False)\n        )\n        (positionwise_feedforward): PositionwiseFeedforwardLayer(\n          (fc_1): Linear(in_features=128, out_features=384, bias=True)\n          (fc_2): Linear(in_features=384, out_features=128, bias=True)\n          (dropout): Dropout(p=0.1, inplace=False)\n        )\n        (dropout): Dropout(p=0.1, inplace=False)\n      )\n      (3): DecoderLayer(\n        (self_attn_layer_norm): LayerNorm((128,), eps=1e-05, elementwise_affine=True)\n        (enc_attn_layer_norm): LayerNorm((128,), eps=1e-05, elementwise_affine=True)\n        (ff_layer_norm): LayerNorm((128,), eps=1e-05, elementwise_affine=True)\n        (self_attention): MultiHeadAttentionLayer(\n          (fc_q): Linear(in_features=128, out_features=128, bias=True)\n          (fc_k): Linear(in_features=128, out_features=128, bias=True)\n          (fc_v): Linear(in_features=128, out_features=128, bias=True)\n          (fc_o): Linear(in_features=128, out_features=128, bias=True)\n          (dropout): Dropout(p=0.1, inplace=False)\n        )\n        (encoder_attention): MultiHeadAttentionLayer(\n          (fc_q): Linear(in_features=128, out_features=128, bias=True)\n          (fc_k): Linear(in_features=128, out_features=128, bias=True)\n          (fc_v): Linear(in_features=128, out_features=128, bias=True)\n          (fc_o): Linear(in_features=128, out_features=128, bias=True)\n          (dropout): Dropout(p=0.1, inplace=False)\n        )\n        (positionwise_feedforward): PositionwiseFeedforwardLayer(\n          (fc_1): Linear(in_features=128, out_features=384, bias=True)\n          (fc_2): Linear(in_features=384, out_features=128, bias=True)\n          (dropout): Dropout(p=0.1, inplace=False)\n        )\n        (dropout): Dropout(p=0.1, inplace=False)\n      )\n    )\n    (fc_out): Linear(in_features=128, out_features=2000, bias=True)\n    (dropout): Dropout(p=0.1, inplace=False)\n    (scale): AlphaScaling(\n      (dropout): Dropout(p=0.1, inplace=False)\n    )\n  )\n  (preencoder): Conv1DPreencoder(\n    (layers): Sequential(\n      (0): Conv1d(2, 4, kernel_size=(3,), stride=(1,), padding=same, bias=False)\n      (1): MaxPool1d(kernel_size=2, stride=2, padding=0, dilation=1, ceil_mode=False)\n      (2): Conv1d(4, 8, kernel_size=(3,), stride=(1,), padding=same, bias=False)\n      (3): MaxPool1d(kernel_size=2, stride=2, padding=0, dilation=1, ceil_mode=False)\n      (4): Conv1d(8, 16, kernel_size=(3,), stride=(1,), padding=same, bias=False)\n      (5): MaxPool1d(kernel_size=2, stride=2, padding=0, dilation=1, ceil_mode=False)\n    )\n  )\n)"
     },
     "execution_count": 7,
     "metadata": {},
     "output_type": "execute_result"
    }
   ],
   "source": [
    "hp = load_json_hypeparameters(VERSION)\n",
    "if \"vocab\" in hp:\n",
    "    hp.pop(\"vocab\")\n",
    "model = ExplainableTransformer(name=VERSION, vocab=VOCAB, **hp)\n",
    "model.count_parameters()\n",
    "print(f\"Conv trainable parameters: {sum(p.numel() for p in model.preencoder.parameters() if p.requires_grad):,}.\")\n",
    "print(f\"Encoder trainable parameters: {sum(p.numel() for p in model.encoder.parameters() if p.requires_grad):,}.\")\n",
    "print(f\"Decoder trainable parameters: {sum(p.numel() for p in model.decoder.parameters() if p.requires_grad):,}.\")\n",
    "model.load_best_version()\n",
    "model.to(model.device)"
   ],
   "metadata": {
    "collapsed": false
   }
  },
  {
   "cell_type": "markdown",
   "source": [
    "## 2. Test on a single expression (0 and 1 required)"
   ],
   "metadata": {
    "collapsed": false
   }
  },
  {
   "cell_type": "code",
   "execution_count": 21,
   "outputs": [],
   "source": [
    "test_set_iter = iter(test_set)\n",
    "x_pred, y_pred = next(test_set_iter)\n",
    "\n",
    "x_pred = x_pred.to(model.device)\n",
    "y_pred = y_pred.to(model.device)"
   ],
   "metadata": {
    "collapsed": false
   }
  },
  {
   "cell_type": "code",
   "execution_count": 33,
   "outputs": [
    {
     "name": "stdout",
     "output_type": "stream",
     "text": [
      "Index: 1 \n",
      "\n"
     ]
    },
    {
     "data": {
      "text/plain": "<IPython.core.display.SVG object>",
      "image/svg+xml": "<svg xmlns=\"http://www.w3.org/2000/svg\" width=\"1595\" height=\"55.0\" viewBox=\"0 0 2900 100\" style=\"background-color:white\" version=\"1.1\">\n        <title>Strokes</title>\n        <desc>Stroke Sequence</desc>\n        <g fill=\"#E0E0E0\" stroke=\"none\" stroke-width=\"3.3333333333333335\" stroke-linecap=\"round\" stroke-linejoin=\"round\">\n            <rect x=\"0\" y=\"0\" width=\"2900\" height=\"100\"/>&quot;\n        </g>\n        <g fill=\"#00D000\" stroke=\"none\" fill-opacity=\"0.58\">\n            <rect x=\"0\" y=\"0\" width=\"100\" height=\"100\"/>&quot;\n        </g>\n        <g fill=\"#D00000\" stroke=\"none\" fill-opacity=\"0.58\">\n            <rect x=\"2800\" y=\"0\" width=\"100\" height=\"100\"/>&quot;\n        </g>\n        <g fill=\"none\" stroke=\"#000000\" stroke-width=\"2.5\" stroke-linecap=\"round\" stroke-linejoin=\"round\">\n            <rect x=\"0\" y=\"0\" width=\"2900\" height=\"100\"/>&quot;\n        </g>\n        <g fill=\"none\" stroke=\"#303030\" stroke-dasharray=\"5.555555555555555,5.555555555555555\" stroke-width=\"2.0\" stroke-linecap=\"round\" stroke-linejoin=\"round\">\n            <line x1=\"100\" y1=\"0\" x2=\"100\" y2=\"100\"/>\n\t<line x1=\"200\" y1=\"0\" x2=\"200\" y2=\"100\"/>\n\t<line x1=\"300\" y1=\"0\" x2=\"300\" y2=\"100\"/>\n\t<line x1=\"400\" y1=\"0\" x2=\"400\" y2=\"100\"/>\n\t<line x1=\"500\" y1=\"0\" x2=\"500\" y2=\"100\"/>\n\t<line x1=\"600\" y1=\"0\" x2=\"600\" y2=\"100\"/>\n\t<line x1=\"700\" y1=\"0\" x2=\"700\" y2=\"100\"/>\n\t<line x1=\"800\" y1=\"0\" x2=\"800\" y2=\"100\"/>\n\t<line x1=\"900\" y1=\"0\" x2=\"900\" y2=\"100\"/>\n\t<line x1=\"1000\" y1=\"0\" x2=\"1000\" y2=\"100\"/>\n\t<line x1=\"1100\" y1=\"0\" x2=\"1100\" y2=\"100\"/>\n\t<line x1=\"1200\" y1=\"0\" x2=\"1200\" y2=\"100\"/>\n\t<line x1=\"1300\" y1=\"0\" x2=\"1300\" y2=\"100\"/>\n\t<line x1=\"1400\" y1=\"0\" x2=\"1400\" y2=\"100\"/>\n\t<line x1=\"1500\" y1=\"0\" x2=\"1500\" y2=\"100\"/>\n\t<line x1=\"1600\" y1=\"0\" x2=\"1600\" y2=\"100\"/>\n\t<line x1=\"1700\" y1=\"0\" x2=\"1700\" y2=\"100\"/>\n\t<line x1=\"1800\" y1=\"0\" x2=\"1800\" y2=\"100\"/>\n\t<line x1=\"1900\" y1=\"0\" x2=\"1900\" y2=\"100\"/>\n\t<line x1=\"2000\" y1=\"0\" x2=\"2000\" y2=\"100\"/>\n\t<line x1=\"2100\" y1=\"0\" x2=\"2100\" y2=\"100\"/>\n\t<line x1=\"2200\" y1=\"0\" x2=\"2200\" y2=\"100\"/>\n\t<line x1=\"2300\" y1=\"0\" x2=\"2300\" y2=\"100\"/>\n\t<line x1=\"2400\" y1=\"0\" x2=\"2400\" y2=\"100\"/>\n\t<line x1=\"2500\" y1=\"0\" x2=\"2500\" y2=\"100\"/>\n\t<line x1=\"2600\" y1=\"0\" x2=\"2600\" y2=\"100\"/>\n\t<line x1=\"2700\" y1=\"0\" x2=\"2700\" y2=\"100\"/>\n\t<line x1=\"2800\" y1=\"0\" x2=\"2800\" y2=\"100\"/>\n\t\n        </g>\n        <g fill=\"red\" font-size=\"1.6666666666666667em\" font-family=\"Arial\">\n            <text x=\"100\" y=\"95.0\">0</text>\n\t<text x=\"200\" y=\"95.0\">1</text>\n\t<text x=\"300\" y=\"95.0\">2</text>\n\t<text x=\"400\" y=\"95.0\">3</text>\n\t<text x=\"500\" y=\"95.0\">4</text>\n\t<text x=\"600\" y=\"95.0\">5</text>\n\t<text x=\"700\" y=\"95.0\">6</text>\n\t<text x=\"800\" y=\"95.0\">7</text>\n\t<text x=\"900\" y=\"95.0\">8</text>\n\t<text x=\"1000\" y=\"95.0\">9</text>\n\t<text x=\"1100\" y=\"95.0\">10</text>\n\t<text x=\"1200\" y=\"95.0\">11</text>\n\t<text x=\"1300\" y=\"95.0\">12</text>\n\t<text x=\"1400\" y=\"95.0\">13</text>\n\t<text x=\"1500\" y=\"95.0\">14</text>\n\t<text x=\"1600\" y=\"95.0\">15</text>\n\t<text x=\"1700\" y=\"95.0\">16</text>\n\t<text x=\"1800\" y=\"95.0\">17</text>\n\t<text x=\"1900\" y=\"95.0\">18</text>\n\t<text x=\"2000\" y=\"95.0\">19</text>\n\t<text x=\"2100\" y=\"95.0\">20</text>\n\t<text x=\"2200\" y=\"95.0\">21</text>\n\t<text x=\"2300\" y=\"95.0\">22</text>\n\t<text x=\"2400\" y=\"95.0\">23</text>\n\t<text x=\"2500\" y=\"95.0\">24</text>\n\t<text x=\"2600\" y=\"95.0\">25</text>\n\t<text x=\"2700\" y=\"95.0\">26</text>\n\t<text x=\"2800\" y=\"95.0\">27</text>\n\t\n        </g>\n        <g fill=\"none\" stroke=\"black\" stroke-width=\"1.0\" stroke-linecap=\"round\" stroke-linejoin=\"round\">\n            <path d=\" M147.77777791023254,28.98148000240326 L147.9629635810852,29.25925850868225 L149.1601049900055,32.73695707321167 L149.95253384113312,36.615464091300964 L150.57647824287415,40.93506932258606 L151.05894207954407,45.64419388771057 L151.41676664352417,50.209617614746094 L151.7105996608734,54.90338206291199 L151.8342673778534,59.31766629219055 L151.85185074806213,63.38913440704346 L151.85185074806213,67.16281771659851 L151.75926089286804,70.53557634353638 L151.65475606918335,73.40753674507141 L151.66666507720947,74.35185313224792 L151.66666507720947,74.35185313224792 M230.55555522441864,42.68518388271332 L230.81822097301483,42.329925298690796 L231.96424543857574,41.59613847732544 L234.4033718109131,40.66184163093567 L237.47068047523499,39.61747884750366 L240.63499867916107,38.55583965778351 L244.1932588815689,37.212422490119934 L247.93536961078644,35.6698215007782 L251.79632306098938,33.93239378929138 L255.65550923347473,31.894469261169434 L259.47866439819336,29.87477481365204 L263.0061686038971,28.080245852470398 L266.1429822444916,26.39658749103546 L268.83772015571594,24.999062716960907 L270.9755480289459,23.956666886806488 L272.5809633731842,23.314547538757324 L273.80738258361816,22.886669635772705 L273.88888597488403,22.870370745658875 L273.88888597488403,22.870370745658875 M343.42592656612396,30.185183882713318 L343.6111122369766,30.46296238899231 L344.4722145795822,32.24535286426544 L345.4827845096588,35.00787913799286 L346.26335203647614,38.12676966190338 L346.6977924108505,41.48382246494293 L346.8518525362015,44.74640488624573 L346.7890739440918,48.352259397506714 L346.5970069169998,51.90199613571167 L346.48148119449615,55.27777075767517 L346.3888883590698,58.54501724243164 L346.5726286172867,61.64358854293823 L346.7656284570694,64.63257670402527 L347.05002903938293,67.50967502593994 L347.56292700767517,70.08750438690186 L348.04822504520416,72.5916862487793 L348.405259847641,74.61890578269958 L348.7896889448166,76.36246085166931 L349.12461936473846,77.66013145446777 L349.2592602968216,78.41534614562988 L349.2592602968216,78.5185158252716 L349.2592602968216,78.5185158252716 M449.2592602968216,58.14814567565918 L449.9688386917114,58.024752140045166 L451.06470584869385,57.83181190490723 L452.3095965385437,57.409149408340454 L453.4683585166931,56.93029761314392 L454.77978587150574,56.29808306694031 L456.2186062335968,55.62853217124939 L457.9004466533661,54.95911240577698 L459.80264544487,54.557985067367554 L461.746746301651,54.44444417953491 L463.3833944797516,54.64214086532593 L464.9291515350342,55.1354706287384 L466.05122089385986,55.91686964035034 L466.78173542022705,57.024455070495605 L467.3884987831116,58.35029482841492 L467.7297055721283,60.07479429244995 L467.92263984680176,62.14907169342041 L468.11532378196716,64.42091464996338 L468.30771565437317,66.72959923744202 L468.5005843639374,69.04408931732178 L468.8648223876953,70.99080681800842 L469.25361156463623,72.75519371032715 L469.73177790641785,74.20011162757874 L470.41797637939453,75.15209913253784 L471.0995018482208,75.80147981643677 L471.8703806400299,76.25926733016968 L472.7332055568695,76.64437890052795 L473.3333349227905,77.0370364189148 L473.3333349227905,77.0370364189148 M536.3888889551163,59.5370352268219 L536.5740746259689,59.62963104248047 L537.6925557851791,59.82909798622131 L539.5151197910309,60.11817455291748 L541.4701044559479,60.49886345863342 L543.3367103338242,60.60218811035156 L545.162907242775,60.688215494155884 L547.2804605960846,60.648149251937866 L549.3370085954666,60.50148010253906 L551.4200031757355,60.154277086257935 L553.4676730632782,59.700435400009155 L555.3007483482361,59.12274122238159 L556.872022151947,58.36954712867737 L558.228999376297,57.509779930114746 L559.0954840183258,56.449371576309204 L559.667581319809,55.294471979141235 L559.8342716693878,54.14251089096069 L559.602963924408,53.10738682746887 L559.2508256435394,52.27271318435669 L558.7658405303955,51.677221059799194 L558.1885874271393,51.29238963127136 L557.5591504573822,51.056456565856934 L556.632387638092,51.0185182094574 L555.4382860660553,51.18077993392944 L554.0087938308716,51.54410004615784 L552.2961974143982,52.18934416770935 L550.3721952438354,53.14723253250122 L548.4534621238708,54.20570373535156 L546.4167833328247,55.56305646896362 L544.3970143795013,57.1347713470459 L542.368534207344,58.777594566345215 L540.5994176864624,60.382819175720215 L539.0435606241226,61.92640662193298 L537.9418194293976,63.41663599014282 L537.3826205730438,64.91396427154541 L537.222221493721,66.45647883415222 L537.2959554195404,67.9972767829895 L537.8349781036377,69.53524947166443 L538.7787878513336,70.99401354789734 L540.1187926530838,72.15209007263184 L541.9601887464523,73.10973405838013 L544.3138360977173,73.77747893333435 L547.0516085624695,74.24364686012268 L550.0918686389923,74.4770884513855 L553.3737659454346,74.53703880310059 L556.6422820091248,74.58204627037048 L559.9122107028961,74.53703880310059 L562.8837049007416,74.38182234764099 L565.5332982540131,74.1897463798523 L567.8821682929993,73.92041087150574 L569.6431934833527,73.71358275413513 L571.0143625736237,73.5192060470581 L571.7791616916656,73.41929078102112 L571.8981504440308,73.28703999519348 L571.8518495559692,73.33333492279053 M648.4259247779846,57.499998807907104 L648.6111104488373,57.592594623565674 L649.6451526880264,59.01252627372742 L650.2142250537872,60.993027687072754 L650.4879534244537,63.472992181777954 L650.555557012558,65.91814756393433 L650.6769597530365,68.36632490158081 L650.6481468677521,70.97997665405273 L650.6922602653503,73.4437882900238 L650.7918477058411,75.74737668037415 L650.9840250015259,77.86129713058472 L651.1772453784943,79.82797026634216 L651.3694882392883,81.5115213394165 L651.6427874565125,82.89132118225098 L651.8474638462067,83.77873301506042 L651.947408914566,84.26518440246582 L652.0370364189148,84.54776406288147 L652.1759271621704,84.5370352268219 L652.1296322345734,84.5370352268219 M752.3148119449615,50.833332538604736 L752.8710007667542,50.35134553909302 L754.5249998569489,49.147313833236694 L756.8175613880157,47.887519001960754 L759.0284883975983,47.02293574810028 L761.1520767211914,46.54979109764099 L763.065367937088,46.574074029922485 L764.8755967617035,46.90651297569275 L766.4827764034271,47.76701033115387 L767.8469002246857,49.00039732456207 L768.9539194107056,50.450390577316284 L769.8009729385376,52.33040452003479 L770.3144073486328,54.54366207122803 L770.4629600048065,56.958943605422974 L770.2114403247833,59.55153703689575 L769.5625424385071,62.04674243927002 L768.5055434703827,64.28304314613342 L767.2466099262238,66.20855331420898 L765.7841980457306,67.73431897163391 L764.0357613563538,69.27273273468018 L762.0838463306427,70.37932276725769 L759.967029094696,71.3127851486206 L757.9501569271088,72.13475108146667 L756.1738073825836,72.75688052177429 L754.5932948589325,73.33537936210632 L753.3723592758179,73.98632764816284 L752.4645388126373,75.00690817832947 L752.0370364189148,75.64814686775208 L752.0370364189148,75.64814686775208 M848.4259247779846,36.01851761341095 L848.9520877599716,36.18901073932648 L850.4335224628448,37.120530009269714 L851.4354109764099,38.71336877346039 L852.0369112491608,40.7402902841568 L852.5239288806915,43.408241868019104 L852.7835667133331,46.296268701553345 L852.8703689575195,49.68430697917938 L852.8703689575195,53.00903916358948 L852.8703689575195,56.390321254730225 L852.8703689575195,59.6305251121521 L853.0054092407227,62.67375946044922 L853.2477676868439,65.51212668418884 L853.5966575145721,68.05464029312134 L854.0829420089722,70.2485740184784 L854.5664608478546,72.0537781715393 L855.0542116165161,73.44176173210144 L855.4495990276337,74.23253655433655 L855.8391273021698,74.4473397731781 L855.9259235858917,74.35185313224792 L855.9259235858917,74.35185313224792 M955.2777767181396,44.07407343387604 L955.8716177940369,43.220558762550354 L956.451004743576,42.190587520599365 L957.1212828159332,41.21761620044708 L958.0797553062439,40.25357961654663 L959.3451142311096,39.19793665409088 L961.2158417701721,38.02975118160248 L963.4741842746735,37.08637356758118 L965.663343667984,36.59656047821045 L967.7416741847992,36.43157482147217 L969.6155548095703,36.723700165748596 L971.2026298046112,37.41830885410309 L972.7461278438568,38.44848573207855 L974.1214394569397,39.69668447971344 L975.3138422966003,41.03196859359741 L975.3703713417053,41.111111640930176 L975.3703713417053,41.111111640930176 M1051.2962937355042,64.07407522201538 L1051.111114025116,64.35185074806213 L1050.5675852298737,65.47834873199463 L1049.7430741786957,67.68685579299927 L1049.200999736786,70.40781378746033 L1048.8955110311508,73.06204438209534 L1048.79629611969,75.79687833786011 L1048.8870471715927,78.1241774559021 L1049.1718381643295,80.33466935157776 L1049.666851758957,82.3462963104248 L1050.2448618412018,84.04803276062012 L1051.1427521705627,85.66174507141113 L1052.3727178573608,86.96761727333069 L1053.72314453125,88.04020285606384 L1055.2119493484497,88.76003623008728 L1056.8521916866302,89.28250074386597 L1058.4630072116852,89.5370364189148 L1060.0262224674225,89.5370364189148 L1061.6574466228485,89.19212222099304 L1063.1988048553467,88.44689130783081 L1064.4601702690125,87.48689889907837 L1065.5119895935059,86.2276554107666 L1066.2730693817139,84.98855233192444 L1066.736513376236,83.63332152366638 L1066.8518543243408,82.27952718734741 L1066.8518543243408,80.88347911834717 L1066.664308309555,79.38754558563232 L1066.3743197917938,77.75852084159851 L1065.8950984477997,75.8643627166748 L1065.3461873531342,74.02434349060059 L1064.7689998149872,72.3469614982605 L1064.1081631183624,70.80891728401184 L1063.5223150253296,69.63722705841064 L1062.9449427127838,68.67368221282959 L1062.262737751007,67.81828999519348 L1061.6977989673615,67.1402633190155 L1061.0272526741028,66.67540073394775 L1060.4499816894531,66.35369658470154 L1059.9626302719116,66.06778502464294 L1059.386521577835,65.87575078010559 L1058.806836605072,65.77510833740234 L1058.0674350261688,65.89980721473694 L1057.9629600048065,65.92592597007751 L1057.9629600048065,65.92592597007751 M1147.8703707456589,26.66666805744171 L1148.3865559101105,27.27544605731964 L1148.640587925911,28.08087468147278 L1148.6632615327835,28.772887587547302 L1148.323693871498,29.64891791343689 L1147.9313045740128,30.495813488960266 L1147.575119137764,31.386277079582214 L1147.0336735248566,32.258689403533936 L1146.4550733566284,33.223024010658264 L1145.8021104335785,34.27513837814331 L1145.2060461044312,35.42124032974243 L1144.627720117569,36.76371872425079 L1144.0490752458572,38.11388313770294 L1143.581447005272,39.45567309856415 L1143.194791674614,40.901556611061096 L1142.8098857402802,42.464157938957214 L1142.4231886863708,44.23454701900482 L1142.0399457216263,46.003976464271545 L1141.6537404060364,47.84240126609802 L1141.2674218416214,49.77400004863739 L1140.882569551468,51.63029432296753 L1140.590626001358,53.36070656776428 L1140.3811246156693,54.913973808288574 L1140.1874959468842,56.55326843261719 L1139.9947583675385,58.195316791534424 L1139.803671836853,59.822481870651245 L1139.7222220897675,61.56700253486633 L1139.509579539299,63.182634115219116 L1139.4444435834885,64.90964889526367 L1139.3518507480621,66.44888520240784 L1139.3518507480621,67.98374056816101 L1139.4444435834885,69.44317817687988 L1139.6671563386917,70.91838717460632 L1139.9598300457,72.43191003799438 L1140.5156522989273,73.87506365776062 L1141.096544265747,75.24378895759583 L1141.8630301952362,76.4982521533966 L1142.7281886339188,77.73679494857788 L1143.6992913484573,78.80951762199402 L1144.7745084762573,79.63361740112305 L1145.9697663784027,80.50124645233154 L1147.3619192838669,81.09974265098572 L1148.8094419240952,81.48477077484131 L1150.346863269806,81.66666626930237 L1151.7983138561249,81.75926208496094 L1153.3434689044952,81.59595131874084 L1154.8050343990326,81.4035177230835 L1156.246304512024,81.03280663490295 L1157.5035989284515,80.55375814437866 L1158.6495757102966,79.96923327445984 L1159.708046913147,79.39738631248474 L1160.5541944503784,78.72787117958069 L1161.1720263957977,77.9337227344513 L1161.5577518939972,77.12413668632507 L1161.897474527359,76.25335454940796 L1162.090653181076,75.38008093833923 L1162.1905624866486,74.41755533218384 L1162.1536314487457,73.45334887504578 L1161.9607388973236,72.5814700126648 L1161.684137582779,71.52515649795532 L1161.299729347229,70.56413292884827 L1160.9126806259155,69.50392127037048 L1160.4345977306366,68.64697337150574 L1159.843009710312,67.78451204299927 M1241.666665673256,30.37036955356598 L1242.2154307365417,32.28425085544586 L1242.3148155212402,34.90956723690033 L1242.3148155212402,37.7385675907135 L1242.194840312004,40.90107083320618 L1242.222222685814,43.98959279060364 L1242.0082330703735,47.248879075050354 L1241.6507720947266,50.39340853691101 L1240.9370332956314,53.5666823387146 L1240.0232791900635,56.93470239639282 L1238.970810174942,60.44796109199524 L1238.0048274993896,63.960397243499756 L1237.2816562652588,67.34839677810669 L1236.7837309837341,70.27942538261414 L1236.487865447998,72.78738617897034 L1236.3888889551163,74.74352717399597 L1236.3888889551163,76.283860206604 L1236.5921050310135,77.31237411499023 L1236.7841839790344,78.03773880004883 L1237.1006309986115,78.48953008651733 L1237.4846518039703,78.74232530593872 L1237.779152393341,78.93587350845337 L1238.163521885872,79.03546094894409 L1238.611102104187,79.1357934474945 L1239.1665190458298,79.16666865348816 L1239.8449271917343,79.16666865348816 L1240.7071888446808,79.16666865348816 L1241.478019952774,78.98235321044922 L1242.3413008451462,78.69045734405518 L1243.2041376829147,78.19874882698059 L1244.1788971424103,77.60133147239685 L1245.2611356973648,76.9246757030487 L1246.5509474277496,75.89284181594849 L1247.9935139417648,74.69167113304138 L1249.4861006736755,73.34317564964294 L1250.8756637573242,71.9947099685669 L1252.157872915268,70.71250677108765 L1253.4083425998688,69.64720487594604 L1254.6550333499908,68.75969767570496 L1255.7226300239563,68.159019947052 L1256.591159105301,67.76922941207886 L1257.0608019828796,67.58071184158325 L1257.2222232818604,67.59259104728699 L1257.2222232818604,67.59259104728699 M1336.3888889551163,59.5370352268219 L1336.574074625969,59.62963104248047 L1337.6925557851791,59.82909798622131 L1339.5151197910309,60.11817455291748 L1341.4701044559479,60.49886345863342 L1343.3367103338242,60.60218811035156 L1345.162907242775,60.688215494155884 L1347.2804605960846,60.648149251937866 L1349.3370085954666,60.50148010253906 L1351.4200031757355,60.154277086257935 L1353.4676730632782,59.700435400009155 L1355.300748348236,59.12274122238159 L1356.872022151947,58.36954712867737 L1358.228999376297,57.509779930114746 L1359.0954840183258,56.449371576309204 L1359.667581319809,55.294471979141235 L1359.8342716693878,54.14251089096069 L1359.602963924408,53.10738682746887 L1359.2508256435394,52.27271318435669 L1358.7658405303955,51.677221059799194 L1358.1885874271393,51.29238963127136 L1357.5591504573822,51.056456565856934 L1356.632387638092,51.0185182094574 L1355.4382860660553,51.18077993392944 L1354.0087938308716,51.54410004615784 L1352.2961974143982,52.18934416770935 L1350.3721952438354,53.14723253250122 L1348.4534621238708,54.20570373535156 L1346.4167833328247,55.56305646896362 L1344.3970143795013,57.1347713470459 L1342.368534207344,58.777594566345215 L1340.5994176864624,60.382819175720215 L1339.0435606241226,61.92640662193298 L1337.9418194293976,63.41663599014282 L1337.3826205730438,64.91396427154541 L1337.222221493721,66.45647883415222 L1337.2959554195404,67.9972767829895 L1337.8349781036377,69.53524947166443 L1338.7787878513336,70.99401354789734 L1340.1187926530838,72.15209007263184 L1341.9601887464523,73.10973405838013 L1344.3138360977173,73.77747893333435 L1347.0516085624695,74.24364686012268 L1350.0918686389923,74.4770884513855 L1353.3737659454346,74.53703880310059 L1356.6422820091248,74.58204627037048 L1359.9122107028961,74.53703880310059 L1362.8837049007416,74.38182234764099 L1365.533298254013,74.1897463798523 L1367.8821682929993,73.92041087150574 L1369.6431934833527,73.71358275413513 L1371.0143625736237,73.5192060470581 L1371.7791616916656,73.41929078102112 L1371.8981504440308,73.28703999519348 L1371.8518495559692,73.33333492279053 M1426.5740752220154,68.11003684997559 L1426.3414651155472,67.22476482391357 L1425.9952694177628,66.15375876426697 L1425.6040692329407,65.17575979232788 L1425.2127677202225,64.2901062965393 L1424.821437895298,63.2224977016449 L1424.4656667113304,61.980611085891724 L1423.986530303955,60.35497784614563 L1423.6018791794777,58.52683782577515 L1423.3216613531113,56.60443305969238 L1423.1291100382805,54.678910970687866 L1423.0555549263954,52.66329646110535 L1423.274302482605,50.737375020980835 L1423.6410155892372,48.85365664958954 L1424.217303097248,47.172534465789795 L1424.9428421258926,45.68691551685333 L1425.8675634860992,44.55729424953461 L1426.903784275055,43.82481276988983 L1427.980798482895,43.41771900653839 L1429.027995467186,43.38781237602234 L1429.9965173006058,43.57160925865173 L1430.8598786592484,43.956637382507324 L1431.7234843969345,44.74092721939087 L1432.4904322624207,45.82716524600983 L1433.1432163715363,47.20346927642822 L1433.8134288787842,48.68040978908539 L1434.4832301139832,50.175851583480835 L1435.1114243268967,51.522624492645264 L1435.730403661728,52.568119764328 L1436.21786236763,53.375834226608276 L1436.5549206733704,53.90506386756897 L1436.8400275707245,54.301917552948 L1436.944442987442,54.49421405792236 L1437.0833337306976,54.637813568115234 L1436.944442987442,54.283857345581055 L1436.8314564228058,53.37842106819153 L1436.851853132248,51.95595026016235 L1437.1087729930878,50.066179037094116 L1437.4930918216705,47.83085584640503 L1438.1206542253494,45.18701732158661 L1439.0487968921661,42.39741563796997 L1440.2666568756104,39.770904183387756 L1441.688472032547,37.33658194541931 L1443.3059453964233,35.45223772525787 L1445.1330244541168,33.80454778671265 L1446.960225701332,32.8252375125885 L1448.603093624115,32.15591907501221 L1450.0219762325287,31.889966130256653 L1451.2759625911713,32.0224791765213 L1452.409142255783,32.46275782585144 L1453.659427165985,33.250945806503296 L1455.0005912780762,34.453147649765015 L1456.4468801021576,35.85321605205536 L1458.145695924759,37.5520259141922 L1459.8789155483246,39.377838373184204 L1461.6142511367798,41.020575165748596 L1463.1701469421387,42.576488852500916 L1464.7111654281616,43.842488527297974 L1466.0623908042908,44.999489188194275 L1467.2117054462433,45.849937200546265 L1468.364977836609,46.61878943443298 L1469.3082511425018,47.26906418800354 L1469.92267370224,47.71898090839386 L1470.457237958908,48.01171123981476 M1527.0370364189148,42.592594027519226 L1527.2197633981705,43.553754687309265 L1527.759826183319,46.077096462249756 L1528.414073586464,49.503886699676514 L1529.1772812604904,52.6842474937439 L1530.0617635250092,56.00630044937134 L1531.0405254364014,58.96667838096619 L1532.1025341749191,62.238043546676636 L1533.2544445991516,65.31431674957275 L1534.4076097011566,68.28754544258118 L1535.3602975606918,71.06438279151917 L1536.2050384283066,73.22125434875488 L1536.8489176034927,74.86873269081116 L1537.3900562524796,75.98381638526917 L1537.7744734287262,76.57077312469482 L1538.0144715309143,76.75926089286804 L1538.1944447755814,76.75926089286804 L1538.2311016321182,76.5007495880127 L1538.3216440677643,76.05359554290771 L1538.5138243436813,75.38445591926575 L1538.6136680841446,74.71199035644531 L1538.7138783931732,73.83801341056824 L1538.813304901123,72.67573475837708 L1539.0051573514938,71.19946479797363 L1539.1960322856903,69.76507306098938 L1539.4826233386993,68.1205153465271 L1539.7204548120499,66.71915650367737 L1539.9600207805634,65.66284894943237 L1540.2452528476715,65.00497460365295 L1540.4373586177826,64.6552324295044 L1540.722694993019,64.46248888969421 L1541.1692380905151,64.27075266838074 L1541.7439192533493,64.17050361633301 L1542.4197524785995,64.35493230819702 L1543.1908667087555,64.84684944152832 L1543.96071434021,65.94107151031494 L1544.8217451572418,67.30379462242126 L1545.716616511345,69.08621191978455 L1546.6393291950226,70.91071009635925 L1547.5035727024078,72.59973883628845 L1548.273178935051,74.1389513015747 L1548.9824444055557,75.37229061126709 L1549.5590269565582,76.22568607330322 L1550.0614881515503,76.80519223213196 L1550.4464626312256,77.02878713607788 L1550.6463170051575,77.0370364189148 L1550.839388370514,76.93839073181152 L1550.9722232818604,76.66666507720947 L1551.0381400585175,76.33002400398254 L1551.2310564517975,75.08631944656372 L1551.2617528438568,73.01135063171387 L1551.1619210243225,70.48441767692566 L1550.969386100769,67.26382970809937 L1550.8697748184204,63.65540623664856 L1550.7407426834106,59.902894496917725 L1550.9042859077454,55.98835349082947 L1551.1757016181946,52.13187336921692 L1551.6449987888336,48.29258620738983 L1552.1314322948456,44.61880624294281 L1552.8097569942474,41.35356247425079 L1553.376591205597,38.79401385784149 L1553.954792022705,37.13907301425934 L1554.289424419403,36.175623536109924 L1554.444444179535,36.01851761341095 M1661.944442987442,53.88888716697693 L1660.7123911380768,53.25680375099182 L1659.8389029502869,52.967774868011475 L1658.9559018611908,52.87036895751953 L1657.978093624115,52.87036895751953 L1656.9758832454681,53.065747022628784 L1655.6149244308472,53.3513069152832 L1654.3881058692932,53.75334620475769 L1653.1375706195831,54.171955585479736 L1651.979160308838,54.65856194496155 L1650.9633243083954,55.28489351272583 L1649.911591410637,56.10692501068115 L1648.8506108522415,57.23111629486084 L1647.8868335485458,58.551025390625 L1647.1727192401886,59.899455308914185 L1646.588197350502,61.42498850822449 L1646.111848950386,62.96001076698303 L1645.7253575325012,64.60626125335693 L1645.6481486558914,66.25365018844604 L1645.6481486558914,68.0787742137909 L1645.9855914115906,69.71293091773987 L1646.6321736574173,71.18964195251465 L1647.5416839122772,72.49447107315063 L1648.649749159813,73.45168590545654 L1649.963402748108,74.16421175003052 L1651.221740245819,74.58187341690063 L1652.5684893131256,74.81481432914734 L1653.9122343063354,74.81481432914734 L1655.2644729614258,74.44823980331421 L1656.4272165298462,73.96231293678284 L1657.5863182544708,73.1831967830658 L1658.5375905036926,72.29574918746948 L1659.2855989933014,71.24022245407104 L1659.9268674850464,69.92372870445251 L1660.5995953083038,68.57007145881653 L1661.3231539726257,66.93031191825867 L1662.1899247169495,65.18840789794922 L1662.9653453826904,63.60633969306946 L1663.055557012558,63.425928354263306 L1663.055557012558,63.425928354263306 M1763.4259283542633,56.66666626930237 L1763.367474079132,57.83156752586365 L1763.5185182094574,59.27700400352478 L1763.6611223220825,60.72045564651489 L1763.7962937355042,62.01070547103882 L1763.8888895511627,63.26119303703308 L1763.8888895511627,64.4916296005249 L1763.7219369411469,65.70571064949036 L1763.529896736145,67.04996824264526 L1763.3359909057617,68.40734481811523 L1763.2363140583038,69.65619325637817 L1763.3460760116577,70.7118272781372 L1763.4454309940338,71.46689891815186 L1763.7572169303894,72.02470302581787 L1764.0506982803345,72.41864204406738 L1764.4361019134521,72.76943325996399 L1764.914631843567,73.10545444488525 L1765.4503405094147,73.39085340499878 L1765.9635663032532,73.58363270759583 L1766.513454914093,73.61111044883728 L1767.0920133590698,73.61111044883728 L1767.755800485611,73.51852059364319 L1768.4343457221985,73.2365369796753 L1769.3105578422546,72.8395938873291 L1770.1613128185272,72.35586643218994 L1771.1450934410095,71.65799736976624 L1772.1100270748138,70.97864151000977 L1773.1076896190643,70.17260789871216 L1774.129730463028,69.15544271469116 L1774.351853132248,68.88889074325562 L1774.351853132248,68.88889074325562 M1863.611114025116,43.61111223697662 L1863.441115617752,42.86894202232361 L1862.8969252109528,40.92628359794617 L1862.322747707367,39.82803821563721 L1861.6334795951843,39.04089033603668 L1860.5363965034485,38.35142254829407 L1859.3578457832336,37.740665674209595 L1857.4903905391693,37.275853753089905 L1855.2429735660553,37.22222149372101 L1852.6788651943207,37.76019215583801 L1850.0746250152588,38.89786899089813 L1847.5692182779312,40.85670709609985 L1845.4645544290543,43.42353641986847 L1843.9139693975449,46.46383225917816 L1842.9608970880508,49.70785081386566 L1842.6851838827133,52.80672311782837 L1842.8535223007202,55.706971883773804 L1843.5145854949951,58.50474834442139 L1844.6663677692413,61.09811067581177 L1845.9225624799728,63.4863018989563 L1847.481694817543,65.80588221549988 L1849.1122394800186,67.89970397949219 L1850.6151020526886,69.6665108203888 L1851.7865598201752,71.26590013504028 L1852.556574344635,72.70574569702148 L1852.8353989124298,73.95684123039246 L1852.648502588272,75.1100480556488 L1852.0297646522522,76.18964314460754 L1851.0111570358276,77.24378705024719 L1849.6787339448929,78.20566892623901 L1847.95863032341,78.98341417312622 L1845.9316194057465,79.65333461761475 L1843.6990916728973,80.12422919273376 L1842.7777767181396,80.37037253379822 L1842.7777767181396,80.37037253379822 M1963.611114025116,43.61111223697662 L1963.441115617752,42.86894202232361 L1962.8969252109528,40.92628359794617 L1962.322747707367,39.82803821563721 L1961.6334795951843,39.04089033603668 L1960.5363965034485,38.35142254829407 L1959.3578457832336,37.740665674209595 L1957.4903905391693,37.275853753089905 L1955.2429735660553,37.22222149372101 L1952.6788651943207,37.76019215583801 L1950.0746250152588,38.89786899089813 L1947.5692182779312,40.85670709609985 L1945.4645544290543,43.42353641986847 L1943.9139693975449,46.46383225917816 L1942.9608970880508,49.70785081386566 L1942.6851838827133,52.80672311782837 L1942.8535223007202,55.706971883773804 L1943.5145854949951,58.50474834442139 L1944.6663677692413,61.09811067581177 L1945.9225624799728,63.4863018989563 L1947.481694817543,65.80588221549988 L1949.1122394800186,67.89970397949219 L1950.6151020526886,69.6665108203888 L1951.7865598201752,71.26590013504028 L1952.556574344635,72.70574569702148 L1952.8353989124298,73.95684123039246 L1952.648502588272,75.1100480556488 L1952.0297646522522,76.18964314460754 L1951.0111570358276,77.24378705024719 L1949.6787339448929,78.20566892623901 L1947.95863032341,78.98341417312622 L1945.9316194057465,79.65333461761475 L1943.6990916728973,80.12422919273376 L1942.7777767181396,80.37037253379822 L1942.7777767181396,80.37037253379822 M2051.296293735504,64.07407522201538 L2051.111114025116,64.35185074806213 L2050.5675852298737,65.47834873199463 L2049.7430741786957,67.68685579299927 L2049.200999736786,70.40781378746033 L2048.895511031151,73.06204438209534 L2048.79629611969,75.79687833786011 L2048.8870471715927,78.1241774559021 L2049.1718381643295,80.33466935157776 L2049.666851758957,82.3462963104248 L2050.244861841202,84.04803276062012 L2051.1427521705627,85.66174507141113 L2052.372717857361,86.96761727333069 L2053.72314453125,88.04020285606384 L2055.2119493484497,88.76003623008728 L2056.8521916866302,89.28250074386597 L2058.463007211685,89.5370364189148 L2060.0262224674225,89.5370364189148 L2061.6574466228485,89.19212222099304 L2063.1988048553467,88.44689130783081 L2064.4601702690125,87.48689889907837 L2065.511989593506,86.2276554107666 L2066.273069381714,84.98855233192444 L2066.736513376236,83.63332152366638 L2066.851854324341,82.27952718734741 L2066.851854324341,80.88347911834717 L2066.664308309555,79.38754558563232 L2066.374319791794,77.75852084159851 L2065.8950984477997,75.8643627166748 L2065.346187353134,74.02434349060059 L2064.768999814987,72.3469614982605 L2064.1081631183624,70.80891728401184 L2063.5223150253296,69.63722705841064 L2062.944942712784,68.67368221282959 L2062.262737751007,67.81828999519348 L2061.6977989673615,67.1402633190155 L2061.027252674103,66.67540073394775 L2060.449981689453,66.35369658470154 L2059.9626302719116,66.06778502464294 L2059.386521577835,65.87575078010559 L2058.806836605072,65.77510833740234 L2058.067435026169,65.89980721473694 L2057.9629600048065,65.92592597007751 L2057.9629600048065,65.92592597007751 M2141.666665673256,30.37036955356598 L2142.2154307365417,32.28425085544586 L2142.3148155212402,34.90956723690033 L2142.3148155212402,37.7385675907135 L2142.194840312004,40.90107083320618 L2142.222222685814,43.98959279060364 L2142.0082330703735,47.248879075050354 L2141.6507720947266,50.39340853691101 L2140.9370332956314,53.5666823387146 L2140.0232791900635,56.93470239639282 L2138.970810174942,60.44796109199524 L2138.0048274993896,63.960397243499756 L2137.281656265259,67.34839677810669 L2136.783730983734,70.27942538261414 L2136.487865447998,72.78738617897034 L2136.3888889551163,74.74352717399597 L2136.3888889551163,76.283860206604 L2136.5921050310135,77.31237411499023 L2136.7841839790344,78.03773880004883 L2137.1006309986115,78.48953008651733 L2137.4846518039703,78.74232530593872 L2137.779152393341,78.93587350845337 L2138.163521885872,79.03546094894409 L2138.611102104187,79.1357934474945 L2139.16651904583,79.16666865348816 L2139.8449271917343,79.16666865348816 L2140.707188844681,79.16666865348816 L2141.478019952774,78.98235321044922 L2142.341300845146,78.69045734405518 L2143.2041376829147,78.19874882698059 L2144.1788971424103,77.60133147239685 L2145.261135697365,76.9246757030487 L2146.5509474277496,75.89284181594849 L2147.993513941765,74.69167113304138 L2149.4861006736755,73.34317564964294 L2150.875663757324,71.9947099685669 L2152.157872915268,70.71250677108765 L2153.408342599869,69.64720487594604 L2154.655033349991,68.75969767570496 L2155.7226300239563,68.159019947052 L2156.591159105301,67.76922941207886 L2157.0608019828796,67.58071184158325 L2157.2222232818604,67.59259104728699 L2157.2222232818604,67.59259104728699 M2244.5370376110077,57.592594623565674 L2244.9386328458786,58.24909210205078 L2246.34767472744,61.374324560165405 L2247.140535712242,63.73641490936279 L2247.814506292343,65.57314395904541 L2248.2899636030197,67.3511266708374 L2248.73905479908,68.64224076271057 L2249.215593934059,69.65934038162231 L2249.600514769554,70.37299275398254 L2250.0763535499573,70.87151408195496 L2250.554299354553,71.06419205665588 L2251.083517074585,70.96598148345947 L2251.8124878406525,70.40972709655762 L2252.7460753917694,69.34067606925964 L2253.9518237113953,67.74978041648865 L2255.199635028839,65.77094197273254 L2256.5457105636597,63.655686378479004 L2257.8968167304993,61.72147989273071 L2259.0496599674225,60.094285011291504 L2258.9814841747284,60.18518805503845 M2336.3888889551163,59.5370352268219 L2336.574074625969,59.62963104248047 L2337.692555785179,59.82909798622131 L2339.515119791031,60.11817455291748 L2341.470104455948,60.49886345863342 L2343.336710333824,60.60218811035156 L2345.162907242775,60.688215494155884 L2347.2804605960846,60.648149251937866 L2349.3370085954666,60.50148010253906 L2351.4200031757355,60.154277086257935 L2353.467673063278,59.700435400009155 L2355.300748348236,59.12274122238159 L2356.872022151947,58.36954712867737 L2358.228999376297,57.509779930114746 L2359.095484018326,56.449371576309204 L2359.667581319809,55.294471979141235 L2359.834271669388,54.14251089096069 L2359.602963924408,53.10738682746887 L2359.2508256435394,52.27271318435669 L2358.7658405303955,51.677221059799194 L2358.1885874271393,51.29238963127136 L2357.559150457382,51.056456565856934 L2356.632387638092,51.0185182094574 L2355.4382860660553,51.18077993392944 L2354.0087938308716,51.54410004615784 L2352.296197414398,52.18934416770935 L2350.3721952438354,53.14723253250122 L2348.453462123871,54.20570373535156 L2346.4167833328247,55.56305646896362 L2344.3970143795013,57.1347713470459 L2342.368534207344,58.777594566345215 L2340.5994176864624,60.382819175720215 L2339.0435606241226,61.92640662193298 L2337.9418194293976,63.41663599014282 L2337.382620573044,64.91396427154541 L2337.222221493721,66.45647883415222 L2337.2959554195404,67.9972767829895 L2337.8349781036377,69.53524947166443 L2338.7787878513336,70.99401354789734 L2340.118792653084,72.15209007263184 L2341.9601887464523,73.10973405838013 L2344.3138360977173,73.77747893333435 L2347.0516085624695,74.24364686012268 L2350.0918686389923,74.4770884513855 L2353.3737659454346,74.53703880310059 L2356.6422820091248,74.58204627037048 L2359.912210702896,74.53703880310059 L2362.8837049007416,74.38182234764099 L2365.533298254013,74.1897463798523 L2367.8821682929993,73.92041087150574 L2369.6431934833527,73.71358275413513 L2371.0143625736237,73.5192060470581 L2371.7791616916656,73.41929078102112 L2371.8981504440308,73.28703999519348 L2371.8518495559692,73.33333492279053 M2457.407408952713,34.72222089767456 L2458.068698644638,36.560556292533875 L2458.487546443939,39.47446942329407 L2458.611112833023,43.23812425136566 L2458.604711294174,47.263917326927185 L2458.611112833023,51.59466862678528 L2458.611112833023,55.340516567230225 L2458.611112833023,59.161800146102905 L2458.611112833023,62.826406955718994 L2458.484226465225,66.39235019683838 L2458.2913875579834,70.05616426467896 L2457.955461740494,73.72866868972778 L2457.6290011405945,77.30767130851746 L2457.2801291942596,80.55524230003357 L2456.9851219654083,83.41898322105408 L2456.6775918006897,85.8874261379242 L2456.3029050827026,88.01919221878052 L2455.825674533844,89.84927535057068 L2455.2455604076385,91.38222336769104 L2454.5580744743347,92.60733127593994 L2453.6655485630035,93.43792796134949 L2452.672255039215,93.95493268966675 L2451.3805627822876,94.20753717422485 L2449.982440471649,94.25926208496094 L2448.390558362007,94.05592083930969 L2446.7438220977783,93.60597133636475 L2445.106866955757,92.88859367370605 L2443.4581845998764,91.74990057945251 L2441.827192902565,90.42321443557739 L2440.0828510522842,88.78655433654785 L2438.2425636053085,87.04793453216553 L2436.513176560402,85.21687984466553 L2434.7878605127335,83.16664099693298 L2433.4211707115173,81.16491436958313 L2432.5696021318436,79.15176153182983 L2432.1766763925552,77.13711261749268 L2432.383441925049,75.29593110084534 L2433.0245554447174,73.45713376998901 L2433.9556008577347,71.69473171234131 L2435.1625740528107,70.05553245544434 L2436.6764217615128,68.3235764503479 L2438.60142827034,66.67537689208984 L2440.8116340637207,65.2364194393158 L2443.1260228157043,64.09872770309448 L2445.343780517578,63.363128900527954 L2447.4470108747482,62.90525794029236 L2449.346286058426,62.77777552604675 L2451.1393010616302,62.822067737579346 L2452.873206138611,63.014715909957886 L2454.699742794037,63.26660513877869 L2456.5048158168793,63.65281343460083 L2458.180248737335,64.1092598438263 L2459.729117155075,64.51560854911804 L2460.8203887939453,64.90222215652466 L2461.400878429413,65.0985836982727 L2461.388885974884,65.09259343147278 M2547.870370745659,26.66666805744171 L2548.3865559101105,27.27544605731964 L2548.640587925911,28.08087468147278 L2548.6632615327835,28.772887587547302 L2548.323693871498,29.64891791343689 L2547.9313045740128,30.495813488960266 L2547.575119137764,31.386277079582214 L2547.0336735248566,32.258689403533936 L2546.4550733566284,33.223024010658264 L2545.8021104335785,34.27513837814331 L2545.206046104431,35.42124032974243 L2544.627720117569,36.76371872425079 L2544.0490752458572,38.11388313770294 L2543.581447005272,39.45567309856415 L2543.194791674614,40.901556611061096 L2542.80988574028,42.464157938957214 L2542.423188686371,44.23454701900482 L2542.0399457216263,46.003976464271545 L2541.6537404060364,47.84240126609802 L2541.2674218416214,49.77400004863739 L2540.882569551468,51.63029432296753 L2540.590626001358,53.36070656776428 L2540.3811246156693,54.913973808288574 L2540.187495946884,56.55326843261719 L2539.9947583675385,58.195316791534424 L2539.803671836853,59.822481870651245 L2539.7222220897675,61.56700253486633 L2539.509579539299,63.182634115219116 L2539.4444435834885,64.90964889526367 L2539.351850748062,66.44888520240784 L2539.351850748062,67.98374056816101 L2539.4444435834885,69.44317817687988 L2539.6671563386917,70.91838717460632 L2539.9598300457,72.43191003799438 L2540.5156522989273,73.87506365776062 L2541.096544265747,75.24378895759583 L2541.863030195236,76.4982521533966 L2542.7281886339188,77.73679494857788 L2543.6992913484573,78.80951762199402 L2544.7745084762573,79.63361740112305 L2545.9697663784027,80.50124645233154 L2547.361919283867,81.09974265098572 L2548.809441924095,81.48477077484131 L2550.346863269806,81.66666626930237 L2551.798313856125,81.75926208496094 L2553.3434689044952,81.59595131874084 L2554.8050343990326,81.4035177230835 L2556.246304512024,81.03280663490295 L2557.5035989284515,80.55375814437866 L2558.6495757102966,79.96923327445984 L2559.708046913147,79.39738631248474 L2560.5541944503784,78.72787117958069 L2561.1720263957977,77.9337227344513 L2561.557751893997,77.12413668632507 L2561.897474527359,76.25335454940796 L2562.090653181076,75.38008093833923 L2562.1905624866486,74.41755533218384 L2562.1536314487457,73.45334887504578 L2561.9607388973236,72.5814700126648 L2561.684137582779,71.52515649795532 L2561.299729347229,70.56413292884827 L2560.9126806259155,69.50392127037048 L2560.4345977306366,68.64697337150574 L2559.843009710312,67.78451204299927 M2653.240740299225,43.42592656612396 L2654.0238976478577,43.4584379196167 L2655.530047416687,43.60473155975342 L2657.3337078094482,44.103050231933594 L2659.001737833023,44.856929779052734 L2660.8560740947723,45.910221338272095 L2662.6145005226135,47.202712297439575 L2664.5478069782257,48.82450997829437 L2666.3779616355896,50.64757466316223 L2668.0302560329437,52.28951573371887 L2669.665563106537,53.83223295211792 L2671.10213637352,54.96714115142822 L2672.335696220398,55.70489168167114 L2673.489660024643,55.951982736587524 L2674.2592573165894,55.74073791503906 L2674.2592573165894,55.74073791503906 M2773.79629611969,39.81481492519379 L2774.2380142211914,40.56467115879059 L2775.0077843666077,42.52334535121918 L2775.777941942215,45.38958966732025 L2776.3299882411957,48.48083257675171 L2776.8076300621033,52.07988619804382 L2777.2856414318085,55.911922454833984 L2777.584797143936,59.92896556854248 L2777.777725458145,64.07292485237122 L2777.877914905548,68.22152733802795 L2777.7632355690002,72.24975824356079 L2777.7777791023254,75.97230076789856 L2777.655738592148,78.99397015571594 L2777.592593431473,81.29304051399231 L2777.592593431473,83.03924798965454 L2777.592593431473,84.14387106895447 L2777.592593431473,85.05263924598694 L2777.592593431473,85.18518805503845 L2777.592593431473,85.18518805503845 \"/>\n        </g>\n    </svg>"
     },
     "metadata": {},
     "output_type": "display_data"
    },
    {
     "name": "stdout",
     "output_type": "stream",
     "text": [
      "[312, 919, 263, 721, 224, 451, 335, 533, 1837, 739]\n",
      "[1419, 1076, 390, 1530, 1041, 1815, 240, 1379, 335, 515]\n",
      "[328, 393, 227, 962, 317, 1979, 90, 310, 818, 15]\n",
      "[1660, 446, 226, 1037, 573, 280, 391, 342, 183, 1009]\n",
      "[912, 265, 531, 89, 1121, 1544, 293, 433, 243, 1755]\n",
      "[395, 273, 1284, 246, 249, 234, 581, 183, 78, 34]\n",
      "[17, 3, 183, 464, 4, 512, 34, 621, 294, 1767]\n",
      "[3, 12, 464, 17, 183, 449, 301, 459, 561, 321]\n",
      "Ground truth =>  [2, 312, 1419, 328, 1660, 912, 395, 183, 3] \n",
      "\n",
      "Ground Truth:  The problem was solved by  (len=25)\n",
      "- Prediction:  The problem was solved by. (len=25)\n",
      "Normalized Levenshtein distance is: 0.03636363636363636\n",
      "Alternative Prediction 0:  The problem was solved by. (len=25)\n",
      "Alternative Prediction 1:  The problem was solved by) (len=25)\n",
      "Alternative Prediction 2:  The problem was solved by  . (len=27)\n",
      "Alternative Prediction 3:  The problem was solved by .. (len=27)\n",
      "Alternative Prediction 4:  The problem was solved by!  (len=26)\n",
      "Alternative Prediction 5:  The problem was solved by... 5 (len=29)\n",
      "Alternative Prediction 6:  The problem was solved by? 0 (len=27)\n",
      "Alternative Prediction 7:  The problem was solved by.... 3 (len=30)\n",
      "Alternative Prediction 8:  The problem was solved by it 8 (len=29)\n",
      "Alternative Prediction 9:  The problem was solved by ? 1 (len=28)\n"
     ]
    }
   ],
   "source": [
    "ind = random.choice(range(0, y_pred.shape[0]))\n",
    "print(\"Index:\", ind, \"\\n\")\n",
    "\n",
    "\n",
    "svg_str = strokes_to_svg(x_pred[ind], {'height':100, 'width':100}, d_gen.padding_value, BOS_IDX, EOS_IDX)\n",
    "display(SVG(data = svg_str))\n",
    "\n",
    "eos_tensor = torch.zeros(x_pred[ind].size(-1)) + d_gen.eos_idx\n",
    "\n",
    "prediction, (cross_att, dec_att, enc_att), token_ids, alternatives = model.predict_with_alternatives(x_pred[ind].unsqueeze(0), num_alternatives=10)\n",
    "prediction = prediction.replace(\" \", '').replace(\"Ġ\", \" \")\n",
    "\n",
    "gt = VOCAB.decode(y_pred[ind].tolist()).replace(\" \", '').replace(\"Ġ\", \" \")\n",
    "gt_list = [i for i in y_pred[ind].tolist() if i != 1]\n",
    "gt_length = len(gt)-2\n",
    "\n",
    "print(\"Ground truth => \", gt_list , '\\n')\n",
    "\n",
    "# Show ground truth and prediction along with the lengths of the words/glyphs\n",
    "print(f\"Ground Truth: {''.join(gt)} (len={gt_length})\")\n",
    "print(f\"- Prediction: {prediction} (len={len(prediction)-2})\")\n",
    "\n",
    "print(f\"Normalized Levenshtein distance is: {Levenshtein_Normalized_distance(gt, prediction)}\")\n",
    "\n",
    "last_alts = alternatives[-2:]\n",
    "for i, (al1, al2) in enumerate(zip(last_alts[0], last_alts[1])):\n",
    "    indexes = token_ids[:-2] + [al1] + [al2]\n",
    "    alt_prediction = VOCAB.decode(indexes).replace(\" \", '').replace(\"Ġ\", \" \")\n",
    "    print(f\"Alternative Prediction {i}: {alt_prediction} (len={len(alt_prediction)-2})\")"
   ],
   "metadata": {
    "collapsed": false
   }
  },
  {
   "cell_type": "code",
   "execution_count": 40,
   "outputs": [
    {
     "name": "stdout",
     "output_type": "stream",
     "text": [
      "Index: 3 \n",
      "\n"
     ]
    },
    {
     "data": {
      "text/plain": "<IPython.core.display.SVG object>",
      "image/svg+xml": "<svg xmlns=\"http://www.w3.org/2000/svg\" width=\"935\" height=\"55.0\" viewBox=\"0 0 1700 100\" style=\"background-color:white\" version=\"1.1\">\n        <title>Strokes</title>\n        <desc>Stroke Sequence</desc>\n        <g fill=\"#E0E0E0\" stroke=\"none\" stroke-width=\"3.3333333333333335\" stroke-linecap=\"round\" stroke-linejoin=\"round\">\n            <rect x=\"0\" y=\"0\" width=\"1700\" height=\"100\"/>&quot;\n        </g>\n        <g fill=\"#00D000\" stroke=\"none\" fill-opacity=\"0.58\">\n            <rect x=\"0\" y=\"0\" width=\"100\" height=\"100\"/>&quot;\n        </g>\n        <g fill=\"#D00000\" stroke=\"none\" fill-opacity=\"0.58\">\n            <rect x=\"1600\" y=\"0\" width=\"100\" height=\"100\"/>&quot;\n        </g>\n        <g fill=\"none\" stroke=\"#000000\" stroke-width=\"2.5\" stroke-linecap=\"round\" stroke-linejoin=\"round\">\n            <rect x=\"0\" y=\"0\" width=\"1700\" height=\"100\"/>&quot;\n        </g>\n        <g fill=\"none\" stroke=\"#303030\" stroke-dasharray=\"5.555555555555555,5.555555555555555\" stroke-width=\"2.0\" stroke-linecap=\"round\" stroke-linejoin=\"round\">\n            <line x1=\"100\" y1=\"0\" x2=\"100\" y2=\"100\"/>\n\t<line x1=\"200\" y1=\"0\" x2=\"200\" y2=\"100\"/>\n\t<line x1=\"300\" y1=\"0\" x2=\"300\" y2=\"100\"/>\n\t<line x1=\"400\" y1=\"0\" x2=\"400\" y2=\"100\"/>\n\t<line x1=\"500\" y1=\"0\" x2=\"500\" y2=\"100\"/>\n\t<line x1=\"600\" y1=\"0\" x2=\"600\" y2=\"100\"/>\n\t<line x1=\"700\" y1=\"0\" x2=\"700\" y2=\"100\"/>\n\t<line x1=\"800\" y1=\"0\" x2=\"800\" y2=\"100\"/>\n\t<line x1=\"900\" y1=\"0\" x2=\"900\" y2=\"100\"/>\n\t<line x1=\"1000\" y1=\"0\" x2=\"1000\" y2=\"100\"/>\n\t<line x1=\"1100\" y1=\"0\" x2=\"1100\" y2=\"100\"/>\n\t<line x1=\"1200\" y1=\"0\" x2=\"1200\" y2=\"100\"/>\n\t<line x1=\"1300\" y1=\"0\" x2=\"1300\" y2=\"100\"/>\n\t<line x1=\"1400\" y1=\"0\" x2=\"1400\" y2=\"100\"/>\n\t<line x1=\"1500\" y1=\"0\" x2=\"1500\" y2=\"100\"/>\n\t<line x1=\"1600\" y1=\"0\" x2=\"1600\" y2=\"100\"/>\n\t\n        </g>\n        <g fill=\"red\" font-size=\"1.6666666666666667em\" font-family=\"Arial\">\n            <text x=\"100\" y=\"95.0\">0</text>\n\t<text x=\"200\" y=\"95.0\">1</text>\n\t<text x=\"300\" y=\"95.0\">2</text>\n\t<text x=\"400\" y=\"95.0\">3</text>\n\t<text x=\"500\" y=\"95.0\">4</text>\n\t<text x=\"600\" y=\"95.0\">5</text>\n\t<text x=\"700\" y=\"95.0\">6</text>\n\t<text x=\"800\" y=\"95.0\">7</text>\n\t<text x=\"900\" y=\"95.0\">8</text>\n\t<text x=\"1000\" y=\"95.0\">9</text>\n\t<text x=\"1100\" y=\"95.0\">10</text>\n\t<text x=\"1200\" y=\"95.0\">11</text>\n\t<text x=\"1300\" y=\"95.0\">12</text>\n\t<text x=\"1400\" y=\"95.0\">13</text>\n\t<text x=\"1500\" y=\"95.0\">14</text>\n\t<text x=\"1600\" y=\"95.0\">15</text>\n\t\n        </g>\n        <g fill=\"none\" stroke=\"black\" stroke-width=\"1.0\" stroke-linecap=\"round\" stroke-linejoin=\"round\">\n            <path d=\" M133.61110985279083,48.148149251937866 L134.31282937526703,48.40155243873596 L136.2362414598465,48.94875884056091 L139.18952643871307,49.66430068016052 L142.6428109407425,50.09300708770752 L146.38599157333374,50.13440251350403 L149.90203380584717,49.89170432090759 L152.85390615463257,49.36199188232422 L154.85788583755493,48.416778445243835 L155.092591047287,48.2407420873642 L155.092591047287,48.2407420873642 M243.79629492759705,39.90740776062012 L243.79629492759705,40.916746854782104 L243.31962168216705,45.57611048221588 L241.9907510280609,59.05853509902954 L242.37363636493683,75.32832622528076 L244.63333189487457,87.68795132637024 L245.86001932621002,93.797367811203 L245.69315612316132,97.3726749420166 L245.09259164333344,98.24073910713196 L245.09259164333344,98.24073910713196 M336.01851761341095,88.33333253860474 L338.4570211172104,88.40830326080322 L342.42900013923645,88.59716653823853 L348.14887046813965,88.61111402511597 L354.7211825847626,88.25137615203857 L360.5286180973053,87.7806544303894 L364.6972417831421,87.11611032485962 L367.12109446525574,86.84421181678772 L367.0370399951935,86.85185313224792 M447.9993134737015,20.74882984161377 L447.36393094062805,22.710786759853363 L446.1832642555237,26.920971274375916 L445.1266050338745,32.60731399059296 L444.4046348333359,37.724533677101135 L444.35638189315796,42.50146746635437 L444.89835500717163,46.18974030017853 L446.2544769048691,48.84632229804993 L448.1026917695999,50.30060410499573 L450.78226923942566,50.54602026939392 L453.9919078350067,49.79349076747894 L455.64361810684204,49.1419643163681 L455.64361810684204,49.1419643163681 M542.9017156362534,34.63338613510132 L544.441419839859,34.538424015045166 L548.0180978775024,34.47737991809845 L552.5634407997131,34.47737991809845 L556.7120492458344,34.35355722904205 L557.0982813835144,34.32137370109558 L557.0982813835144,34.32137370109558 M639.5260065793991,37.285491824150085 L637.9179418087006,39.32558000087738 L636.1287355422974,42.64110326766968 L635.0799858570099,46.64397835731506 L635.0018262863159,50.020986795425415 L635.6040179729462,52.87988781929016 L636.6734802722931,54.819685220718384 L638.3433550596237,55.612027645111084 L640.3921842575073,55.446743965148926 L642.3529654741287,54.51475381851196 L643.8322156667709,53.40060591697693 L644.8153674602509,52.43294835090637 L645.4608589410782,52.10608243942261 L645.7796722650528,52.44496464729309 L646.2791562080383,53.42146158218384 L647.1081584692001,54.5712947845459 L648.4227776527405,55.85466027259827 L650.4274129867554,56.93276524543762 L652.9948651790619,57.25429058074951 L656.1060547828674,56.74205422401428 L659.2373967170715,55.397820472717285 L661.8900179862976,53.1430184841156 L664.0238225460052,50.22434592247009 L664.9027466773987,47.11626470088959 L664.9981737136841,44.49497163295746 L664.1215145587921,42.448580265045166 L662.8671288490295,41.38975143432617 L662.770938873291,41.34165346622467 L662.770938873291,41.34165346622467 M757.1612894535065,40.24960994720459 L755.7741105556488,40.09360373020172 L752.5796353816986,40.2851939201355 L748.8840013742447,41.50213599205017 L745.8325505256653,43.54863166809082 L743.0654376745224,46.168944239616394 L741.2079811096191,49.090394377708435 L740.3426140546799,51.83013081550598 L740.7696187496185,53.950631618499756 L742.3483699560165,55.074042081832886 L744.6090549230576,55.0581693649292 L747.5155472755432,54.229289293289185 L750.5613803863525,52.39786505699158 L753.102707862854,50.119125843048096 L754.9031138420105,47.51322269439697 L755.7145178318024,45.582616329193115 L755.9132397174835,44.48649883270264 L755.9132397174835,44.149765372276306 L755.6738913059235,44.79512870311737 L755.1031589508057,47.0151424407959 L754.5630216598511,50.26584267616272 L754.8871397972107,53.57288122177124 L755.9276521205902,56.3470721244812 L757.4963867664337,58.91369581222534 L759.5426142215729,60.48123240470886 L759.6573889255524,60.53042411804199 L759.6573889255524,60.53042411804199 M855.8502316474915,32.91731774806976 L853.5370051860809,32.66502022743225 L850.1144468784332,33.34371745586395 L846.9613403081894,35.021230578422546 L844.89766061306,36.95175051689148 L844.1497653722763,38.95556926727295 L844.8851019144058,41.04059934616089 L846.8249768018723,43.2368278503418 L849.1867244243622,45.475971698760986 L851.4979422092438,47.88644313812256 L852.5468170642853,49.996134638786316 L852.2728562355042,51.767152547836304 L850.3566920757294,53.06116342544556 L847.6065069437027,53.85136008262634 L847.7379083633423,53.8221538066864 M955.8502316474915,32.91731774806976 L953.5370051860809,32.66502022743225 L950.1144468784332,33.34371745586395 L946.9613403081894,35.021230578422546 L944.89766061306,36.95175051689148 L944.1497653722763,38.95556926727295 L944.8851019144058,41.04059934616089 L946.8249768018723,43.2368278503418 L949.1867244243622,45.475971698760986 L951.4979422092438,47.88644313812256 L952.5468170642853,49.996134638786316 L952.2728562355042,51.767152547836304 L950.3566920757294,53.06116342544556 L947.6065069437027,53.85136008262634 L947.7379083633423,53.8221538066864 M1043.2407408952713,70.92592716217041 L1043.0895626544952,72.94984459877014 L1043.0555552244186,76.38404965400696 L1043.3754533529282,80.03394603729248 L1044.0835982561111,83.09365510940552 L1044.9153661727905,85.53761839866638 L1046.034950017929,87.30586171150208 L1047.2567439079285,87.68518567085266 L1048.7665385007858,86.07059121131897 L1050.839924812317,79.60445880889893 L1052.3498475551605,68.96896958351135 L1052.2962749004364,60.17540693283081 L1051.613461971283,56.46716356277466 L1050.2488195896149,56.01851940155029 L1047.9994893074036,57.19056725502014 L1045.821762084961,60.38088798522949 L1043.1463778018951,66.3311779499054 L1040.639528632164,72.15548157691956 L1039.5616263151169,76.05290412902832 L1038.9851838350296,78.5926103591919 L1038.7962967157364,79.81481552124023 L1038.7962967157364,79.81481552124023 M1149.141964316368,20.124804973602295 L1148.9859580993652,22.726130485534668 L1148.8299518823624,28.016117215156555 L1149.0498036146164,34.00273323059082 L1149.6001213788986,39.39065337181091 L1150.243455171585,44.45465803146362 L1150.9761929512024,48.92595410346985 L1151.1700451374054,49.76598918437958 L1151.1700451374054,49.76598918437958 M1251.5600621700287,38.533541560173035 L1251.2840270996094,38.04147243499756 L1250.0444173812866,37.2296929359436 L1247.2420126199722,37.21509575843811 L1243.4693276882172,38.84595334529877 L1240.5015587806702,41.32372438907623 L1238.395380973816,44.16445791721344 L1237.831512093544,46.94317579269409 L1238.8904213905334,49.264827370643616 L1241.5119647979736,50.21204352378845 L1245.315334200859,49.647024273872375 L1249.6215283870697,47.61768579483032 L1253.654384613037,43.765997886657715 L1256.8395137786865,38.597652316093445 L1258.8482856750488,32.647982239723206 L1259.2043697834015,26.70813798904419 L1258.6507618427277,21.666966378688812 L1257.4398934841156,18.572813272476196 L1256.2424957752228,17.09873229265213 L1254.8608601093292,17.675891518592834 L1253.8109362125397,20.006191730499268 L1253.185135126114,23.98563176393509 L1253.3767700195312,29.167982935905457 L1254.3387651443481,34.89108681678772 L1256.1448812484741,40.69526195526123 L1258.3976745605469,45.91632783412933 L1260.7831358909607,50.3229022026062 L1262.1684849262238,52.418094873428345 L1262.1684849262238,52.418094873428345 M1347.9993134737015,20.74882984161377 L1347.363930940628,22.710786759853363 L1346.1832642555237,26.920971274375916 L1345.1266050338745,32.60731399059296 L1344.4046348333359,37.724533677101135 L1344.356381893158,42.50146746635437 L1344.8983550071716,46.18974030017853 L1346.254476904869,48.84632229804993 L1348.1026917696,50.30060410499573 L1350.7822692394257,50.54602026939392 L1353.9919078350067,49.79349076747894 L1355.643618106842,49.1419643163681 L1355.643618106842,49.1419643163681 M1442.9017156362534,34.63338613510132 L1444.441419839859,34.538424015045166 L1448.0180978775024,34.47737991809845 L1452.5634407997131,34.47737991809845 L1456.7120492458344,34.35355722904205 L1457.0982813835144,34.32137370109558 L1457.0982813835144,34.32137370109558 M1553.1304776668549,41.65366590023041 L1552.1715700626373,41.41584932804108 L1548.4970897436142,41.52496159076691 L1545.8399921655655,42.54352152347565 L1543.561178445816,43.964698910713196 L1541.6988223791122,45.73047161102295 L1540.605029463768,47.671788930892944 L1540.2108550071716,49.87570345401764 L1540.898072719574,51.82223916053772 L1542.7427291870117,53.145939111709595 L1545.5915093421936,53.661078214645386 L1549.102821946144,53.192949295043945 L1552.9590845108032,51.411741971969604 L1556.283849477768,48.990559577941895 L1558.811902999878,46.08500003814697 L1559.7891449928284,43.050506711006165 L1559.2840790748596,40.52704870700836 L1557.709378004074,38.38080167770386 L1555.4128110408783,37.63666749000549 L1552.5189995765686,37.509435415267944 L1549.8791009187698,38.13424110412598 L1547.982269525528,38.84555399417877 L1547.982269525528,38.84555399417877 \"/>\n        </g>\n    </svg>"
     },
     "metadata": {},
     "output_type": "display_data"
    },
    {
     "name": "stdout",
     "output_type": "stream",
     "text": [
      "[472, 267, 755, 1307, 263, 571, 994, 1636, 378, 372]\n",
      "[328, 227, 962, 393, 317, 1979, 275, 310, 86, 445]\n",
      "[446, 1660, 391, 226, 429, 573, 344, 280, 220, 608]\n",
      "[283, 256, 267, 1020, 1361, 1099, 271, 79, 822, 183]\n",
      "[244, 703, 87, 1808, 1490, 1350, 995, 219, 17, 372]\n",
      "[17, 3, 183, 4, 464, 34, 512, 621, 1291, 1401]\n",
      "[3, 17, 12, 464, 183, 321, 449, 496, 301, 1291]\n",
      "Ground truth =>  [2, 472, 328, 446, 283, 244, 183, 3] \n",
      "\n",
      "Ground Truth:  It was sold to  (len=14)\n",
      "- Prediction:  It was sold to. (len=14)\n",
      "Normalized Levenshtein distance is: 0.06060606060606061\n",
      "Alternative Prediction 0:  It was sold to. (len=14)\n",
      "Alternative Prediction 1:  It was solld to. (len=15)\n",
      "Alternative Prediction 2:  It was suld to. (len=14)\n",
      "Alternative Prediction 3:  It was sld to. (len=13)\n",
      "Alternative Prediction 4:  It was saidld to. (len=16)\n",
      "Alternative Prediction 5:  It wassold to. (len=13)\n",
      "Alternative Prediction 6:  It was seld to. (len=14)\n",
      "Alternative Prediction 7:  It was Sld to. (len=13)\n",
      "Alternative Prediction 8:  It was ald to. (len=13)\n",
      "Alternative Prediction 9:  It was cold to. (len=14)\n"
     ]
    }
   ],
   "source": [
    "ind = random.choice(range(0, y_pred.shape[0]))\n",
    "print(\"Index:\", ind, \"\\n\")\n",
    "\n",
    "\n",
    "svg_str = strokes_to_svg(x_pred[ind], {'height':100, 'width':100}, d_gen.padding_value, BOS_IDX, EOS_IDX)\n",
    "display(SVG(data = svg_str))\n",
    "\n",
    "eos_tensor = torch.zeros(x_pred[ind].size(-1)) + d_gen.eos_idx\n",
    "\n",
    "prediction, (cross_att, dec_att, enc_att), token_ids, alternatives = model.predict_with_alternatives(x_pred[ind].unsqueeze(0), num_alternatives=10)\n",
    "prediction = prediction.replace(\" \", '').replace(\"Ġ\", \" \")\n",
    "\n",
    "gt = VOCAB.decode(y_pred[ind].tolist()).replace(\" \", '').replace(\"Ġ\", \" \")\n",
    "gt_list = [i for i in y_pred[ind].tolist() if i != 1]\n",
    "gt_length = len(gt)-2\n",
    "\n",
    "print(\"Ground truth => \", gt_list , '\\n')\n",
    "\n",
    "# Show ground truth and prediction along with the lengths of the words/glyphs\n",
    "print(f\"Ground Truth: {''.join(gt)} (len={gt_length})\")\n",
    "print(f\"- Prediction: {prediction} (len={len(prediction)-2})\")\n",
    "\n",
    "print(f\"Normalized Levenshtein distance is: {Levenshtein_Normalized_distance(gt, prediction)}\")\n",
    "\n",
    "min_ind=2\n",
    "max_ind=3\n",
    "last_alts = alternatives[min_ind:max_ind]\n",
    "last_alts = list(map(list, zip(*last_alts)))\n",
    "\n",
    "for i, alts in enumerate(last_alts):\n",
    "    indexes = token_ids\n",
    "    indexes[min_ind:max_ind] = alts\n",
    "    alt_prediction = VOCAB.decode(indexes).replace(\" \", '').replace(\"Ġ\", \" \")\n",
    "    print(f\"Alternative Prediction {i}: {alt_prediction} (len={len(alt_prediction)-2})\")"
   ],
   "metadata": {
    "collapsed": false
   }
  },
  {
   "cell_type": "markdown",
   "source": [
    "## Measures"
   ],
   "metadata": {
    "collapsed": false
   }
  },
  {
   "cell_type": "code",
   "execution_count": 11,
   "outputs": [
    {
     "name": "stdout",
     "output_type": "stream",
     "text": [
      "Generating datasets...\n",
      "\n",
      "\n",
      "Initializing cache...\n"
     ]
    },
    {
     "name": "stderr",
     "output_type": "stream",
     "text": [
      "Test set progress: 100%|██████████| 6/6 [00:57<00:00,  9.51s/it]\n"
     ]
    },
    {
     "name": "stdout",
     "output_type": "stream",
     "text": [
      "Processed test batch... (Total=6).\n"
     ]
    },
    {
     "name": "stderr",
     "output_type": "stream",
     "text": [
      "Train set progress: 0it [00:00, ?it/s]\n"
     ]
    },
    {
     "name": "stdout",
     "output_type": "stream",
     "text": [
      "Processed train batch... (Total=0).\n"
     ]
    },
    {
     "name": "stderr",
     "output_type": "stream",
     "text": [
      "Valid set progress: 0it [00:00, ?it/s]\n"
     ]
    },
    {
     "name": "stdout",
     "output_type": "stream",
     "text": [
      "Processed valid batch... (Total=0).\n",
      "Using cached dataset file in cache\\words_cache\\words_stroke_measure_test.h5\n",
      "cache\\preprocessed_datasets\\words_stroke_measure_test\\test.pt\n"
     ]
    },
    {
     "name": "stderr",
     "output_type": "stream",
     "text": [
      "100%|██████████| 6/6 [00:00<00:00, 27.52it/s]\n"
     ]
    }
   ],
   "source": [
    "words = ['Gold costs 10,000.',\n",
    "         'Gold weights 10,000.',\n",
    "         'Gold costs 10,000kg.',\n",
    "         'Gold weights 10,000.',\n",
    "         'Gold weights 10,000.',\n",
    "         'Gold costs kg10,000.']\n",
    "\n",
    "BRUSH_SPLIT=0.15\n",
    "d_gen = WordDatasetGenerator(vocab = VOCAB,\n",
    "                             expr_mode=\"all\",\n",
    "                             words=words,\n",
    "                             extended_dataset=False,\n",
    "                             train_split=0.0,\n",
    "                             valid_split=0.0,\n",
    "                             fname=\"words_stroke_measure_test\")\n",
    "d_gen.generate()\n",
    "_, _, test = d_gen.generate_from_cache()\n",
    "\n",
    "test_set = DataLoader(preprocess_dataset(test, VOCAB,  os.path.join(d_gen.fname, \"test.pt\"), total_len=d_gen.get_learning_set_length(\"test\")), batch_size=BATCH_SIZE, shuffle=False, collate_fn=pad_collate_fn)"
   ],
   "metadata": {
    "collapsed": false
   }
  },
  {
   "cell_type": "code",
   "execution_count": 12,
   "outputs": [],
   "source": [
    "test_set_iter = iter(test_set)\n",
    "x_pred, y_pred = next(test_set_iter)\n",
    "\n",
    "x_pred = x_pred.to(model.device)\n",
    "y_pred = y_pred.to(model.device)"
   ],
   "metadata": {
    "collapsed": false
   }
  },
  {
   "cell_type": "code",
   "execution_count": 18,
   "outputs": [
    {
     "name": "stdout",
     "output_type": "stream",
     "text": [
      "Index: 3 \n",
      "\n"
     ]
    },
    {
     "data": {
      "text/plain": "<IPython.core.display.SVG object>",
      "image/svg+xml": "<svg xmlns=\"http://www.w3.org/2000/svg\" width=\"1210\" height=\"55.00000000000001\" viewBox=\"0 0 2200 100\" style=\"background-color:white\" version=\"1.1\">\n        <title>Strokes</title>\n        <desc>Stroke Sequence</desc>\n        <g fill=\"#E0E0E0\" stroke=\"none\" stroke-width=\"3.3333333333333335\" stroke-linecap=\"round\" stroke-linejoin=\"round\">\n            <rect x=\"0\" y=\"0\" width=\"2200\" height=\"100\"/>&quot;\n        </g>\n        <g fill=\"#00D000\" stroke=\"none\" fill-opacity=\"0.58\">\n            <rect x=\"0\" y=\"0\" width=\"100\" height=\"100\"/>&quot;\n        </g>\n        <g fill=\"#D00000\" stroke=\"none\" fill-opacity=\"0.58\">\n            <rect x=\"2100\" y=\"0\" width=\"100\" height=\"100\"/>&quot;\n        </g>\n        <g fill=\"none\" stroke=\"#000000\" stroke-width=\"2.5\" stroke-linecap=\"round\" stroke-linejoin=\"round\">\n            <rect x=\"0\" y=\"0\" width=\"2200\" height=\"100\"/>&quot;\n        </g>\n        <g fill=\"none\" stroke=\"#303030\" stroke-dasharray=\"5.555555555555555,5.555555555555555\" stroke-width=\"2.0\" stroke-linecap=\"round\" stroke-linejoin=\"round\">\n            <line x1=\"100\" y1=\"0\" x2=\"100\" y2=\"100\"/>\n\t<line x1=\"200\" y1=\"0\" x2=\"200\" y2=\"100\"/>\n\t<line x1=\"300\" y1=\"0\" x2=\"300\" y2=\"100\"/>\n\t<line x1=\"400\" y1=\"0\" x2=\"400\" y2=\"100\"/>\n\t<line x1=\"500\" y1=\"0\" x2=\"500\" y2=\"100\"/>\n\t<line x1=\"600\" y1=\"0\" x2=\"600\" y2=\"100\"/>\n\t<line x1=\"700\" y1=\"0\" x2=\"700\" y2=\"100\"/>\n\t<line x1=\"800\" y1=\"0\" x2=\"800\" y2=\"100\"/>\n\t<line x1=\"900\" y1=\"0\" x2=\"900\" y2=\"100\"/>\n\t<line x1=\"1000\" y1=\"0\" x2=\"1000\" y2=\"100\"/>\n\t<line x1=\"1100\" y1=\"0\" x2=\"1100\" y2=\"100\"/>\n\t<line x1=\"1200\" y1=\"0\" x2=\"1200\" y2=\"100\"/>\n\t<line x1=\"1300\" y1=\"0\" x2=\"1300\" y2=\"100\"/>\n\t<line x1=\"1400\" y1=\"0\" x2=\"1400\" y2=\"100\"/>\n\t<line x1=\"1500\" y1=\"0\" x2=\"1500\" y2=\"100\"/>\n\t<line x1=\"1600\" y1=\"0\" x2=\"1600\" y2=\"100\"/>\n\t<line x1=\"1700\" y1=\"0\" x2=\"1700\" y2=\"100\"/>\n\t<line x1=\"1800\" y1=\"0\" x2=\"1800\" y2=\"100\"/>\n\t<line x1=\"1900\" y1=\"0\" x2=\"1900\" y2=\"100\"/>\n\t<line x1=\"2000\" y1=\"0\" x2=\"2000\" y2=\"100\"/>\n\t<line x1=\"2100\" y1=\"0\" x2=\"2100\" y2=\"100\"/>\n\t\n        </g>\n        <g fill=\"red\" font-size=\"1.6666666666666667em\" font-family=\"Arial\">\n            <text x=\"100\" y=\"95.0\">0</text>\n\t<text x=\"200\" y=\"95.0\">1</text>\n\t<text x=\"300\" y=\"95.0\">2</text>\n\t<text x=\"400\" y=\"95.0\">3</text>\n\t<text x=\"500\" y=\"95.0\">4</text>\n\t<text x=\"600\" y=\"95.0\">5</text>\n\t<text x=\"700\" y=\"95.0\">6</text>\n\t<text x=\"800\" y=\"95.0\">7</text>\n\t<text x=\"900\" y=\"95.0\">8</text>\n\t<text x=\"1000\" y=\"95.0\">9</text>\n\t<text x=\"1100\" y=\"95.0\">10</text>\n\t<text x=\"1200\" y=\"95.0\">11</text>\n\t<text x=\"1300\" y=\"95.0\">12</text>\n\t<text x=\"1400\" y=\"95.0\">13</text>\n\t<text x=\"1500\" y=\"95.0\">14</text>\n\t<text x=\"1600\" y=\"95.0\">15</text>\n\t<text x=\"1700\" y=\"95.0\">16</text>\n\t<text x=\"1800\" y=\"95.0\">17</text>\n\t<text x=\"1900\" y=\"95.0\">18</text>\n\t<text x=\"2000\" y=\"95.0\">19</text>\n\t<text x=\"2100\" y=\"95.0\">20</text>\n\t\n        </g>\n        <g fill=\"none\" stroke=\"black\" stroke-width=\"1.0\" stroke-linecap=\"round\" stroke-linejoin=\"round\">\n            <path d=\" M140.62221944332123,56.62221908569336 L137.86666691303253,60.00000238418579 L137.86666691303253,60.00000238418579 L135.466668009758,64.97777700424194 L134.48888659477234,70.2222228050232 L134.40000116825104,75.91111063957214 L135.466668009758,81.5999984741211 L137.6888871192932,85.68888902664185 L140.00000059604645,87.99999952316284 L142.22221970558167,88.71110677719116 L144.26666796207428,88.71110677719116 L145.86666524410248,87.11110949516296 L146.57777547836304,84.26666855812073 L146.66666686534882,81.24443888664246 L146.66666686534882,78.93333435058594 L145.60000002384186,77.33333110809326 L144.44444179534912,76.711106300354 L143.91110837459564,76.5333354473114 L143.7333345413208,76.5333354473114 L143.7333345413208,76.5333354473114 L143.8222199678421,76.5333354473114 L145.42222023010254,76.5333354473114 L147.28888869285583,76.5333354473114 L148.6222207546234,76.5333354473114 L149.3333339691162,76.62221789360046 M263.61111402511597,71.57407402992249 L263.0917012691498,72.88273572921753 L262.8504753112793,74.55079555511475 L263.11461329460144,76.59158110618591 L263.7115478515625,78.66540551185608 L264.68217968940735,80.94093799591064 L265.8500552177429,83.16358923912048 L267.21229553222656,85.18423438072205 L268.72488260269165,86.89125180244446 L270.54890990257263,88.09852600097656 L272.39405512809753,88.69970440864563 L274.4300305843353,88.79629373550415 L276.37982964515686,88.28049302101135 L277.9869616031647,87.3431146144867 L279.4698119163513,86.1432433128357 L280.3581953048706,84.61073040962219 L280.93743324279785,82.81281590461731 L281.0484826564789,80.85520267486572 L280.7129442691803,79.0122926235199 L279.97475266456604,77.32996344566345 L278.9135813713074,75.86214542388916 L277.5548219680786,74.78244304656982 L276.09342336654663,73.92633557319641 L274.3302881717682,73.14884662628174 L272.54454493522644,72.49484658241272 L270.735365152359,71.95354104042053 L269.13150548934937,71.70856595039368 L267.88179874420166,71.63389921188354 L267.0398533344269,71.89673781394958 L266.9444441795349,71.94444537162781 L266.9444441795349,71.94444537162781 M355.61599135398865,25.897035002708435 L353.8746476173401,29.379719495773315 L351.3445734977722,35.17150282859802 L348.7495332956314,42.244452238082886 L346.5631663799286,49.23558533191681 L345.05664706230164,55.916839838027954 L344.38400864601135,61.45899295806885 L344.87948417663574,65.19421935081482 L344.8515594005585,65.05460143089294 M448.5333323478699,58.93333554267883 L443.9999997615814,61.06666922569275 L443.9999997615814,61.06666922569275 L439.1999989748001,63.822221755981445 L436.5333318710327,66.84443950653076 L435.19999980926514,70.04444003105164 L435.19999980926514,73.86666536331177 L436.35555505752563,76.9777774810791 L439.11110758781433,79.37777638435364 L441.8666660785675,80.53333163261414 L444.3555533885956,80.53333163261414 L446.57777547836304,79.11111116409302 L448.3555555343628,75.19999742507935 L448.80000054836273,69.5111095905304 L448.26666712760925,62.84444332122803 L445.8666652441025,55.91110587120056 L443.46666634082794,49.86666738986969 L442.0444428920746,45.7777738571167 L441.5111094713211,43.11110973358154 L441.5111094713211,41.777774691581726 L441.5111094713211,41.688886284828186 L442.0444428920746,43.11110973358154 L443.46666634082794,47.999998927116394 L445.33333480358124,54.48888540267944 L448.1777757406235,61.68888807296753 L451.2000024318695,68.17777752876282 L454.04444336891174,73.33333492279053 L456.0888886451721,76.5333354473114 L458.3999991416931,78.84443998336792 M528.4259259700775,53.05555462837219 L528.616651892662,53.67680788040161 L529.2145848274231,55.83981275558472 L530.3715229034424,59.44790244102478 L531.6289097070694,63.49784731864929 L532.8797727823257,67.35490560531616 L534.3263357877731,70.87170481681824 L535.7790291309357,73.3934998512268 L537.2194468975067,74.70661401748657 L538.3697122335434,74.28737282752991 L539.526829123497,72.82225489616394 L540.8166587352753,70.31112909317017 L542.1247512102127,67.64946579933167 L543.3762162923813,65.44493436813354 L544.5374101400375,64.25907611846924 L545.7672655582428,64.608895778656 L547.1132695674896,66.29470586776733 L549.0063190460205,68.97243857383728 L551.1256098747253,71.87162041664124 L553.3564269542694,74.37494397163391 L555.5830121040344,76.06768608093262 L557.4790477752686,76.53284072875977 L559.067714214325,75.78102350234985 L560.4788064956665,73.82396459579468 L562.3652875423431,67.76947975158691 L562.8703713417053,65.83333611488342 L562.8703713417053,65.83333611488342 M644.071763753891,50.54602026939392 L644.8517948389053,50.234007835388184 L647.7510452270508,48.806777596473694 L650.9909808635712,46.82334363460541 L653.5352408885956,45.20789384841919 L654.9216091632843,43.74740123748779 L655.2117168903351,42.46820509433746 L654.1548073291779,41.44351780414581 L652.1459758281708,41.06876850128174 L649.8798757791519,41.57142639160156 L647.4589228630066,42.96255111694336 L645.3383982181549,45.22011876106262 L644.0444767475128,48.296889662742615 L643.7597513198853,51.53074264526367 L644.6347415447235,54.57506775856018 L646.5661376714706,57.14088678359985 L649.377965927124,58.8290810585022 L653.0789375305176,59.507209062576294 L656.2402486801147,59.43837761878967 L656.2402486801147,59.43837761878967 M743.2888865470886,67.55555272102356 L744.2666679620743,71.91110849380493 L744.2666679620743,71.91110849380493 L745.4222202301025,75.8222222328186 L746.1333334445953,78.75555157661438 L746.399998664856,80.0000011920929 L746.399998664856,80.17777800559998 M844.6222215890884,50.04444122314453 L845.5111086368561,48.177775740623474 L845.5111086368561,48.177775740623474 M954.0444433689117,34.7555547952652 L952.9777765274048,34.93333160877228 L952.9777765274048,34.93333160877228 L950.5777776241302,37.24444508552551 L947.3777741193771,42.044442892074585 L946.0444420576096,45.77777683734894 L946.0444420576096,49.86666440963745 L947.9999989271164,52.088892459869385 L951.1111080646515,52.53332853317261 L954.4888854026794,50.13332962989807 L956.8000018596649,46.0444450378418 L957.4222207069397,42.399996519088745 L957.4222207069397,39.11111056804657 L956.8000018596649,37.86666393280029 L955.8222234249115,37.77777850627899 L955.2888870239258,37.86666393280029 L955.1111102104187,39.64444398880005 L956.0000002384186,43.99999678134918 L957.7777743339539,48.08889031410217 L959.3777775764465,52.444446086883545 L959.7333312034607,56.08888864517212 L959.7333312034607,59.28888916969299 L958.4888875484467,61.77777647972107 L953.2444417476654,65.24444222450256 M1082.215291261673,24.02496039867401 L1082.0592820644379,24.648985266685486 L1081.3843369483948,27.893203496932983 L1080.8889210224152,32.88065195083618 L1080.602115392685,37.66392767429352 L1080.2767992019653,41.76020622253418 L1080.1070988178253,44.946640729904175 L1080.0312042236328,46.77661955356598 L1080.0312042236328,47.191888093948364 L1081.4700961112976,45.383161306381226 L1084.0368330478668,42.64023303985596 L1087.1204376220703,40.51564931869507 L1089.721667766571,40.24960994720459 L1092.3299252986908,41.32876992225647 L1094.3657040596008,43.40065121650696 L1095.822548866272,46.033573150634766 L1096.7246115207672,48.98892939090729 L1096.8798756599426,49.60998296737671 L1096.8798756599426,49.60998296737671 M1150.546020269394,25.897035002708435 L1150.3900170326233,26.36505365371704 L1149.6715903282166,28.988337516784668 L1148.3745783567429,32.915231585502625 L1146.9170302152634,37.301239371299744 L1145.9032446146011,41.0578727722168 L1145.709827542305,44.22973990440369 L1146.4881360530853,46.64328694343567 L1148.3400166034698,48.065945506095886 L1150.9418904781342,48.26594293117523 L1153.8482069969177,47.72922694683075 L1154.2901694774628,47.58190214633942 L1154.2901694774628,47.58190214633942 M1244.461777806282,36.97347939014435 L1246.9145387411118,36.24328672885895 L1250.7430136203766,35.443115234375 L1254.6214282512665,35.18474996089935 L1255.5382192134857,35.101404786109924 L1255.5382192134857,35.101404786109924 M1352.444440126419,68.3555543422699 L1351.377773284912,70.2222228050232 L1351.377773284912,70.2222228050232 L1350.4888892173767,72.44443893432617 L1350.1333355903625,74.22221899032593 L1350.1333355903625,75.1111090183258 L1350.2222180366516,75.28888583183289 L1352.7111113071442,75.28888583183289 L1355.1999986171722,75.28888583183289 L1356.800001859665,75.46666860580444 L1357.155555486679,76.35555267333984 L1357.155555486679,77.51110792160034 L1356.8888902664185,79.2888879776001 L1355.1999986171722,82.66666531562805 L1353.2444417476654,86.7555558681488 M1460.3999972343445,18.333333730697632 L1458.7999999523163,23.800000548362732 L1458.7999999523163,23.800000548362732 L1457.7333331108093,30.86666762828827 L1457.3333323001862,38.466668128967285 L1457.3333323001862,48.06666672229767 L1457.200002670288,58.20000171661377 L1457.200002670288,69.80000138282776 L1457.200002670288,81.66666626930237 M1548.933333158493,50.80000162124634 L1549.0666657686234,50.26666522026062 L1549.0666657686234,50.26666522026062 L1548.933333158493,50.26666522026062 L1546.1333334445953,51.99999809265137 L1541.9999986886978,56.66666626930237 L1539.0666663646698,63.066667318344116 L1537.8666669130325,69.19999718666077 L1538.1333321332932,72.39999771118164 L1541.7333334684372,73.33333492279053 L1547.3333328962326,71.60000205039978 L1552.7999997138977,67.1999990940094 L1556.6666662693024,61.59999966621399 L1557.99999833107,56.66666626930237 L1557.7333331108093,52.399998903274536 L1554.1333317756653,50.40000081062317 L1549.4666665792465,50.66666603088379 L1544.8000013828278,56.13333582878113 L1542.399999499321,62.5333309173584 M1666.4814829826355,61.29629611968994 L1666.7592585086823,61.29629611968994 L1668.347716331482,61.50365471839905 L1670.7587718963623,62.16650605201721 L1672.8316366672516,63.082486391067505 L1674.592363834381,64.11556601524353 L1675.7436394691467,65.23655652999878 L1675.9259283542633,65.55555462837219 L1675.9259283542633,65.55555462837219 M1743.866667151451,49.2000013589859 L1740.9333318471909,55.33333420753479 L1740.9333318471909,55.33333420753479 L1738.1333321332932,62.00000047683716 L1736.266666650772,68.66666674613953 L1735.466668009758,73.86666536331177 L1735.466668009758,79.06666398048401 L1736.6666674613953,83.06666612625122 L1740.4000014066696,85.73333621025085 L1745.3333348035812,87.06666827201843 L1750.8000016212463,87.06666827201843 L1757.200002670288,86.53333187103271 L1762.8000020980835,83.99999737739563 L1767.7333354949951,80.53333163261414 L1771.3333308696747,77.06666588783264 L1773.8666653633118,72.79999852180481 L1774.9333322048187,68.53333115577698 L1774.9333322048187,63.999998569488525 L1773.6000001430511,59.86666679382324 L1770.8000004291534,55.73333501815796 L1767.0666694641113,52.133333683013916 L1763.0666673183441,49.33333396911621 L1759.7333312034607,47.999998927116394 L1755.1999986171722,47.999998927116394 L1750.6666660308838,48.66666793823242 M1854.666668176651,26.66666805744171 L1853.600001335144,26.66666805744171 L1853.600001335144,26.66666805744171 L1852.7999997138977,26.66666805744171 L1851.7333328723907,26.66666805744171 L1850.6666660308838,26.80000066757202 L1849.4666665792465,27.59999930858612 L1847.7333337068558,29.066666960716248 L1845.7333326339722,31.466665863990784 L1843.7333345413208,33.5999995470047 L1841.9999986886978,36.266666650772095 L1840.5333340168,39.19999897480011 L1839.1999989748,42.399999499320984 L1837.8666669130325,45.73333263397217 L1836.9333326816559,49.06666576862335 L1836.3999992609024,52.533334493637085 L1836.266666650772,55.86666464805603 L1836.266666650772,59.20000076293945 L1836.266666650772,62.5333309173584 L1836.5333318710327,65.3333306312561 L1837.7333343029022,68.13333630561829 L1839.1999989748,70.26666402816772 L1841.2000000476837,72.79999852180481 L1843.0666655302048,74.6666669845581 L1845.8666652441025,76.39999985694885 L1848.133334517479,77.33333110809326 L1851.3333320617676,78.26666831970215 L1854.1333317756653,78.66666913032532 L1856.800001859665,78.79999876022339 L1860.0000023841858,78.79999876022339 L1862.9333317279816,78.39999794960022 L1865.333330631256,77.20000147819519 L1867.5999999046326,75.59999823570251 L1869.599997997284,73.60000014305115 L1871.3333308696747,71.46666646003723 L1872.6666688919067,68.4000015258789 L1873.6000001430511,65.3333306312561 L1874.1333305835724,62.13333606719971 L1874.4000017642975,58.799999952316284 L1874.5333313941956,56.40000104904175 L1874.5333313941956,53.60000133514404 L1874.5333313941956,50.93333125114441 L1873.7333357334137,48.26666712760925 L1872.7999985218048,45.46666741371155 L1871.7333316802979,42.66666769981384 L1870.8000004291534,40.40000140666962 L1869.599997997284,38.13333213329315 L1868.533331155777,35.866665840148926 L1867.5999999046326,34.26666557788849 L1866.5333330631256,32.53333270549774 L1865.6000018119812,30.933332443237305 L1864.3999993801117,29.733332991600037 L1863.5999977588654,28.40000092983246 L1862.666666507721,27.46666669845581 L1861.8666648864746,26.66666805744171 L1861.0666692256927,26.133334636688232 L1860.533332824707,25.733333826065063 L1860.0000023841858,25.600001215934753 L1859.4666659832,25.466665625572205 L1859.066665172577,25.466665625572205 L1858.6666643619537,25.466665625572205 L1858.266669511795,25.466665625572205 L1857.8666687011719,25.466665625572205 L1857.5999975204468,25.466665625572205 M1954.1333317756653,30.533334612846375 L1948.933333158493,33.46666693687439 L1948.933333158493,33.46666693687439 L1943.3333337306976,37.33333349227905 L1939.466667175293,40.40000140666962 L1936.0000014305115,44.93333399295807 L1933.333334326744,51.99999809265137 L1932.5333327054977,60.00000238418579 L1932.5333327054977,68.13333630561829 L1934.400001168251,74.53333139419556 L1936.8000000715256,78.66666913032532 L1940.266665816307,81.5999984741211 L1944.2666679620743,82.93333053588867 L1948.5333323478699,83.06666612625122 L1953.2000005245209,82.13333487510681 L1957.7333331108093,78.79999876022339 L1962.5333309173584,73.4666645526886 L1966.1333322525024,68.13333630561829 L1968.6666667461395,62.00000047683716 L1970.3999996185303,55.73333501815796 L1971.066665649414,50.66666603088379 L1971.066665649414,46.13333344459534 L1971.066665649414,42.66666769981384 L1969.4666683673859,39.19999897480011 L1966.399997472763,35.733333230018616 L1962.0000004768372,33.06666612625122 L1956.933331489563,30.933332443237305 L1953.2000005245209,29.866665601730347 L1949.4666665792465,29.199999570846558 L1946.9333320856094,28.933334350585938 M2050.0,59.5943808555603 L2050.0,59.5943808555603 \"/>\n        </g>\n    </svg>"
     },
     "metadata": {},
     "output_type": "display_data"
    },
    {
     "name": "stdout",
     "output_type": "stream",
     "text": [
      "[382, 1616, 408, 234, 304, 861, 308, 542, 1513, 341]\n",
      "[761, 489, 323, 513, 338, 579, 1099, 82, 1251, 248]\n",
      "[310, 772, 707, 317, 90, 934, 352, 227, 314, 508]\n",
      "[399, 764, 295, 256, 183, 702, 15, 329, 76, 274]\n",
      "[86, 1037, 15, 300, 446, 183, 226, 269, 558, 1480]\n",
      "[183, 244, 369, 468, 1272, 944, 703, 325, 1496, 267]\n",
      "[321, 496, 542, 4, 562, 449, 341, 459, 471, 1291]\n",
      "[301, 542, 464, 561, 471, 449, 341, 462, 496, 183]\n",
      "[301, 464, 462, 372, 341, 471, 542, 183, 561, 562]\n",
      "[301, 542, 464, 561, 471, 183, 3, 341, 462, 459]\n",
      "[464, 301, 3, 542, 183, 561, 1767, 471, 17, 459]\n",
      "[3, 301, 542, 464, 561, 183, 449, 341, 459, 562]\n",
      "Ground truth =>  [2, 382, 761, 310, 399, 86, 183, 321, 301, 462, 301, 301, 301, 464, 3] \n",
      "\n",
      "Ground Truth:  Gold weights  1 0 , 0 0 0 . (len=26)\n",
      "- Prediction:  Gold weights  1 0 0 0 . (len=22)\n",
      "Normalized Levenshtein distance is: 0.14285714285714285\n",
      "Alternative Prediction 0:  Gold weights  1 0 0 0 . (len=22)\n",
      "Alternative Prediction 1:  Gold weights  1 0 0 0 0 0 (len=24)\n",
      "Alternative Prediction 2:  Gold weights  1 0 0 0 6 (len=22)\n",
      "Alternative Prediction 3:  Gold weights  1 0 0 0 6 . (len=24)\n",
      "Alternative Prediction 4:  Gold weights  1 0 0 0  8 (len=23)\n",
      "Alternative Prediction 5:  Gold weights  1 0 0 0 8  (len=23)\n",
      "Alternative Prediction 6:  Gold weights  1 0 0 0 ? 5 (len=24)\n",
      "Alternative Prediction 7:  Gold weights  1 0 0 0 9 2 (len=24)\n",
      "Alternative Prediction 8:  Gold weights  1 0 0 0. 3 (len=23)\n",
      "Alternative Prediction 9:  Gold weights  1 0 0 0 3 7 (len=24)\n"
     ]
    }
   ],
   "source": [
    "ind = random.choice(range(0, y_pred.shape[0]))\n",
    "print(\"Index:\", ind, \"\\n\")\n",
    "\n",
    "\n",
    "svg_str = strokes_to_svg(x_pred[ind], {'height':100, 'width':100}, d_gen.padding_value, BOS_IDX, EOS_IDX)\n",
    "display(SVG(data = svg_str))\n",
    "\n",
    "eos_tensor = torch.zeros(x_pred[ind].size(-1)) + d_gen.eos_idx\n",
    "\n",
    "prediction, (cross_att, dec_att, enc_att), token_ids, alternatives = model.predict_with_alternatives(x_pred[ind].unsqueeze(0), num_alternatives=10)\n",
    "prediction = prediction.replace(\" \", '').replace(\"Ġ\", \" \")\n",
    "\n",
    "gt = VOCAB.decode(y_pred[ind].tolist()).replace(\" \", '').replace(\"Ġ\", \" \")\n",
    "gt_list = [i for i in y_pred[ind].tolist() if i != 1]\n",
    "gt_length = len(gt)-2\n",
    "\n",
    "print(\"Ground truth => \", gt_list , '\\n')\n",
    "\n",
    "# Show ground truth and prediction along with the lengths of the words/glyphs\n",
    "print(f\"Ground Truth: {''.join(gt)} (len={gt_length})\")\n",
    "print(f\"- Prediction: {prediction} (len={len(prediction)-2})\")\n",
    "\n",
    "print(f\"Normalized Levenshtein distance is: {Levenshtein_Normalized_distance(gt, prediction)}\")\n",
    "\n",
    "last_alts = alternatives[-2:]\n",
    "for i, (al1, al2) in enumerate(zip(last_alts[0], last_alts[1])):\n",
    "    indexes = token_ids[:-2] + [al1] + [al2]\n",
    "    alt_prediction = VOCAB.decode(indexes).replace(\" \", '').replace(\"Ġ\", \" \")\n",
    "    print(f\"Alternative Prediction {i}: {alt_prediction} (len={len(alt_prediction)-2})\")"
   ],
   "metadata": {
    "collapsed": false
   }
  }
 ],
 "metadata": {
  "kernelspec": {
   "display_name": "Python 3",
   "language": "python",
   "name": "python3"
  },
  "language_info": {
   "codemirror_mode": {
    "name": "ipython",
    "version": 2
   },
   "file_extension": ".py",
   "mimetype": "text/x-python",
   "name": "python",
   "nbconvert_exporter": "python",
   "pygments_lexer": "ipython2",
   "version": "2.7.6"
  }
 },
 "nbformat": 4,
 "nbformat_minor": 0
}
