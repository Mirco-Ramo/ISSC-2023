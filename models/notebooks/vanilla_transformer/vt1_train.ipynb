{
 "cells": [
  {
   "cell_type": "markdown",
   "metadata": {},
   "source": [
    "# v1 training"
   ]
  },
  {
   "cell_type": "code",
   "execution_count": null,
   "metadata": {},
   "outputs": [],
   "source": [
    "import os\n",
    "import sys\n",
    "import random\n",
    "import warnings\n",
    "import string\n",
    "import torch.nn as nn\n",
    "\n",
    "from pathlib import Path\n",
    "\n",
    "import torch as torch\n",
    "from IPython.display import SVG, display\n",
    "\n",
    "from torch.utils.data import DataLoader"
   ]
  },
  {
   "cell_type": "markdown",
   "metadata": {
    "id": "80xE4wAKbvQR"
   },
   "source": [
    "### Enable Hot Reload"
   ]
  },
  {
   "cell_type": "code",
   "execution_count": null,
   "metadata": {
    "id": "Snik4oyubvQS"
   },
   "outputs": [],
   "source": [
    "%load_ext autoreload\n",
    "%autoreload 2"
   ]
  },
  {
   "cell_type": "markdown",
   "metadata": {
    "id": "J2sSP8WcbvQT"
   },
   "source": [
    "### Edit Python path\n",
    "Add the `models` directory to Python's `path`."
   ]
  },
  {
   "cell_type": "code",
   "execution_count": null,
   "metadata": {
    "colab": {
     "base_uri": "https://localhost:8080/"
    },
    "executionInfo": {
     "elapsed": 207,
     "status": "ok",
     "timestamp": 1664284595628,
     "user": {
      "displayName": "MIRCO RAMO",
      "userId": "02615844185003710625"
     },
     "user_tz": -60
    },
    "id": "5HB7xdGfbvQU",
    "outputId": "10482a15-a222-4f8d-be01-a3cf59d7dc47",
    "pycharm": {
     "is_executing": true
    }
   },
   "outputs": [],
   "source": [
    "b_paths = [os.path.abspath(os.path.join('..', '..', '..')), os.path.abspath(os.path.join('..', '..')), os.path.abspath(os.path.join('..', '..', 'scripts'))]\n",
    "for b_path in b_paths:\n",
    "    if b_path not in sys.path:\n",
    "        sys.path.append(b_path)\n",
    "\n",
    "BASE_DIR = Path(os.getcwd()).parent.parent.parent.resolve()\n",
    "%cd $BASE_DIR"
   ]
  },
  {
   "cell_type": "markdown",
   "metadata": {
    "id": "G7WUHBU1bvQU"
   },
   "source": [
    "### Ignore Warnings"
   ]
  },
  {
   "cell_type": "code",
   "execution_count": null,
   "metadata": {
    "colab": {
     "base_uri": "https://localhost:8080/",
     "height": 17
    },
    "executionInfo": {
     "elapsed": 215,
     "status": "ok",
     "timestamp": 1664284567838,
     "user": {
      "displayName": "MIRCO RAMO",
      "userId": "02615844185003710625"
     },
     "user_tz": -60
    },
    "id": "kD9Z8SHDbvQV",
    "outputId": "059f0965-1067-4267-eaae-7cd839af2a60"
   },
   "outputs": [],
   "source": [
    "warnings.filterwarnings('ignore')"
   ]
  },
  {
   "cell_type": "markdown",
   "metadata": {
    "id": "er4sQYhSbvQW"
   },
   "source": [
    "### Import Helpers"
   ]
  },
  {
   "cell_type": "code",
   "execution_count": null,
   "metadata": {
    "colab": {
     "base_uri": "https://localhost:8080/"
    },
    "executionInfo": {
     "elapsed": 6738,
     "status": "ok",
     "timestamp": 1664284606393,
     "user": {
      "displayName": "MIRCO RAMO",
      "userId": "02615844185003710625"
     },
     "user_tz": -60
    },
    "id": "1HlPqaGlbvQX",
    "outputId": "91d61abe-dece-40c4-a21b-723968f3bf74"
   },
   "outputs": [],
   "source": [
    "from models.scripts.transformer.Transformer import Transformer\n",
    "from models.scripts.transformer.utils import strokes_to_svg, build_vocab, preprocess_dataset, seed_all, initialize_weights, pad_collate_fn, tensor_to_word\n",
    "from models.scripts.generate_dataset import WordDatasetGenerator, WordGenerator"
   ]
  },
  {
   "cell_type": "markdown",
   "metadata": {
    "id": "Cocc4NNgbvQY"
   },
   "source": [
    "### Configuration Settings"
   ]
  },
  {
   "cell_type": "code",
   "execution_count": null,
   "metadata": {
    "id": "nAkwfkkgbvQY"
   },
   "outputs": [],
   "source": [
    "VERSION = \"vt1\"\n",
    "SEED = 2021\n",
    "BATCH_SIZE = 256"
   ]
  },
  {
   "cell_type": "code",
   "execution_count": null,
   "metadata": {
    "id": "EdAaq7fdbvQZ"
   },
   "outputs": [],
   "source": [
    "seed_all(SEED) # Reproducibility"
   ]
  },
  {
   "cell_type": "markdown",
   "metadata": {
    "id": "EzDA6R8nbvQZ"
   },
   "source": [
    "### Create Vocabulary"
   ]
  },
  {
   "cell_type": "code",
   "execution_count": null,
   "metadata": {
    "id": "Dz6OIlHKbvQZ"
   },
   "outputs": [],
   "source": [
    "CHARS = list(string.ascii_letters)\n",
    "BLANK_SPACE = [\" \"]"
   ]
  },
  {
   "cell_type": "code",
   "execution_count": null,
   "metadata": {
    "colab": {
     "base_uri": "https://localhost:8080/"
    },
    "executionInfo": {
     "elapsed": 228,
     "status": "ok",
     "timestamp": 1664284611638,
     "user": {
      "displayName": "MIRCO RAMO",
      "userId": "02615844185003710625"
     },
     "user_tz": -60
    },
    "id": "oYcb0QzxbvQa",
    "outputId": "c1c9c785-7d99-475c-f0c7-d31ea2114e14",
    "pycharm": {
     "is_executing": true
    }
   },
   "outputs": [],
   "source": [
    "VOCAB = build_vocab(CHARS+BLANK_SPACE)\n",
    "\n",
    "N_TOKENS = len(VOCAB)\n",
    "PAD_IDX = VOCAB['<pad>']\n",
    "BOS_IDX = VOCAB['<bos>']\n",
    "EOS_IDX = VOCAB['<eos>']\n",
    "\n",
    "print(f\"Number of Tokens: {N_TOKENS}\\n\")\n",
    "print(VOCAB.freqs, \"\\n\") # Distribution\n",
    "print({VOCAB.itos[i]: i for i in range(N_TOKENS)}) # Token order"
   ]
  },
  {
   "cell_type": "markdown",
   "metadata": {
    "id": "oU1P_gmybvQb"
   },
   "source": [
    "### Generate Datasets"
   ]
  },
  {
   "cell_type": "code",
   "execution_count": null,
   "metadata": {
    "pycharm": {
     "is_executing": true
    }
   },
   "outputs": [],
   "source": [
    "use_cache = True\n",
    "\n",
    "if use_cache: # Generate from cache file\n",
    "    d_gen = WordDatasetGenerator(vocab = VOCAB, fname=\"words_stroke_100_155805\")\n",
    "    train, valid, test = d_gen.generate_from_cache()\n",
    "\n",
    "else: # Generate from scratch and cache (if regenerated, results could change)\n",
    "    news_commentary_path = os.path.join(BASE_DIR, \"word_sources\", \"news-commentary-v14.en\")\n",
    "    words = WordGenerator().generate_from_file(news_commentary_path)\n",
    "    BRUSH_SPLIT=0.15\n",
    "    d_gen = WordDatasetGenerator(vocab = VOCAB, words=words[:int(len(words)*(1-BRUSH_SPLIT))], extended_dataset=False)\n",
    "    d_gen.generate()\n",
    "    d_gen.add_training_words(words[int(len(words)*(1-BRUSH_SPLIT)):])\n",
    "    train, valid, test = d_gen.generate_from_cache()"
   ]
  },
  {
   "cell_type": "markdown",
   "metadata": {
    "id": "SZGUQxg0bvQc"
   },
   "source": [
    "### Create Dataset for PyTorch"
   ]
  },
  {
   "cell_type": "code",
   "execution_count": null,
   "metadata": {
    "id": "S3KZ5ZtIcdtp",
    "pycharm": {
     "is_executing": true
    }
   },
   "outputs": [],
   "source": [
    "train_set = DataLoader(preprocess_dataset(train, VOCAB,  os.path.join(d_gen.fname, \"train.pt\"), total_len=d_gen.get_learning_set_length(\"train\")), batch_size=BATCH_SIZE, shuffle=True, collate_fn=pad_collate_fn)\n",
    "valid_set = DataLoader(preprocess_dataset(valid, VOCAB,  os.path.join(d_gen.fname, \"valid.pt\"), total_len=d_gen.get_learning_set_length(\"valid\")), batch_size=BATCH_SIZE, shuffle=False, collate_fn=pad_collate_fn)"
   ]
  },
  {
   "cell_type": "markdown",
   "metadata": {
    "id": "nroj8HI2bvQd"
   },
   "source": [
    "### Inspect Generated Data"
   ]
  },
  {
   "cell_type": "code",
   "execution_count": null,
   "metadata": {
    "colab": {
     "base_uri": "https://localhost:8080/",
     "height": 1000
    },
    "executionInfo": {
     "elapsed": 1081,
     "status": "ok",
     "timestamp": 1664284625664,
     "user": {
      "displayName": "MIRCO RAMO",
      "userId": "02615844185003710625"
     },
     "user_tz": -60
    },
    "id": "2qPjagltbvQd",
    "outputId": "e34bab11-2772-408e-caef-244f0ce09914",
    "scrolled": false,
    "tags": [],
    "pycharm": {
     "is_executing": true
    }
   },
   "outputs": [],
   "source": [
    "# Get random index\n",
    "x_dummy, y_dummy = next(iter(valid_set)) # Create dummy for visualization\n",
    "ind = random.choice(range(y_dummy.shape[0]))\n",
    "print(\"Index:\", ind)\n",
    "\n",
    "print()\n",
    "print(\"X Shape:\", x_dummy[ind].shape)\n",
    "# Show actual expr for first tensor\n",
    "print(\"Y Shape:\", y_dummy[ind].shape)\n",
    "print(\"Label:\", tensor_to_word(y_dummy[ind], VOCAB))\n",
    "\n",
    "# Get length of subplot depending on granularity (exclude bos/eos for strokes)\n",
    "svg_str = strokes_to_svg(x_dummy[ind], {'height':100, 'width':100}, d_gen.padding_value, BOS_IDX, EOS_IDX)\n",
    "display(SVG(data = svg_str))\n",
    "\n",
    "\n",
    "print()\n",
    "print(f'X[{ind}]:', x_dummy[ind])\n",
    "print()\n",
    "\n",
    "eos_tensor = torch.zeros(x_dummy[ind].size(-1)) + EOS_IDX\n",
    "\n",
    "\n",
    "for i, row in enumerate(x_dummy[ind]):\n",
    "    if torch.all(row.eq(eos_tensor)):\n",
    "        print(\"EOS is in position:\", i)\n",
    "        break"
   ]
  },
  {
   "cell_type": "code",
   "execution_count": null,
   "metadata": {},
   "outputs": [],
   "source": [
    "vec_num=0\n",
    "print(f'X[{ind}][{vec_num}]:', x_dummy[ind][vec_num])\n",
    "svg_str = strokes_to_svg(x_dummy[ind][vec_num].unsqueeze(0), {'height':100, 'width':100}, d_gen.padding_value, BOS_IDX, EOS_IDX)\n",
    "display(SVG(data = svg_str))"
   ]
  },
  {
   "cell_type": "markdown",
   "metadata": {
    "id": "_Y52g6EGbvQd"
   },
   "source": [
    "### Model Hyper-parameters/Create Transformer Model"
   ]
  },
  {
   "cell_type": "code",
   "execution_count": null,
   "metadata": {
    "colab": {
     "base_uri": "https://localhost:8080/"
    },
    "executionInfo": {
     "elapsed": 225,
     "status": "ok",
     "timestamp": 1664284630640,
     "user": {
      "displayName": "MIRCO RAMO",
      "userId": "02615844185003710625"
     },
     "user_tz": -60
    },
    "id": "5faLPT6znNvp",
    "outputId": "835a815c-9e10-4a24-90d0-fbad0e0ec95b",
    "pycharm": {
     "is_executing": true
    }
   },
   "outputs": [],
   "source": [
    "model= Transformer(VERSION, VOCAB, n_tokens=N_TOKENS, encoder_name='v74-bpe', decoder_name='new')\n",
    "model.decoder.apply(initialize_weights)\n",
    "model.save_hyperparameters_to_json()\n",
    "model.count_parameters()\n",
    "print(f\"Encoder trainable parameters: {sum(p.numel() for p in model.encoder.parameters() if p.requires_grad):,}.\")\n",
    "print(f\"Decoder trainable parameters: {sum(p.numel() for p in model.decoder.parameters() if p.requires_grad):,}.\")\n",
    "print(\"\\n\\n\\n\", model)\n",
    "model.to(model.device)"
   ]
  },
  {
   "cell_type": "markdown",
   "metadata": {
    "id": "Zcv9CefYbvQf"
   },
   "source": [
    "### Training process along with best-model caching"
   ]
  },
  {
   "cell_type": "code",
   "execution_count": null,
   "metadata": {},
   "outputs": [],
   "source": [
    "LEARNING_RATE = 5e-4\n",
    "criterion = nn.CrossEntropyLoss(ignore_index=PAD_IDX)\n",
    "optimizer = torch.optim.Adam(model.parameters(), lr=LEARNING_RATE)\n",
    "scheduler = torch.optim.lr_scheduler.StepLR(optimizer, step_size=300, gamma=0.5)"
   ]
  },
  {
   "cell_type": "code",
   "execution_count": null,
   "metadata": {
    "id": "Ujh259JjbvQf",
    "scrolled": true,
    "pycharm": {
     "is_executing": true
    }
   },
   "outputs": [],
   "source": [
    "model.train_loop(resume=False,\n",
    "                 train_set=train_set,\n",
    "                 valid_set=valid_set,\n",
    "                 optimizer=optimizer,\n",
    "                 scheduler=scheduler,\n",
    "                 n_epochs=4000)"
   ]
  },
  {
   "cell_type": "markdown",
   "metadata": {
    "id": "BDW8kIJ6bvQg"
   },
   "source": [
    "### Plot Training  Logs"
   ]
  },
  {
   "cell_type": "code",
   "execution_count": null,
   "metadata": {
    "colab": {
     "base_uri": "https://localhost:8080/",
     "height": 444
    },
    "executionInfo": {
     "elapsed": 695,
     "status": "ok",
     "timestamp": 1664279955057,
     "user": {
      "displayName": "MIRCO RAMO",
      "userId": "02615844185003710625"
     },
     "user_tz": -60
    },
    "id": "YStBmrn4bvQg",
    "outputId": "1bde1e50-d5e5-4595-feca-282e254276e2",
    "pycharm": {
     "is_executing": true
    }
   },
   "outputs": [],
   "source": [
    "model.plot_training()"
   ]
  }
 ],
 "metadata": {
  "colab": {
   "authorship_tag": "ABX9TyN7/jxsE9d5e4/Vn7L+An+k",
   "collapsed_sections": [],
   "provenance": []
  },
  "gpuClass": "standard",
  "kernelspec": {
   "display_name": "Python 3 (ipykernel)",
   "language": "python",
   "name": "python3"
  },
  "language_info": {
   "codemirror_mode": {
    "name": "ipython",
    "version": 3
   },
   "file_extension": ".py",
   "mimetype": "text/x-python",
   "name": "python",
   "nbconvert_exporter": "python",
   "pygments_lexer": "ipython3",
   "version": "3.8.10"
  }
 },
 "nbformat": 4,
 "nbformat_minor": 1
}
